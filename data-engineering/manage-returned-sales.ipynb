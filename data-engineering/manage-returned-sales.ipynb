{
 "cells": [
  {
   "cell_type": "code",
   "execution_count": 8,
   "metadata": {},
   "outputs": [],
   "source": [
    "import pandas as pd\n",
    "import csv,os\n",
    "import time\n",
    "from datetime import datetime, date, time, timedelta\n",
    "import seaborn as sns"
   ]
  },
  {
   "cell_type": "code",
   "execution_count": 9,
   "metadata": {},
   "outputs": [],
   "source": [
    "#Define you directory\n",
    "data_dir = '/Users/nirajkulkarni/Desktop/Niraj/ISB-CBA/Capstone/data/'\n",
    "\n",
    "summarized_data_file = 'summarized_data-1.csv'"
   ]
  },
  {
   "cell_type": "code",
   "execution_count": 10,
   "metadata": {},
   "outputs": [
    {
     "name": "stderr",
     "output_type": "stream",
     "text": [
      "/Users/nirajkulkarni/anaconda3/lib/python3.7/site-packages/IPython/core/interactiveshell.py:3049: DtypeWarning: Columns (25) have mixed types. Specify dtype option on import or set low_memory=False.\n",
      "  interactivity=interactivity, compiler=compiler, result=result)\n"
     ]
    },
    {
     "data": {
      "text/html": [
       "<div>\n",
       "<style scoped>\n",
       "    .dataframe tbody tr th:only-of-type {\n",
       "        vertical-align: middle;\n",
       "    }\n",
       "\n",
       "    .dataframe tbody tr th {\n",
       "        vertical-align: top;\n",
       "    }\n",
       "\n",
       "    .dataframe thead th {\n",
       "        text-align: right;\n",
       "    }\n",
       "</style>\n",
       "<table border=\"1\" class=\"dataframe\">\n",
       "  <thead>\n",
       "    <tr style=\"text-align: right;\">\n",
       "      <th></th>\n",
       "      <th>Col_PK</th>\n",
       "      <th>Item_No</th>\n",
       "      <th>Location_Code</th>\n",
       "      <th>Purchase_MRP</th>\n",
       "      <th>Prevailing_MRP_as_on_Stock_Date</th>\n",
       "      <th>State</th>\n",
       "      <th>Region</th>\n",
       "      <th>Stock_Quantity</th>\n",
       "      <th>Days_In_Stock</th>\n",
       "      <th>Week_Start</th>\n",
       "      <th>...</th>\n",
       "      <th>Case_Material</th>\n",
       "      <th>Watchband_Strap_Type</th>\n",
       "      <th>Dial_Color</th>\n",
       "      <th>Case_Shape</th>\n",
       "      <th>Case_Size</th>\n",
       "      <th>Sales_Quantiy_In_Week</th>\n",
       "      <th>Days_To_Sell</th>\n",
       "      <th>Avg_Billing_In_Week</th>\n",
       "      <th>Purchase_Quantity</th>\n",
       "      <th>Total_Available_Qty</th>\n",
       "    </tr>\n",
       "  </thead>\n",
       "  <tbody>\n",
       "    <tr>\n",
       "      <th>0</th>\n",
       "      <td>5106817_S02</td>\n",
       "      <td>5106817</td>\n",
       "      <td>S02</td>\n",
       "      <td>63140.0</td>\n",
       "      <td>66300.0</td>\n",
       "      <td>ST05</td>\n",
       "      <td>West</td>\n",
       "      <td>1</td>\n",
       "      <td>2159 days 00:00:00.000000000</td>\n",
       "      <td>2019-11-24</td>\n",
       "      <td>...</td>\n",
       "      <td>STEEL</td>\n",
       "      <td>STEEL</td>\n",
       "      <td>WHITE</td>\n",
       "      <td>RECTANGULAR</td>\n",
       "      <td>32 mm</td>\n",
       "      <td>0.0</td>\n",
       "      <td>0 days 00:00:00.000000000</td>\n",
       "      <td>0.0</td>\n",
       "      <td>0.0</td>\n",
       "      <td>1.0</td>\n",
       "    </tr>\n",
       "    <tr>\n",
       "      <th>1</th>\n",
       "      <td>5106817_S23</td>\n",
       "      <td>5106817</td>\n",
       "      <td>S23</td>\n",
       "      <td>62500.0</td>\n",
       "      <td>66300.0</td>\n",
       "      <td>ST12</td>\n",
       "      <td>West</td>\n",
       "      <td>1</td>\n",
       "      <td>2351 days 00:00:00.000000000</td>\n",
       "      <td>2019-11-24</td>\n",
       "      <td>...</td>\n",
       "      <td>STEEL</td>\n",
       "      <td>STEEL</td>\n",
       "      <td>WHITE</td>\n",
       "      <td>RECTANGULAR</td>\n",
       "      <td>32 mm</td>\n",
       "      <td>0.0</td>\n",
       "      <td>0 days 00:00:00.000000000</td>\n",
       "      <td>0.0</td>\n",
       "      <td>0.0</td>\n",
       "      <td>1.0</td>\n",
       "    </tr>\n",
       "    <tr>\n",
       "      <th>2</th>\n",
       "      <td>5106817_S24</td>\n",
       "      <td>5106817</td>\n",
       "      <td>S24</td>\n",
       "      <td>48100.0</td>\n",
       "      <td>66300.0</td>\n",
       "      <td>ST16</td>\n",
       "      <td>South</td>\n",
       "      <td>1</td>\n",
       "      <td>2121 days 00:00:00.000000000</td>\n",
       "      <td>2019-11-24</td>\n",
       "      <td>...</td>\n",
       "      <td>STEEL</td>\n",
       "      <td>STEEL</td>\n",
       "      <td>WHITE</td>\n",
       "      <td>RECTANGULAR</td>\n",
       "      <td>32 mm</td>\n",
       "      <td>0.0</td>\n",
       "      <td>0 days 00:00:00.000000000</td>\n",
       "      <td>0.0</td>\n",
       "      <td>0.0</td>\n",
       "      <td>1.0</td>\n",
       "    </tr>\n",
       "  </tbody>\n",
       "</table>\n",
       "<p>3 rows × 29 columns</p>\n",
       "</div>"
      ],
      "text/plain": [
       "        Col_PK  Item_No Location_Code  Purchase_MRP  \\\n",
       "0  5106817_S02  5106817           S02       63140.0   \n",
       "1  5106817_S23  5106817           S23       62500.0   \n",
       "2  5106817_S24  5106817           S24       48100.0   \n",
       "\n",
       "   Prevailing_MRP_as_on_Stock_Date State Region  Stock_Quantity  \\\n",
       "0                          66300.0  ST05   West               1   \n",
       "1                          66300.0  ST12   West               1   \n",
       "2                          66300.0  ST16  South               1   \n",
       "\n",
       "                  Days_In_Stock  Week_Start  ...  Case_Material  \\\n",
       "0  2159 days 00:00:00.000000000  2019-11-24  ...          STEEL   \n",
       "1  2351 days 00:00:00.000000000  2019-11-24  ...          STEEL   \n",
       "2  2121 days 00:00:00.000000000  2019-11-24  ...          STEEL   \n",
       "\n",
       "   Watchband_Strap_Type Dial_Color   Case_Shape Case_Size  \\\n",
       "0                 STEEL      WHITE  RECTANGULAR     32 mm   \n",
       "1                 STEEL      WHITE  RECTANGULAR     32 mm   \n",
       "2                 STEEL      WHITE  RECTANGULAR     32 mm   \n",
       "\n",
       "  Sales_Quantiy_In_Week               Days_To_Sell Avg_Billing_In_Week  \\\n",
       "0                   0.0  0 days 00:00:00.000000000                 0.0   \n",
       "1                   0.0  0 days 00:00:00.000000000                 0.0   \n",
       "2                   0.0  0 days 00:00:00.000000000                 0.0   \n",
       "\n",
       "  Purchase_Quantity Total_Available_Qty  \n",
       "0               0.0                 1.0  \n",
       "1               0.0                 1.0  \n",
       "2               0.0                 1.0  \n",
       "\n",
       "[3 rows x 29 columns]"
      ]
     },
     "execution_count": 10,
     "metadata": {},
     "output_type": "execute_result"
    }
   ],
   "source": [
    "#read the data\n",
    "summarized_data = pd.read_csv(data_dir + summarized_data_file)\n",
    "summarized_data.head(3)"
   ]
  },
  {
   "cell_type": "code",
   "execution_count": 11,
   "metadata": {},
   "outputs": [
    {
     "name": "stdout",
     "output_type": "stream",
     "text": [
      "Positive weekly sales :  (20608, 29)\n",
      "Negative weekly sales :  (221, 29)\n",
      "Zero weekly sales :  (1011338, 29)\n",
      "(1032167, 29)\n"
     ]
    }
   ],
   "source": [
    "#Divide the dataframe in 3 buckets\n",
    "pos_sales = summarized_data[(summarized_data['Sales_Quantiy_In_Week'] > 0)]\n",
    "neg_sales = summarized_data[(summarized_data['Sales_Quantiy_In_Week'] < 0)]\n",
    "zero_sales = summarized_data[(summarized_data['Sales_Quantiy_In_Week'] == 0)]\n",
    "print(\"Positive weekly sales : \", pos_sales.shape)\n",
    "print(\"Negative weekly sales : \",neg_sales.shape)\n",
    "print(\"Zero weekly sales : \",zero_sales.shape)\n",
    "print(summarized_data.shape)"
   ]
  },
  {
   "cell_type": "code",
   "execution_count": 23,
   "metadata": {},
   "outputs": [
    {
     "name": "stdout",
     "output_type": "stream",
     "text": [
      "[-1. -2. -3. -5. -4.]\n",
      "-1.0    202\n",
      "-2.0     14\n",
      "-3.0      3\n",
      "-4.0      1\n",
      "-5.0      1\n",
      "Name: Sales_Quantiy_In_Week, dtype: int64\n"
     ]
    },
    {
     "data": {
      "text/plain": [
       "<matplotlib.axes._subplots.AxesSubplot at 0x1162bd978>"
      ]
     },
     "execution_count": 23,
     "metadata": {},
     "output_type": "execute_result"
    },
    {
     "data": {
      "image/png": "[encoded data removed]",
      "text/plain": [
       "<Figure size 432x288 with 1 Axes>"
      ]
     },
     "metadata": {
      "needs_background": "light"
     },
     "output_type": "display_data"
    }
   ],
   "source": [
    "print(neg_sales['Sales_Quantiy_In_Week'].unique())\n",
    "print(neg_sales.Sales_Quantiy_In_Week.value_counts())\n",
    "sns.distplot(neg_sales['Sales_Quantiy_In_Week'])"
   ]
  },
  {
   "cell_type": "code",
   "execution_count": 54,
   "metadata": {},
   "outputs": [
    {
     "data": {
      "image/png": "[encoded data removed]",
      "text/plain": [
       "<Figure size 432x288 with 1 Axes>"
      ]
     },
     "metadata": {
      "needs_background": "light"
     },
     "output_type": "display_data"
    }
   ],
   "source": [
    "import matplotlib.pyplot as plt\n",
    "x = neg_sales['Location_Code'].unique()\n",
    "y = neg_sales['Location_Code'].value_counts()\n",
    "plt.bar(x, y)\n",
    "# Limits for the Y axis\n",
    "plt.ylim(0,220)\n",
    "# Show graphic\n",
    "plt.show()"
   ]
  },
  {
   "cell_type": "code",
   "execution_count": 53,
   "metadata": {},
   "outputs": [
    {
     "data": {
      "text/plain": [
       "S110    182\n",
       "S28       4\n",
       "S06       4\n",
       "S133      3\n",
       "S44       3\n",
       "S65       3\n",
       "S43       2\n",
       "S03       2\n",
       "S99       2\n",
       "S107      2\n",
       "S141      1\n",
       "S31       1\n",
       "S62       1\n",
       "S102      1\n",
       "S126      1\n",
       "S08       1\n",
       "S106      1\n",
       "S111      1\n",
       "S07       1\n",
       "S140      1\n",
       "S33       1\n",
       "S91       1\n",
       "S109      1\n",
       "S121      1\n",
       "Name: Location_Code, dtype: int64"
      ]
     },
     "execution_count": 53,
     "metadata": {},
     "output_type": "execute_result"
    }
   ],
   "source": [
    "neg_sales['Location_Code'].value_counts()\n",
    "#neg_sales[neg_sales['Col_PK'] == 5187214]\n",
    "#sns.distplot(neg_sales['Location_Code'].value_counts(),kde = False)"
   ]
  },
  {
   "cell_type": "code",
   "execution_count": 5,
   "metadata": {},
   "outputs": [
    {
     "name": "stdout",
     "output_type": "stream",
     "text": [
      "<class 'numpy.ndarray'>\n",
      "49\n",
      "['2019-11-24' '2020-01-19' '2019-07-28' '2019-12-08' '2019-09-29'\n",
      " '2019-10-13' '2020-01-12' '2019-12-29' '2019-06-09' '2019-04-28'\n",
      " '2019-09-08' '2020-03-08' '2019-08-11' '2019-05-12' '2019-07-07'\n",
      " '2019-04-14' '2019-06-02' '2019-05-26' '2019-12-15' '2019-12-22'\n",
      " '2019-11-17' '2019-07-21' '2019-12-01' '2019-05-19' '2019-10-20'\n",
      " '2020-01-05' '2019-05-05' '2019-06-16' '2020-03-29' '2019-06-30'\n",
      " '2019-08-25' '2020-01-26' '2019-10-06' '2019-11-03' '2019-04-21'\n",
      " '2020-03-15' '2019-09-01' '2019-04-07' '2019-07-14' '2019-08-04'\n",
      " '2019-10-27' '2019-08-18' '2019-06-23' '2019-11-10' '2019-03-31'\n",
      " '2020-03-01' '2019-09-22' '2019-09-15' '2020-03-22']\n"
     ]
    }
   ],
   "source": [
    "#identify all the weeks\n",
    "all_weeks = summarized_data['Week_Start'].unique()\n",
    "print(type(all_weeks))\n",
    "print(len(all_weeks))\n",
    "print(all_weeks)\n"
   ]
  },
  {
   "cell_type": "code",
   "execution_count": 6,
   "metadata": {},
   "outputs": [
    {
     "data": {
      "text/plain": [
       "Col_PK                              object\n",
       "Item_No                              int64\n",
       "Location_Code                       object\n",
       "Purchase_MRP                       float64\n",
       "Prevailing_MRP_as_on_Stock_Date    float64\n",
       "State                               object\n",
       "Region                              object\n",
       "Stock_Quantity                       int64\n",
       "Days_In_Stock                       object\n",
       "Week_Start                          object\n",
       "Month                                int64\n",
       "Year                                 int64\n",
       "Store_Code                          object\n",
       "Store_type                          object\n",
       "Store_location                      object\n",
       "City_type                           object\n",
       "No_                                  int64\n",
       "Brand                               object\n",
       "Movement                            object\n",
       "Case_Material                       object\n",
       "Watchband_Strap_Type                object\n",
       "Dial_Color                          object\n",
       "Case_Shape                          object\n",
       "Case_Size                           object\n",
       "Sales_Quantiy_In_Week              float64\n",
       "Days_To_Sell                        object\n",
       "Avg_Billing_In_Week                float64\n",
       "Purchase_Quantity                  float64\n",
       "Total_Available_Qty                float64\n",
       "dtype: object"
      ]
     },
     "execution_count": 6,
     "metadata": {},
     "output_type": "execute_result"
    }
   ],
   "source": [
    "pos_sales.dtypes"
   ]
  },
  {
   "cell_type": "code",
   "execution_count": 7,
   "metadata": {},
   "outputs": [
    {
     "name": "stdout",
     "output_type": "stream",
     "text": [
      "Value is present in :  2020-01-12\n",
      "        Col_PK  Sales_Quantiy_In_Week_x  Sales_Quantiy_In_Week_y\n",
      "0  5159185_S62                     -1.0                      1.0\n",
      "Value is present in :  2019-07-21\n",
      "         Col_PK  Sales_Quantiy_In_Week_x  Sales_Quantiy_In_Week_y\n",
      "0  5154487_S110                     -1.0                      2.0\n",
      "1  5127520_S110                     -3.0                      1.0\n",
      "Value is present in :  2019-09-22\n",
      "         Col_PK  Sales_Quantiy_In_Week_x  Sales_Quantiy_In_Week_y\n",
      "0  5127520_S110                     -1.0                      1.0\n",
      "Value is present in :  2019-10-06\n",
      "         Col_PK  Sales_Quantiy_In_Week_x  Sales_Quantiy_In_Week_y\n",
      "0  5132154_S110                     -2.0                      1.0\n",
      "Value is present in :  2020-01-05\n",
      "        Col_PK  Sales_Quantiy_In_Week_x  Sales_Quantiy_In_Week_y\n",
      "0  5121914_S43                     -1.0                      1.0\n",
      "Value is present in :  2019-08-04\n",
      "         Col_PK  Sales_Quantiy_In_Week_x  Sales_Quantiy_In_Week_y\n",
      "0  5160242_S110                     -1.0                      1.0\n",
      "Value is present in :  2019-04-07\n",
      "        Col_PK  Sales_Quantiy_In_Week_x  Sales_Quantiy_In_Week_y\n",
      "0  5136095_S06                     -1.0                      1.0\n",
      "Value is present in :  2019-05-26\n",
      "         Col_PK  Sales_Quantiy_In_Week_x  Sales_Quantiy_In_Week_y\n",
      "0  5161685_S110                     -1.0                      1.0\n",
      "Value is present in :  2019-12-08\n",
      "         Col_PK  Sales_Quantiy_In_Week_x  Sales_Quantiy_In_Week_y\n",
      "0   5125750_S28                     -1.0                      1.0\n",
      "1  5132184_S133                     -1.0                      1.0\n",
      "2   5162466_S99                     -1.0                      1.0\n",
      "3  5157292_S110                     -1.0                      1.0\n",
      "4  5184806_S110                     -1.0                      1.0\n",
      "5   5179725_S99                     -1.0                      1.0\n",
      "Value is present in :  2019-12-15\n",
      "         Col_PK  Sales_Quantiy_In_Week_x  Sales_Quantiy_In_Week_y\n",
      "0   5110884_S06                     -1.0                      1.0\n",
      "1  5130161_S110                     -1.0                      1.0\n",
      "2  5160160_S110                     -1.0                      1.0\n",
      "Value is present in :  2019-07-14\n",
      "         Col_PK  Sales_Quantiy_In_Week_x  Sales_Quantiy_In_Week_y\n",
      "0  5157409_S126                     -1.0                      1.0\n",
      "Value is present in :  2019-11-24\n",
      "         Col_PK  Sales_Quantiy_In_Week_x  Sales_Quantiy_In_Week_y\n",
      "0  5136573_S121                     -1.0                      1.0\n",
      "1   5126001_S65                     -2.0                      1.0\n",
      "2  5127567_S110                     -1.0                      2.0\n",
      "Value is present in :  2019-10-13\n",
      "        Col_PK  Sales_Quantiy_In_Week_x  Sales_Quantiy_In_Week_y\n",
      "0  5111768_S06                     -1.0                      1.0\n",
      "1  5161499_S33                     -1.0                      1.0\n",
      "Value is present in :  2019-12-29\n",
      "         Col_PK  Sales_Quantiy_In_Week_x  Sales_Quantiy_In_Week_y\n",
      "0  5136580_S107                     -1.0                      1.0\n",
      "Value is present in :  2019-04-28\n",
      "         Col_PK  Sales_Quantiy_In_Week_x  Sales_Quantiy_In_Week_y\n",
      "0   5126403_S65                     -1.0                      1.0\n",
      "1  5185638_S110                     -2.0                      1.0\n",
      "Value is present in :  2019-08-25\n",
      "         Col_PK  Sales_Quantiy_In_Week_x  Sales_Quantiy_In_Week_y\n",
      "0  5132154_S110                     -1.0                      2.0\n",
      "Value is present in :  2019-10-20\n",
      "        Col_PK  Sales_Quantiy_In_Week_x  Sales_Quantiy_In_Week_y\n",
      "0  5157192_S44                     -1.0                      1.0\n"
     ]
    }
   ],
   "source": [
    "for week in all_weeks:\n",
    "    #print(\"Running for : \" + str(week))\n",
    "    curr_week = datetime.strptime(week, '%Y-%m-%d')\n",
    "    neg_process = neg_sales[neg_sales['Week_Start'] == week]\n",
    "    prev_week = curr_week - timedelta(days=7)\n",
    "    prev_week = str(prev_week)[0:10]\n",
    "    pos_process = pos_sales[pos_sales['Week_Start'] == prev_week]\n",
    "    zero_process = zero_sales[zero_sales['Week_Start'] == prev_week]\n",
    "    #print(\"Previous Week is : \" + prev_week)\n",
    "    #print(neg_process.shape)\n",
    "    #print(pos_process.shape)\n",
    "    #print(zero_process.shape)\n",
    "    #print(neg_process[['Col_PK','Sales_Quantiy_In_Week']])\n",
    "    \n",
    "    merged = pd.merge(neg_process[['Col_PK','Sales_Quantiy_In_Week']],pos_process[['Col_PK','Sales_Quantiy_In_Week']],\n",
    "                      how = 'inner',left_on=[\"Col_PK\"], right_on=[\"Col_PK\"],\n",
    "                      suffixes= ('_x', '_y')) #, indicator= True)\n",
    "    merged[['Col_PK','Sales_Quantiy_In_Week_x' ,'Sales_Quantiy_In_Week_y']] = merged[['Col_PK','Sales_Quantiy_In_Week_x' ,'Sales_Quantiy_In_Week_y']].fillna(0)\n",
    "    #print(merged)\n",
    "    if merged.empty is False:\n",
    "        print(\"Value is present in : \",prev_week)\n",
    "        print(merged)\n",
    "        \n",
    "    \n",
    "    "
   ]
  },
  {
   "cell_type": "code",
   "execution_count": null,
   "metadata": {},
   "outputs": [],
   "source": []
  }
 ],
 "metadata": {
  "kernelspec": {
   "display_name": "Python 3",
   "language": "python",
   "name": "python3"
  },
  "language_info": {
   "codemirror_mode": {
    "name": "ipython",
    "version": 3
   },
   "file_extension": ".py",
   "mimetype": "text/x-python",
   "name": "python",
   "nbconvert_exporter": "python",
   "pygments_lexer": "ipython3",
   "version": "3.7.1"
  }
 },
 "nbformat": 4,
 "nbformat_minor": 2
}

{
 "cells": [
  {
   "cell_type": "code",
   "execution_count": 33,
   "metadata": {},
   "outputs": [],
   "source": [
    "import pandas as pd\n",
    "import numpy as np\n",
    "from sklearn.model_selection import train_test_split\n",
    "from sklearn import metrics\n"
   ]
  },
  {
   "cell_type": "code",
   "execution_count": 34,
   "metadata": {},
   "outputs": [],
   "source": [
    "import seaborn as sns\n",
    "import matplotlib.pyplot as plt"
   ]
  },
  {
   "cell_type": "markdown",
   "metadata": {},
   "source": [
    "##### Reading data"
   ]
  },
  {
   "cell_type": "code",
   "execution_count": 35,
   "metadata": {},
   "outputs": [
    {
     "name": "stdout",
     "output_type": "stream",
     "text": [
      "(476711, 47)\n",
      "476711\n"
     ]
    }
   ],
   "source": [
    "dirpath = '/Users/parulgaba/Desktop/Capstone-Ethos/ConfidentialData/csvdata/'\n",
    "\n",
    "data_path = '/Users/parulgaba/Desktop/Capstone-Ethos/ethos-retail-model/data/'\n",
    "\n",
    "filename = data_path + 'regression_data/' + 'aggregated_summary_store_type_12_weeks.csv'\n",
    "chunksize = 10 ** 5\n",
    "rows=0\n",
    "summary_df = pd.DataFrame()\n",
    "for chunk in pd.read_csv(filename, chunksize=chunksize):\n",
    "    summary_df=pd.concat([summary_df,chunk])\n",
    "    rows+=chunk.shape[0]\n",
    "    \n",
    "summary_df.fillna(0)\n",
    "print(summary_df.shape)\n",
    "print (rows)"
   ]
  },
  {
   "cell_type": "code",
   "execution_count": 36,
   "metadata": {},
   "outputs": [],
   "source": [
    "summary_df['stock_prevailing_mrp'] = summary_df['stock_prevailing_mrp'].div(10000)\n",
    "summary_df['billing'] = summary_df['billing'].div(10000)"
   ]
  },
  {
   "cell_type": "code",
   "execution_count": 37,
   "metadata": {},
   "outputs": [
    {
     "name": "stdout",
     "output_type": "stream",
     "text": [
      "Unique items removed with no sales at all for all 3 three years : 4324\n"
     ]
    }
   ],
   "source": [
    "items_no_sales = summary_df.groupby(['item_no']).agg({'sales_quantity':'sum'}).reset_index()\n",
    "unique_item_no_sales = items_no_sales[items_no_sales['sales_quantity'] == 0]['item_no'].unique()\n",
    "summary_df = summary_df[~summary_df['item_no'].isin(unique_item_no_sales)]\n",
    "print(\"Unique items removed with no sales at all for all 3 three years : \" + str(len(unique_item_no_sales)))"
   ]
  },
  {
   "cell_type": "code",
   "execution_count": 38,
   "metadata": {},
   "outputs": [
    {
     "data": {
      "text/plain": [
       "(438196, 47)"
      ]
     },
     "execution_count": 38,
     "metadata": {},
     "output_type": "execute_result"
    }
   ],
   "source": [
    "summary_df.shape"
   ]
  },
  {
   "cell_type": "code",
   "execution_count": 39,
   "metadata": {},
   "outputs": [],
   "source": [
    "summary_df['item_no']=summary_df['item_no'].astype(str)\n",
    "summary_df['period']=summary_df['period'].astype(int)\n",
    "summary_df['case_shape']=summary_df['case_shape'].astype(str)\n"
   ]
  },
  {
   "cell_type": "code",
   "execution_count": 40,
   "metadata": {},
   "outputs": [
    {
     "data": {
      "text/plain": [
       "14749"
      ]
     },
     "execution_count": 40,
     "metadata": {},
     "output_type": "execute_result"
    }
   ],
   "source": [
    "len(summary_df['item_no'].unique())"
   ]
  },
  {
   "cell_type": "code",
   "execution_count": 41,
   "metadata": {},
   "outputs": [],
   "source": [
    "brands = summary_df['brand'].unique()"
   ]
  },
  {
   "cell_type": "code",
   "execution_count": 42,
   "metadata": {},
   "outputs": [],
   "source": [
    "item_cols = ['case_size_range', 'gender','movement', 'material', 'dial_color', 'strap_type', 'strap_color','precious_stone', 'glass', 'case_shape', 'watch_type']\n",
    "\n"
   ]
  },
  {
   "cell_type": "code",
   "execution_count": 43,
   "metadata": {},
   "outputs": [],
   "source": [
    "import warnings\n",
    "warnings.filterwarnings('ignore')\n",
    "#warnings.filterwarnings(action='once')\n",
    "\n",
    "# Create a new df with Other items\n",
    "\n",
    "summary_item_pareto_final = pd.DataFrame()\n",
    "list = []\n",
    "item_mapping_list = []\n",
    "for brand in brands:\n",
    "    items_combined_df = pd.DataFrame()\n",
    "\n",
    "    summary_by_brand_df = summary_df[summary_df['brand'] == brand]\n",
    "    item_series = summary_by_brand_df.fillna(0).groupby('item_no').agg({'billing':'sum'}).sort_values('billing',ascending=False)\n",
    "    items_combined_df = pd.concat([items_combined_df, item_series])\n",
    "    \n",
    "    mask=items_combined_df.cumsum()/items_combined_df.sum()>0.95\n",
    "    mask=mask.iloc[:,0]\n",
    "    \n",
    "    levels=len(summary_by_brand_df['item_no'].unique())\n",
    "    \n",
    "    if levels > 100:\n",
    "        summary_by_brand_df['brand'] = np.where(summary_by_brand_df['item_no'].isin(item_series[mask].index),'Others',summary_by_brand_df['brand'])         \n",
    "        summary_by_brand_df['item_no'] = np.where(summary_by_brand_df['item_no'].isin(item_series[mask].index),'Others',summary_by_brand_df['item_no'])\n",
    "        item_mapping_list = item_mapping_list + item_series[mask].index.to_list()\n",
    "        for col in item_cols:\n",
    "            if summary_df[col].mode()[0] == 'NaN':\n",
    "                print(brand)\n",
    "                print (col)\n",
    "                print(summary_df[col].mode()[0])\n",
    "            summary_by_brand_df[col] = np.where(summary_by_brand_df['item_no'].isin(item_series[mask].index),summary_df[col].mode()[0],summary_by_brand_df[col])\n",
    "    \n",
    "    new_levels=len(summary_by_brand_df['item_no'].unique())\n",
    "    \n",
    "    freq=summary_by_brand_df['item_no'].value_counts()/summary_by_brand_df['item_no'].value_counts().sum()*100\n",
    "    freq=freq.round(2)\n",
    "    \n",
    "    sale_qty=summary_by_brand_df.groupby(['item_no']).agg({'sales_quantity':'sum'}).sort_values('sales_quantity',ascending=False)\n",
    "    sale_qty=sale_qty/sale_qty.sum()*100\n",
    "    sale_qty=sale_qty.round(2)\n",
    "    \n",
    "    try:\n",
    "        Other_Sales_Qty=sale_qty['sales_quantity']['Others']\n",
    "    except:\n",
    "        Other_Sales_Qty=0\n",
    "    bill=summary_by_brand_df.groupby(['item_no']).agg({'billing':'sum'}).sort_values('billing',ascending=False)\n",
    "    bill=bill/bill.sum()*100\n",
    "    bill=bill.round(2)\n",
    "    try:\n",
    "        Other_bill=bill['billing']['Others']\n",
    "    except:\n",
    "        Other_bill=0\n",
    "        \n",
    "    list.append([brand, levels, new_levels,Other_bill,Other_Sales_Qty])\n",
    "    \n",
    "    cols=['Brand', 'Orig SKU count', 'New SKU count', 'Other%(Billing)', 'Other%(Sales Qty)']\n",
    "    item_pareto_summary = pd.DataFrame(list, columns=cols)\n",
    "    item_pareto_summary=item_pareto_summary.set_index(\"Brand\")\n",
    "    \n",
    "    summary_item_pareto_final = pd.concat([summary_item_pareto_final, summary_by_brand_df])\n",
    "#items_combined_df.head(5)\n"
   ]
  },
  {
   "cell_type": "code",
   "execution_count": 44,
   "metadata": {},
   "outputs": [
    {
     "name": "stdout",
     "output_type": "stream",
     "text": [
      "10589\n"
     ]
    }
   ],
   "source": [
    "print (len(summary_item_pareto_final['item_no'].unique()))"
   ]
  },
  {
   "cell_type": "code",
   "execution_count": 45,
   "metadata": {},
   "outputs": [
    {
     "data": {
      "text/html": [
       "<div>\n",
       "<style scoped>\n",
       "    .dataframe tbody tr th:only-of-type {\n",
       "        vertical-align: middle;\n",
       "    }\n",
       "\n",
       "    .dataframe tbody tr th {\n",
       "        vertical-align: top;\n",
       "    }\n",
       "\n",
       "    .dataframe thead th {\n",
       "        text-align: right;\n",
       "    }\n",
       "</style>\n",
       "<table border=\"1\" class=\"dataframe\">\n",
       "  <thead>\n",
       "    <tr style=\"text-align: right;\">\n",
       "      <th></th>\n",
       "      <th>Orig SKU count</th>\n",
       "      <th>New SKU count</th>\n",
       "      <th>Other%(Billing)</th>\n",
       "      <th>Other%(Sales Qty)</th>\n",
       "    </tr>\n",
       "    <tr>\n",
       "      <th>Brand</th>\n",
       "      <th></th>\n",
       "      <th></th>\n",
       "      <th></th>\n",
       "      <th></th>\n",
       "    </tr>\n",
       "  </thead>\n",
       "  <tbody>\n",
       "    <tr>\n",
       "      <th>B046</th>\n",
       "      <td>156</td>\n",
       "      <td>119</td>\n",
       "      <td>5.10</td>\n",
       "      <td>22.17</td>\n",
       "    </tr>\n",
       "    <tr>\n",
       "      <th>B124</th>\n",
       "      <td>120</td>\n",
       "      <td>84</td>\n",
       "      <td>5.14</td>\n",
       "      <td>19.76</td>\n",
       "    </tr>\n",
       "    <tr>\n",
       "      <th>B023</th>\n",
       "      <td>197</td>\n",
       "      <td>138</td>\n",
       "      <td>5.11</td>\n",
       "      <td>19.24</td>\n",
       "    </tr>\n",
       "    <tr>\n",
       "      <th>B094</th>\n",
       "      <td>591</td>\n",
       "      <td>409</td>\n",
       "      <td>5.02</td>\n",
       "      <td>17.50</td>\n",
       "    </tr>\n",
       "    <tr>\n",
       "      <th>B014</th>\n",
       "      <td>391</td>\n",
       "      <td>258</td>\n",
       "      <td>5.07</td>\n",
       "      <td>13.97</td>\n",
       "    </tr>\n",
       "  </tbody>\n",
       "</table>\n",
       "</div>"
      ],
      "text/plain": [
       "       Orig SKU count  New SKU count  Other%(Billing)  Other%(Sales Qty)\n",
       "Brand                                                                   \n",
       "B046              156            119             5.10              22.17\n",
       "B124              120             84             5.14              19.76\n",
       "B023              197            138             5.11              19.24\n",
       "B094              591            409             5.02              17.50\n",
       "B014              391            258             5.07              13.97"
      ]
     },
     "execution_count": 45,
     "metadata": {},
     "output_type": "execute_result"
    }
   ],
   "source": [
    "item_pareto_summary.sort_values(by = ['Other%(Sales Qty)'], ascending=False).head()"
   ]
  },
  {
   "cell_type": "code",
   "execution_count": 46,
   "metadata": {},
   "outputs": [
    {
     "data": {
      "text/plain": [
       "(26292, 47)"
      ]
     },
     "execution_count": 46,
     "metadata": {},
     "output_type": "execute_result"
    }
   ],
   "source": [
    "summary_item_pareto_final[summary_item_pareto_final['item_no'] == 'Others'].shape"
   ]
  },
  {
   "cell_type": "code",
   "execution_count": 47,
   "metadata": {},
   "outputs": [
    {
     "name": "stdout",
     "output_type": "stream",
     "text": [
      "14749\n",
      "10589\n"
     ]
    }
   ],
   "source": [
    "print (len(summary_df['item_no'].unique()))\n",
    "print (len(summary_item_pareto_final['item_no'].unique()))"
   ]
  },
  {
   "cell_type": "code",
   "execution_count": 48,
   "metadata": {},
   "outputs": [
    {
     "data": {
      "text/plain": [
       "4159"
      ]
     },
     "execution_count": 48,
     "metadata": {},
     "output_type": "execute_result"
    }
   ],
   "source": [
    "len(item_mapping_list)"
   ]
  },
  {
   "cell_type": "code",
   "execution_count": 49,
   "metadata": {},
   "outputs": [
    {
     "data": {
      "text/plain": [
       "(412140, 47)"
      ]
     },
     "execution_count": 49,
     "metadata": {},
     "output_type": "execute_result"
    }
   ],
   "source": [
    "summarize_method = {\n",
    "        'brand' :'first', 'store_location' :'first',\n",
    "       'city_type' :'first', 'region' :'first', 'quantity' :'mean', 'purchase_quantity' :'mean',\n",
    "       'transfer_quantity' :'mean', 'available_quantity' :'mean', 'sales_quantity' :'mean',\n",
    "       'purchase_cost_amount' :'mean', 'purchase_mrp' :'mean', 'purchase_date' :'first',\n",
    "       'stock_prevailing_mrp' :'mean', 'store_in' :'first', 'product_group_code' :'first',\n",
    "       'transfer_cost_amount' :'mean', 'sales_department' :'first', 'days_to_sell' :'mean',\n",
    "       'num_of_customers' :'mean', 'total_price' :'mean', 'line_discount' :'mean', 'crm_line_discount' :'mean',\n",
    "       'discount' :'mean', 'tax' :'mean', 'cost' :'mean', 'billing' :'mean', 'contribution' :'mean', 'trade_incentive' :'mean',\n",
    "       'trade_incentive_value' :'mean', 'total_contribution' :'mean', 'case_size' :'mean',\n",
    "       'case_size_range' :'first', 'gender' :'first', 'movement' :'first', 'material' :'first', 'dial_color' :'first',\n",
    "       'strap_type' :'first', 'strap_color' :'first', 'precious_stone' :'first', 'glass' :'first', 'case_shape' :'first',\n",
    "       'watch_type' :'first', 'area_code' :'first'\n",
    "}\n",
    "\n",
    "\n",
    "sales_sum_df = summary_item_pareto_final.groupby(['store_type','item_no','period','state']).agg(summarize_method).reset_index()\n",
    "sales_sum_df.shape\n",
    "\n"
   ]
  },
  {
   "cell_type": "markdown",
   "metadata": {},
   "source": [
    "## Adding log S/So - Location code"
   ]
  },
  {
   "cell_type": "code",
   "execution_count": 50,
   "metadata": {},
   "outputs": [],
   "source": [
    "#reading market shares\n",
    "market_share=pd.read_excel(data_path + \"market_share_encoded.xlsx\", header=0,index_col=0)\n",
    "\n",
    "#computing market size for each state-period\n",
    "market_sizes=sales_sum_df.groupby(['state','period']).agg({'sales_quantity':'sum'})\n",
    "market_sizes=market_sizes.reset_index()\n",
    "market_sizes=pd.merge(market_sizes,market_share, left_on='state', right_on='SubCode', how='left')#.drop('Attribute_x', axis=1)\n",
    "market_sizes['Market Size']=market_sizes['sales_quantity'].div(market_sizes['Market Share'], axis=0)\n",
    "\n",
    "#computing number of stores per state\n",
    "x=sales_sum_df.groupby(['state','period'])['store_type'].unique()\n",
    "l=[]\n",
    "store_nos=pd.DataFrame()\n",
    "for i in range(len(x)):\n",
    "    l.append([x.index[i][0],x.index[i][1],len(x[i])])\n",
    "cols=['state','period','Store numbers']\n",
    "store_nos = pd.DataFrame(l, columns=cols)\n",
    "\n",
    "#merging market sizes with number of stores per market\n",
    "market_sizes=pd.merge(market_sizes,store_nos, how='inner')\n",
    "\n",
    "#computing market size per store\n",
    "market_sizes['per store market']=market_sizes['Market Size']/market_sizes['Store numbers']\n",
    "\n",
    "#adding market share per store-period to the main data\n",
    "market_sizes=market_sizes[['state','period','per store market']]#extracting only relevant columns from market_sizes\n",
    "merge_cols=['state','period']\n",
    "summary_with_market_shares=pd.merge(sales_sum_df,market_sizes, on=merge_cols,how='inner')\n",
    "\n",
    "#computing So\n",
    "\n",
    "# summary_with_market_shares['so'] = summary_with_market_shares['per store type market']-summary_with_market_shares['sales_quantity']\n",
    "\n",
    "summary_with_market_shares['so']=summary_with_market_shares['per store market']-summary_with_market_shares['sales_quantity']\n",
    "summary_with_market_shares = summary_with_market_shares.fillna(0)[summary_with_market_shares['so'] != 0]\n",
    "\n",
    "#computing log(S/So) [replacing zeros with 1e-08 so that logs dont create a problem]\n",
    "summary_with_market_shares['so']=summary_with_market_shares['sales_quantity'].div(summary_with_market_shares['so'],axis=0)\n",
    "summary_with_market_shares['so'] = summary_with_market_shares['so'].replace(0,10**(-5))\n",
    "\n",
    "summary_with_market_shares['so']=np.log(summary_with_market_shares['so'])\n",
    "\n"
   ]
  },
  {
   "cell_type": "code",
   "execution_count": 51,
   "metadata": {},
   "outputs": [
    {
     "name": "stdout",
     "output_type": "stream",
     "text": [
      "0\n"
     ]
    }
   ],
   "source": [
    "print(len(summary_with_market_shares[summary_with_market_shares['so'].isin([np.inf, -np.inf, np.nan])]))\n"
   ]
  },
  {
   "cell_type": "code",
   "execution_count": 52,
   "metadata": {},
   "outputs": [],
   "source": [
    "#summary_with_market_shares = summary_with_market_shares[~(summary_with_market_shares['so'].isin([np.inf, -np.inf, np.nan]))]"
   ]
  },
  {
   "cell_type": "code",
   "execution_count": 53,
   "metadata": {},
   "outputs": [
    {
     "data": {
      "text/html": [
       "<div>\n",
       "<style scoped>\n",
       "    .dataframe tbody tr th:only-of-type {\n",
       "        vertical-align: middle;\n",
       "    }\n",
       "\n",
       "    .dataframe tbody tr th {\n",
       "        vertical-align: top;\n",
       "    }\n",
       "\n",
       "    .dataframe thead th {\n",
       "        text-align: right;\n",
       "    }\n",
       "</style>\n",
       "<table border=\"1\" class=\"dataframe\">\n",
       "  <thead>\n",
       "    <tr style=\"text-align: right;\">\n",
       "      <th></th>\n",
       "      <th>sales_quantity</th>\n",
       "      <th>per store market</th>\n",
       "      <th>so</th>\n",
       "    </tr>\n",
       "  </thead>\n",
       "  <tbody>\n",
       "  </tbody>\n",
       "</table>\n",
       "</div>"
      ],
      "text/plain": [
       "Empty DataFrame\n",
       "Columns: [sales_quantity, per store market, so]\n",
       "Index: []"
      ]
     },
     "execution_count": 53,
     "metadata": {},
     "output_type": "execute_result"
    }
   ],
   "source": [
    "#checking for NaNs\n",
    "d=summary_with_market_shares[['sales_quantity','per store market','so']]\n",
    "d[d.isna().any(axis=1)]"
   ]
  },
  {
   "cell_type": "code",
   "execution_count": 54,
   "metadata": {},
   "outputs": [
    {
     "data": {
      "text/plain": [
       "0   -11.512925\n",
       "1   -11.512925\n",
       "2   -11.512925\n",
       "3   -11.512925\n",
       "4   -11.512925\n",
       "Name: so, dtype: float64"
      ]
     },
     "execution_count": 54,
     "metadata": {},
     "output_type": "execute_result"
    }
   ],
   "source": [
    "summary_with_market_shares['so'].head()"
   ]
  },
  {
   "cell_type": "code",
   "execution_count": 55,
   "metadata": {},
   "outputs": [
    {
     "data": {
      "text/plain": [
       "0    2374.581427\n",
       "1    2374.581427\n",
       "2    2374.581427\n",
       "3    2374.581427\n",
       "4    2374.581427\n",
       "Name: per store market, dtype: float64"
      ]
     },
     "execution_count": 55,
     "metadata": {},
     "output_type": "execute_result"
    }
   ],
   "source": [
    "summary_with_market_shares['per store market'].head()"
   ]
  },
  {
   "cell_type": "code",
   "execution_count": 56,
   "metadata": {},
   "outputs": [],
   "source": [
    "#summary_with_market_shares.to_excel(data_path + 'summary_with_market_shares_pd14.xlsx')\n",
    "summary_with_market_shares['period'] = summary_with_market_shares['period'].astype('int')\n"
   ]
  },
  {
   "cell_type": "code",
   "execution_count": 82,
   "metadata": {},
   "outputs": [],
   "source": [
    "#extracting specific columns\n",
    "\n",
    "col=[ 'item_no','period', 'state', 'region',\n",
    "       'brand', 'stock_prevailing_mrp', 'store_type', 'store_location', 'city_type', 'case_size_range',\n",
    "       'gender', 'movement', 'material', 'dial_color', 'strap_type',\n",
    "       'strap_color', 'precious_stone', 'glass', 'case_shape', 'watch_type','billing','sales_quantity','so']\n",
    "\n",
    "summary_final=summary_with_market_shares.loc[:,col]\n",
    "#df_north_final.fillna(0, inplace=True)\n",
    "\n",
    "summary_final['item_no']=summary_final['item_no'].astype(str)\n",
    "summary_final['period']=summary_final['period'].astype(int)\n",
    "summary_final['case_shape']=summary_final['case_shape'].astype(str)\n"
   ]
  },
  {
   "cell_type": "code",
   "execution_count": 58,
   "metadata": {},
   "outputs": [
    {
     "data": {
      "image/png": "[encoded data removed]",
      "text/plain": [
       "<Figure size 18360x216 with 85 Axes>"
      ]
     },
     "metadata": {},
     "output_type": "display_data"
    }
   ],
   "source": [
    "sns.set(rc={'figure.figsize':(20,20)})\n",
    "g = sns.FacetGrid(summary_final, col='brand')\n",
    "g = g.map(sns.kdeplot, 'sales_quantity')"
   ]
  },
  {
   "cell_type": "code",
   "execution_count": 59,
   "metadata": {},
   "outputs": [
    {
     "data": {
      "image/png": "[encoded data removed]",
      "text/plain": [
       "<Figure size 648x216 with 3 Axes>"
      ]
     },
     "metadata": {},
     "output_type": "display_data"
    }
   ],
   "source": [
    "sns.set(rc={'figure.figsize':(20,20)})\n",
    "g = sns.FacetGrid(summary_final, col='store_type')\n",
    "g = g.map(sns.kdeplot, 'sales_quantity')"
   ]
  },
  {
   "cell_type": "code",
   "execution_count": 64,
   "metadata": {},
   "outputs": [],
   "source": [
    "sns.set(rc={'figure.figsize':(7,5)})"
   ]
  },
  {
   "cell_type": "code",
   "execution_count": 65,
   "metadata": {},
   "outputs": [
    {
     "data": {
      "image/png": "[encoded data removed]",
      "text/plain": [
       "<Figure size 504x360 with 1 Axes>"
      ]
     },
     "metadata": {},
     "output_type": "display_data"
    }
   ],
   "source": [
    "plt.hist(summary_df['sales_quantity'], facecolor='peru', edgecolor='blue', bins = 20, range=(0,10))\n",
    "plt.show()"
   ]
  },
  {
   "cell_type": "code",
   "execution_count": 66,
   "metadata": {},
   "outputs": [
    {
     "data": {
      "image/png": "[encoded data removed]",
      "text/plain": [
       "<Figure size 504x360 with 1 Axes>"
      ]
     },
     "metadata": {},
     "output_type": "display_data"
    }
   ],
   "source": [
    "plt.hist(summary_final['sales_quantity'], facecolor='peru', edgecolor='blue', bins = 20, range=(0,10))\n",
    "plt.show()"
   ]
  },
  {
   "cell_type": "code",
   "execution_count": 67,
   "metadata": {},
   "outputs": [
    {
     "data": {
      "image/png": "[encoded data removed]",
      "text/plain": [
       "<Figure size 504x360 with 1 Axes>"
      ]
     },
     "metadata": {},
     "output_type": "display_data"
    }
   ],
   "source": [
    "sns.set(rc={'figure.figsize':(7,5)})\n",
    "plt.hist(summary_with_market_shares['so'], facecolor='peru', edgecolor='blue', bins = 50, range=(-22,0))\n",
    "plt.show()"
   ]
  },
  {
   "cell_type": "code",
   "execution_count": 26,
   "metadata": {},
   "outputs": [
    {
     "data": {
      "text/plain": [
       "count    410267.000000\n",
       "mean        -10.604231\n",
       "std           1.559477\n",
       "min         -11.512925\n",
       "25%         -11.512925\n",
       "50%         -11.512925\n",
       "75%          -9.387476\n",
       "max          -0.847298\n",
       "Name: so, dtype: float64"
      ]
     },
     "execution_count": 26,
     "metadata": {},
     "output_type": "execute_result"
    }
   ],
   "source": [
    "summary_final['so'].describe()"
   ]
  },
  {
   "cell_type": "code",
   "execution_count": 27,
   "metadata": {},
   "outputs": [
    {
     "data": {
      "text/plain": [
       "359210    63.320\n",
       "379314     7.205\n",
       "Name: billing, dtype: float64"
      ]
     },
     "execution_count": 27,
     "metadata": {},
     "output_type": "execute_result"
    }
   ],
   "source": [
    "summary_with_market_shares[summary_with_market_shares['so'] >= -1]['billing']"
   ]
  },
  {
   "cell_type": "code",
   "execution_count": 60,
   "metadata": {},
   "outputs": [
    {
     "data": {
      "text/plain": [
       "<matplotlib.axes._subplots.AxesSubplot at 0x124703ef0>"
      ]
     },
     "execution_count": 60,
     "metadata": {},
     "output_type": "execute_result"
    },
    {
     "data": {
      "image/png": "[encoded data removed]",
      "text/plain": [
       "<Figure size 504x360 with 1 Axes>"
      ]
     },
     "metadata": {},
     "output_type": "display_data"
    }
   ],
   "source": [
    "sns.set(rc={'figure.figsize':(7,5)})\n",
    "sns.boxplot(x='period',y='so',data=summary_with_market_shares)"
   ]
  },
  {
   "cell_type": "code",
   "execution_count": 35,
   "metadata": {},
   "outputs": [
    {
     "data": {
      "image/png": "[encoded data removed]",
      "text/plain": [
       "<Figure size 3024x216 with 14 Axes>"
      ]
     },
     "metadata": {},
     "output_type": "display_data"
    }
   ],
   "source": [
    "sns.set(rc={'figure.figsize':(20,20)})\n",
    "g = sns.FacetGrid(summary_with_market_shares, col='period')\n",
    "g = g.map(sns.kdeplot, 'so')"
   ]
  },
  {
   "cell_type": "code",
   "execution_count": 36,
   "metadata": {},
   "outputs": [
    {
     "data": {
      "text/plain": [
       "<matplotlib.axes._subplots.AxesSubplot at 0x1326712e8>"
      ]
     },
     "execution_count": 36,
     "metadata": {},
     "output_type": "execute_result"
    },
    {
     "data": {
      "image/png": "[encoded data removed]",
      "text/plain": [
       "<Figure size 504x360 with 2 Axes>"
      ]
     },
     "metadata": {},
     "output_type": "display_data"
    }
   ],
   "source": [
    "sns.set(rc={'figure.figsize':(7,5)})\n",
    "sns.heatmap(summary_final.corr(), annot=True)"
   ]
  },
  {
   "cell_type": "markdown",
   "metadata": {},
   "source": [
    "### Remove the outlier sales from last quarter - covid period"
   ]
  },
  {
   "cell_type": "code",
   "execution_count": 68,
   "metadata": {},
   "outputs": [],
   "source": [
    "summary_final = summary_final[summary_final['period'] != 14]\n"
   ]
  },
  {
   "cell_type": "code",
   "execution_count": 83,
   "metadata": {},
   "outputs": [
    {
     "data": {
      "text/plain": [
       "(390154, 23)"
      ]
     },
     "execution_count": 83,
     "metadata": {},
     "output_type": "execute_result"
    }
   ],
   "source": [
    "summary_final.shape"
   ]
  },
  {
   "cell_type": "code",
   "execution_count": 84,
   "metadata": {},
   "outputs": [],
   "source": [
    "def pareto(df_param,cols):\n",
    "    lst=[]\n",
    "    df = pd.DataFrame()\n",
    "    df = pd.concat([df, df_param])\n",
    "    feature_mapping = {}\n",
    "    for col in cols:\n",
    "                \n",
    "        series=df.fillna(0).groupby([col]).agg({'billing':'sum'}).sort_values('billing',ascending=False)\n",
    "        mask=series.cumsum()/series.sum()>0.9 \n",
    "        #nos=mask.value_counts()[1]\n",
    "        mask=mask.iloc[:,0]\n",
    "        levels=len(df[col].unique())\n",
    "        \n",
    "        if levels>10:\n",
    "            df[col] = np.where(df[col].isin(series[mask].index),'Other',df[col])\n",
    "            feature_mapping[col]=series[mask].index.to_list()\n",
    "        new_levels=len(df[col].unique())\n",
    "\n",
    "        freq=df[col].value_counts()/df[col].value_counts().sum()*100\n",
    "        freq=freq.round(2)\n",
    "\n",
    "        sale_qty=df.groupby([col]).agg({'sales_quantity':'sum'}).sort_values('sales_quantity',ascending=False)\n",
    "        sale_qty=sale_qty/sale_qty.sum()*100\n",
    "        sale_qty=sale_qty.round(2)\n",
    "        try:\n",
    "            Other_Sales_Qty=sale_qty['sales_quantity']['Other']\n",
    "        except:\n",
    "            Other_Sales_Qty=0\n",
    "        \n",
    "        bill=df.groupby([col]).agg({'billing':'sum'}).sort_values('billing',ascending=False)\n",
    "        bill=bill/bill.sum()*100\n",
    "        bill=bill.round(2)\n",
    "        try:\n",
    "            Other_bill=bill['billing']['Other']\n",
    "        except:\n",
    "            Other_bill=0\n",
    "        \n",
    "        #comparison=mrp.merge(sale_qty, left_index=True, right_index=True)\n",
    "        lst.append([col.upper(),levels, new_levels,Other_bill,Other_Sales_Qty])\n",
    "        #print (\"%s-Originally %d levels,combined %d levels into 'Other'.New Levels %d.By MRP,Other is %2.1f and by sale qty others is %2.1f\"%(col.upper(),levels, levels-new_levels, new_levels,mrp['stock_prevailing_mrp']['Other'],sale_qty['sales_quantity']['Other']))\n",
    "    \n",
    "    cols=['Feature', 'Orig Levels', 'New Levels', 'Other%(Billing)', 'Other%(Sales Qty)']\n",
    "    df1 = pd.DataFrame(lst, columns=cols)\n",
    "    df1=df1.set_index(\"Feature\")\n",
    "    \n",
    "    return df1,df,feature_mapping"
   ]
  },
  {
   "cell_type": "code",
   "execution_count": 85,
   "metadata": {},
   "outputs": [
    {
     "data": {
      "text/html": [
       "<div>\n",
       "<style scoped>\n",
       "    .dataframe tbody tr th:only-of-type {\n",
       "        vertical-align: middle;\n",
       "    }\n",
       "\n",
       "    .dataframe tbody tr th {\n",
       "        vertical-align: top;\n",
       "    }\n",
       "\n",
       "    .dataframe thead th {\n",
       "        text-align: right;\n",
       "    }\n",
       "</style>\n",
       "<table border=\"1\" class=\"dataframe\">\n",
       "  <thead>\n",
       "    <tr style=\"text-align: right;\">\n",
       "      <th></th>\n",
       "      <th>Orig Levels</th>\n",
       "      <th>New Levels</th>\n",
       "      <th>Other%(Billing)</th>\n",
       "      <th>Other%(Sales Qty)</th>\n",
       "    </tr>\n",
       "    <tr>\n",
       "      <th>Feature</th>\n",
       "      <th></th>\n",
       "      <th></th>\n",
       "      <th></th>\n",
       "      <th></th>\n",
       "    </tr>\n",
       "  </thead>\n",
       "  <tbody>\n",
       "    <tr>\n",
       "      <th>CASE_SIZE_RANGE</th>\n",
       "      <td>13</td>\n",
       "      <td>7</td>\n",
       "      <td>11.03</td>\n",
       "      <td>15.61</td>\n",
       "    </tr>\n",
       "    <tr>\n",
       "      <th>GENDER</th>\n",
       "      <td>3</td>\n",
       "      <td>3</td>\n",
       "      <td>0.00</td>\n",
       "      <td>0.00</td>\n",
       "    </tr>\n",
       "    <tr>\n",
       "      <th>MOVEMENT</th>\n",
       "      <td>6</td>\n",
       "      <td>6</td>\n",
       "      <td>0.00</td>\n",
       "      <td>0.00</td>\n",
       "    </tr>\n",
       "    <tr>\n",
       "      <th>MATERIAL</th>\n",
       "      <td>56</td>\n",
       "      <td>7</td>\n",
       "      <td>11.96</td>\n",
       "      <td>14.47</td>\n",
       "    </tr>\n",
       "    <tr>\n",
       "      <th>DIAL_COLOR</th>\n",
       "      <td>46</td>\n",
       "      <td>9</td>\n",
       "      <td>11.28</td>\n",
       "      <td>10.44</td>\n",
       "    </tr>\n",
       "    <tr>\n",
       "      <th>STRAP_TYPE</th>\n",
       "      <td>60</td>\n",
       "      <td>8</td>\n",
       "      <td>11.57</td>\n",
       "      <td>16.31</td>\n",
       "    </tr>\n",
       "    <tr>\n",
       "      <th>STRAP_COLOR</th>\n",
       "      <td>44</td>\n",
       "      <td>7</td>\n",
       "      <td>11.04</td>\n",
       "      <td>24.60</td>\n",
       "    </tr>\n",
       "    <tr>\n",
       "      <th>PRECIOUS_STONE</th>\n",
       "      <td>8</td>\n",
       "      <td>8</td>\n",
       "      <td>0.00</td>\n",
       "      <td>0.00</td>\n",
       "    </tr>\n",
       "    <tr>\n",
       "      <th>GLASS</th>\n",
       "      <td>7</td>\n",
       "      <td>7</td>\n",
       "      <td>0.00</td>\n",
       "      <td>0.00</td>\n",
       "    </tr>\n",
       "    <tr>\n",
       "      <th>CASE_SHAPE</th>\n",
       "      <td>6</td>\n",
       "      <td>6</td>\n",
       "      <td>0.00</td>\n",
       "      <td>0.00</td>\n",
       "    </tr>\n",
       "    <tr>\n",
       "      <th>WATCH_TYPE</th>\n",
       "      <td>6</td>\n",
       "      <td>6</td>\n",
       "      <td>0.00</td>\n",
       "      <td>0.00</td>\n",
       "    </tr>\n",
       "  </tbody>\n",
       "</table>\n",
       "</div>"
      ],
      "text/plain": [
       "                 Orig Levels  New Levels  Other%(Billing)  Other%(Sales Qty)\n",
       "Feature                                                                     \n",
       "CASE_SIZE_RANGE           13           7            11.03              15.61\n",
       "GENDER                     3           3             0.00               0.00\n",
       "MOVEMENT                   6           6             0.00               0.00\n",
       "MATERIAL                  56           7            11.96              14.47\n",
       "DIAL_COLOR                46           9            11.28              10.44\n",
       "STRAP_TYPE                60           8            11.57              16.31\n",
       "STRAP_COLOR               44           7            11.04              24.60\n",
       "PRECIOUS_STONE             8           8             0.00               0.00\n",
       "GLASS                      7           7             0.00               0.00\n",
       "CASE_SHAPE                 6           6             0.00               0.00\n",
       "WATCH_TYPE                 6           6             0.00               0.00"
      ]
     },
     "execution_count": 85,
     "metadata": {},
     "output_type": "execute_result"
    }
   ],
   "source": [
    "import numpy as np\n",
    "#cols=['brand','case_size', 'case_size_range', 'gender', 'material', 'dial_color', 'strap_type', 'strap_color','precious_stone', 'glass', 'watch_type']\n",
    "cols=['case_size_range', 'gender','movement', 'material', 'dial_color', 'strap_type', 'strap_color','precious_stone', 'glass', 'case_shape', 'watch_type']\n",
    "summary,summary_final_pareto,feature_mapping_dict=pareto(summary_final, cols)\n",
    "summary\n"
   ]
  },
  {
   "cell_type": "markdown",
   "metadata": {},
   "source": [
    "# Classifiers\n",
    "\n"
   ]
  },
  {
   "cell_type": "code",
   "execution_count": 86,
   "metadata": {},
   "outputs": [],
   "source": [
    "from sklearn.tree import DecisionTreeClassifier\n",
    "from sklearn.discriminant_analysis import LinearDiscriminantAnalysis\n",
    "from sklearn.naive_bayes import MultinomialNB\n",
    "from sklearn.linear_model import LogisticRegression\n",
    "from sklearn.model_selection import RandomizedSearchCV \n",
    "from sklearn.ensemble import GradientBoostingClassifier as gbc\n",
    "from sklearn.ensemble import RandomForestClassifier as rfc\n"
   ]
  },
  {
   "cell_type": "code",
   "execution_count": 87,
   "metadata": {},
   "outputs": [],
   "source": [
    "#retaining only 0 and 1 for sales_quantity\n",
    "summary_final_classifier = pd.DataFrame()\n",
    "summary_final_classifier = pd.concat([summary_final_classifier, summary_final_pareto])\n",
    "summary_final_classifier['sales_class'] = np.where(summary_final_classifier['sales_quantity'] > 0,True,False)         \n",
    "#summary_final_classifier['sales_quantity'].value_counts().sort_index()\n",
    "#summary_final_classifier.columns\n"
   ]
  },
  {
   "cell_type": "code",
   "execution_count": 88,
   "metadata": {},
   "outputs": [
    {
     "data": {
      "text/plain": [
       "0    False\n",
       "1    False\n",
       "2    False\n",
       "3    False\n",
       "4    False\n",
       "Name: sales_class, dtype: bool"
      ]
     },
     "execution_count": 88,
     "metadata": {},
     "output_type": "execute_result"
    }
   ],
   "source": [
    "summary_final_classifier['sales_class'].head()"
   ]
  },
  {
   "cell_type": "code",
   "execution_count": 89,
   "metadata": {},
   "outputs": [
    {
     "data": {
      "text/plain": [
       "<matplotlib.axes._subplots.AxesSubplot at 0x1243d3ef0>"
      ]
     },
     "execution_count": 89,
     "metadata": {},
     "output_type": "execute_result"
    },
    {
     "data": {
      "image/png": "[encoded data removed]",
      "text/plain": [
       "<Figure size 504x360 with 1 Axes>"
      ]
     },
     "metadata": {},
     "output_type": "display_data"
    }
   ],
   "source": [
    "sns.set(rc={'figure.figsize':(7,5)})\n",
    "sns.countplot(x='sales_class',data=summary_final_classifier)\n"
   ]
  },
  {
   "cell_type": "code",
   "execution_count": 90,
   "metadata": {},
   "outputs": [
    {
     "data": {
      "text/plain": [
       "<matplotlib.axes._subplots.AxesSubplot at 0x1243caeb8>"
      ]
     },
     "execution_count": 90,
     "metadata": {},
     "output_type": "execute_result"
    },
    {
     "data": {
      "image/png": "[encoded data removed]",
      "text/plain": [
       "<Figure size 504x360 with 1 Axes>"
      ]
     },
     "metadata": {},
     "output_type": "display_data"
    }
   ],
   "source": [
    "sns.barplot(x='period',y='sales_quantity',data=summary_final_classifier)"
   ]
  },
  {
   "cell_type": "code",
   "execution_count": 91,
   "metadata": {},
   "outputs": [
    {
     "data": {
      "text/plain": [
       "'\\nsplit=0.2\\ntest_clf=int(len(X_clf)*split)\\ntrain_clf=len(X_clf)-test_clf\\nX_train_clf=X_clf.head(train_clf)\\ny_train_clf=y_clf.head(train_clf)\\nX_test_clf=X_clf.tail(test_clf)\\ny_test_clf=y_clf.tail(test_clf)\\n\\n'"
      ]
     },
     "execution_count": 91,
     "metadata": {},
     "output_type": "execute_result"
    }
   ],
   "source": [
    "#creating dummy variables\n",
    "cols=['brand','state','region', 'store_type', 'store_location', 'city_type',\n",
    "       'case_size_range', 'gender', 'movement', 'material', 'dial_color',\n",
    "       'strap_type', 'strap_color', 'precious_stone', 'glass', 'case_shape',\n",
    "       'watch_type']\n",
    "summary_final_classifier_dummies=pd.get_dummies(data=summary_final_classifier, columns=cols)\n",
    "\n",
    "#for sales_quantity as the target variable\n",
    "#creating seperate df for independent and dependent features\n",
    "y_clf=summary_final_classifier_dummies.loc[:, summary_final_classifier_dummies.columns == 'sales_class']\n",
    "X_clf=summary_final_classifier_dummies.drop(columns =['sales_quantity','item_no','billing','so', 'sales_class'])\n",
    "\n",
    "#performing train and test split on data\n",
    "X_train_clf,X_test_clf, y_train_clf, y_test_clf = train_test_split(X_clf, y_clf, test_size=0.2, random_state=42)\n",
    "\"\"\"\n",
    "split=0.2\n",
    "test_clf=int(len(X_clf)*split)\n",
    "train_clf=len(X_clf)-test_clf\n",
    "X_train_clf=X_clf.head(train_clf)\n",
    "y_train_clf=y_clf.head(train_clf)\n",
    "X_test_clf=X_clf.tail(test_clf)\n",
    "y_test_clf=y_clf.tail(test_clf)\n",
    "\n",
    "\"\"\""
   ]
  },
  {
   "cell_type": "code",
   "execution_count": 92,
   "metadata": {},
   "outputs": [
    {
     "data": {
      "text/plain": [
       "Index(['item_no', 'period', 'state', 'region', 'brand', 'stock_prevailing_mrp',\n",
       "       'store_type', 'store_location', 'city_type', 'case_size_range',\n",
       "       'gender', 'movement', 'material', 'dial_color', 'strap_type',\n",
       "       'strap_color', 'precious_stone', 'glass', 'case_shape', 'watch_type',\n",
       "       'billing', 'sales_quantity', 'so', 'sales_class'],\n",
       "      dtype='object')"
      ]
     },
     "execution_count": 92,
     "metadata": {},
     "output_type": "execute_result"
    }
   ],
   "source": [
    "summary_final_classifier.columns"
   ]
  },
  {
   "cell_type": "code",
   "execution_count": 93,
   "metadata": {},
   "outputs": [],
   "source": [
    "#!pip install -U imbalanced-learn\n",
    "from imblearn.over_sampling import RandomOverSampler\n",
    "ros = RandomOverSampler(random_state=11915027)\n",
    "X_bal_clf, y_bal_clf = ros.fit_resample(X_train_clf, y_train_clf)\n",
    "#classifier(X_bal,y_bal)"
   ]
  },
  {
   "cell_type": "code",
   "execution_count": 94,
   "metadata": {},
   "outputs": [
    {
     "name": "stdout",
     "output_type": "stream",
     "text": [
      "312123 447014 312123 447014\n"
     ]
    },
    {
     "data": {
      "text/html": [
       "<div>\n",
       "<style scoped>\n",
       "    .dataframe tbody tr th:only-of-type {\n",
       "        vertical-align: middle;\n",
       "    }\n",
       "\n",
       "    .dataframe tbody tr th {\n",
       "        vertical-align: top;\n",
       "    }\n",
       "\n",
       "    .dataframe thead th {\n",
       "        text-align: right;\n",
       "    }\n",
       "</style>\n",
       "<table border=\"1\" class=\"dataframe\">\n",
       "  <thead>\n",
       "    <tr style=\"text-align: right;\">\n",
       "      <th></th>\n",
       "      <th>Before Balancing</th>\n",
       "      <th>After Balancing</th>\n",
       "    </tr>\n",
       "  </thead>\n",
       "  <tbody>\n",
       "    <tr>\n",
       "      <th>False</th>\n",
       "      <td>223507</td>\n",
       "      <td>223507</td>\n",
       "    </tr>\n",
       "    <tr>\n",
       "      <th>True</th>\n",
       "      <td>88616</td>\n",
       "      <td>223507</td>\n",
       "    </tr>\n",
       "  </tbody>\n",
       "</table>\n",
       "</div>"
      ],
      "text/plain": [
       "       Before Balancing  After Balancing\n",
       "False            223507           223507\n",
       "True              88616           223507"
      ]
     },
     "execution_count": 94,
     "metadata": {},
     "output_type": "execute_result"
    }
   ],
   "source": [
    "print (len(X_train_clf),len(X_bal_clf),len(y_train_clf),len(y_bal_clf))\n",
    "\n",
    "counts=y_train_clf.iloc[:, 0].value_counts().to_frame(name='Before Balancing')\n",
    "count1= pd.DataFrame(np.bincount(y_bal_clf.iloc[:, 0]))\n",
    "counts['After Balancing'] = count1\n",
    "counts"
   ]
  },
  {
   "cell_type": "code",
   "execution_count": 95,
   "metadata": {},
   "outputs": [
    {
     "data": {
      "text/plain": [
       "(312123, 188)"
      ]
     },
     "execution_count": 95,
     "metadata": {},
     "output_type": "execute_result"
    }
   ],
   "source": [
    "X_train_clf.shape"
   ]
  },
  {
   "cell_type": "markdown",
   "metadata": {},
   "source": [
    "#### Defining function for computing confusion metrics"
   ]
  },
  {
   "cell_type": "code",
   "execution_count": 96,
   "metadata": {},
   "outputs": [],
   "source": [
    "\n",
    "from sklearn import metrics\n",
    "from sklearn.metrics import confusion_matrix,roc_curve,auc\n",
    "def cfm(y_test,y_pred):\n",
    "    tn, fp, fn, tp = confusion_matrix(y_test, y_pred).ravel()\n",
    "    tnp=tn/(tn+fp)*100\n",
    "    fpp=fp/(tn+fp)*100\n",
    "    fnp=fn/(fn+tp)*100\n",
    "    tpp=tp/(fn+tp)*100\n",
    "    false_positive_rate, true_positive_rate, thresholds = roc_curve(y_test, y_pred)\n",
    "    roc_auc = auc(false_positive_rate, true_positive_rate)\n",
    "    accuracy=metrics.accuracy_score(y_test, y_pred)*100\n",
    "    return accuracy,tnp,fpp,fnp,tpp,roc_auc\n"
   ]
  },
  {
   "cell_type": "markdown",
   "metadata": {},
   "source": [
    "## Decision Tree Classifier"
   ]
  },
  {
   "cell_type": "code",
   "execution_count": 97,
   "metadata": {},
   "outputs": [],
   "source": [
    "\n",
    "d_tree_clfr = DecisionTreeClassifier(criterion = 'entropy', min_samples_leaf=55)\n",
    "d_tree_clfr.fit(X_bal_clf, y_bal_clf)\n",
    "y_pred= d_tree_clfr.predict(X_test_clf)\n"
   ]
  },
  {
   "cell_type": "code",
   "execution_count": 98,
   "metadata": {},
   "outputs": [],
   "source": [
    "output = []"
   ]
  },
  {
   "cell_type": "code",
   "execution_count": 99,
   "metadata": {},
   "outputs": [],
   "source": [
    "accuracy,tnp,fpp,fnp,tpp,roc_auc = cfm(y_test_clf,y_pred)\n",
    "output.append(['Decision Tree',accuracy,tnp,fpp,fnp,tpp,roc_auc])\n",
    "\n",
    "#output=pd.DataFrame(output_list,columns=['Model','Accuracy%','TN%', 'FP%', 'FN%', 'TP%','AUC'])\n"
   ]
  },
  {
   "cell_type": "markdown",
   "metadata": {},
   "source": [
    "### Logistic classifier - skip this one"
   ]
  },
  {
   "cell_type": "code",
   "execution_count": 100,
   "metadata": {},
   "outputs": [],
   "source": [
    "#log_model = LogisticRegression(solver='newton-cg',multi_class='multinomial')\n",
    "#log_model.fit(X_bal_clf,y_bal_clf)\n",
    "#y_pred = log_model.predict(X_test_clf)\n",
    "#log_accuracy = metrics.accuracy_score(y_test, y_pred)\n",
    "#log_accuracy\n"
   ]
  },
  {
   "cell_type": "code",
   "execution_count": 101,
   "metadata": {},
   "outputs": [],
   "source": [
    "#accuracy,tnp,fpp,fnp,tpp,roc_auc = cfm(y_test_clf,y_pred)\n",
    "#output.append(['Log Regression',accuracy,tnp,fpp,fnp,tpp,roc_auc])\n"
   ]
  },
  {
   "cell_type": "markdown",
   "metadata": {},
   "source": [
    "### LDA"
   ]
  },
  {
   "cell_type": "code",
   "execution_count": 102,
   "metadata": {},
   "outputs": [],
   "source": [
    "lda_clf = LinearDiscriminantAnalysis()\n",
    "lda_clf.fit(X_bal_clf, y_bal_clf)\n",
    "y_pred= lda_clf.predict(X_test_clf)\n",
    "#lda_accuracy=metrics.accuracy_score(y_test, y_pred)\n"
   ]
  },
  {
   "cell_type": "code",
   "execution_count": 103,
   "metadata": {},
   "outputs": [],
   "source": [
    "lda_clf.fit_transform(X_bal_clf, y_bal_clf)\n",
    "y_pred= lda_clf.predict(X_test_clf)"
   ]
  },
  {
   "cell_type": "code",
   "execution_count": 104,
   "metadata": {},
   "outputs": [],
   "source": [
    "accuracy,tnp,fpp,fnp,tpp,roc_auc = cfm(y_test_clf,y_pred)\n",
    "output.append(['LDA',accuracy,tnp,fpp,fnp,tpp,roc_auc])\n"
   ]
  },
  {
   "cell_type": "markdown",
   "metadata": {},
   "source": [
    "### MultinomialNB"
   ]
  },
  {
   "cell_type": "code",
   "execution_count": 106,
   "metadata": {},
   "outputs": [],
   "source": [
    "mnb_clf = MultinomialNB()\n",
    "mnb_clf.fit(X_bal_clf,y_bal_clf)\n",
    "y_pred = mnb_clf.predict(X_test_clf)\n",
    "#nb_accuracy=metrics.accuracy_score(y_test, y_pred)\n",
    "accuracy,tnp,fpp,fnp,tpp,roc_auc = cfm(y_test_clf,y_pred)\n",
    "output.append(['Naive Bayes',accuracy,tnp,fpp,fnp,tpp,roc_auc])"
   ]
  },
  {
   "cell_type": "markdown",
   "metadata": {},
   "source": [
    "### XGB"
   ]
  },
  {
   "cell_type": "code",
   "execution_count": 413,
   "metadata": {},
   "outputs": [
    {
     "name": "stdout",
     "output_type": "stream",
     "text": [
      "[08:07:22] WARNING: /Users/travis/build/dmlc/xgboost/src/learner.cc:480: \n",
      "Parameters: { silent } might not be used.\n",
      "\n",
      "  This may not be accurate due to some parameters are only used in language bindings but\n",
      "  passed down to XGBoost core.  Or some parameters are not used but slip through this\n",
      "  verification. Please open an issue if you find above cases.\n",
      "\n",
      "\n"
     ]
    }
   ],
   "source": [
    "import xgboost as xgb\n",
    "xgb_model = xgb.XGBClassifier(base_score=0.5, booster='gbtree', colsample_bylevel=1,\n",
    "              colsample_bynode=1, colsample_bytree=0.8, gamma=1.5, gpu_id=-1,\n",
    "              importance_type='gain', interaction_constraints='',\n",
    "              learning_rate=0.02, max_delta_step=0, max_depth=5,\n",
    "              min_child_weight=1, monotone_constraints='()',\n",
    "              n_estimators=600, n_jobs=1, nthread=1, num_parallel_tree=1,\n",
    "              random_state=0, reg_alpha=0, reg_lambda=1, scale_pos_weight=1,\n",
    "              silent=True, subsample=0.6, tree_method='exact',\n",
    "              validate_parameters=1, verbosity=None)\n",
    "    \n",
    "xgb_model.fit(X_bal_clf,y_bal_clf)\n",
    "\n",
    "y_pred = xgb_model.predict(X_test_clf)\n"
   ]
  },
  {
   "cell_type": "code",
   "execution_count": 414,
   "metadata": {},
   "outputs": [
    {
     "name": "stdout",
     "output_type": "stream",
     "text": [
      "[[37528 18546]\n",
      " [ 7798 14159]]\n"
     ]
    }
   ],
   "source": [
    "print(confusion_matrix(y_test_clf, y_pred))\n",
    "accuracy,tnp,fpp,fnp,tpp,roc_auc = cfm(y_test_clf,y_pred)\n",
    "\n",
    "output.append(['XGB Classifier - Random CV',accuracy,tnp,fpp,fnp,tpp,roc_auc])"
   ]
  },
  {
   "cell_type": "code",
   "execution_count": 415,
   "metadata": {},
   "outputs": [
    {
     "data": {
      "text/html": [
       "<div>\n",
       "<style scoped>\n",
       "    .dataframe tbody tr th:only-of-type {\n",
       "        vertical-align: middle;\n",
       "    }\n",
       "\n",
       "    .dataframe tbody tr th {\n",
       "        vertical-align: top;\n",
       "    }\n",
       "\n",
       "    .dataframe thead th {\n",
       "        text-align: right;\n",
       "    }\n",
       "</style>\n",
       "<table border=\"1\" class=\"dataframe\">\n",
       "  <thead>\n",
       "    <tr style=\"text-align: right;\">\n",
       "      <th></th>\n",
       "      <th>Model</th>\n",
       "      <th>Accuracy%</th>\n",
       "      <th>TN%</th>\n",
       "      <th>FP%</th>\n",
       "      <th>FN%</th>\n",
       "      <th>TP%</th>\n",
       "      <th>AUC</th>\n",
       "    </tr>\n",
       "  </thead>\n",
       "  <tbody>\n",
       "    <tr>\n",
       "      <th>0</th>\n",
       "      <td>Decision Tree</td>\n",
       "      <td>65.63</td>\n",
       "      <td>67.04</td>\n",
       "      <td>32.96</td>\n",
       "      <td>37.97</td>\n",
       "      <td>62.03</td>\n",
       "      <td>0.65</td>\n",
       "    </tr>\n",
       "    <tr>\n",
       "      <th>1</th>\n",
       "      <td>Log Regression</td>\n",
       "      <td>63.11</td>\n",
       "      <td>62.42</td>\n",
       "      <td>37.58</td>\n",
       "      <td>35.12</td>\n",
       "      <td>64.88</td>\n",
       "      <td>0.64</td>\n",
       "    </tr>\n",
       "    <tr>\n",
       "      <th>2</th>\n",
       "      <td>LDA</td>\n",
       "      <td>63.04</td>\n",
       "      <td>62.24</td>\n",
       "      <td>37.76</td>\n",
       "      <td>34.92</td>\n",
       "      <td>65.08</td>\n",
       "      <td>0.64</td>\n",
       "    </tr>\n",
       "    <tr>\n",
       "      <th>3</th>\n",
       "      <td>Naive Bayes</td>\n",
       "      <td>56.25</td>\n",
       "      <td>51.84</td>\n",
       "      <td>48.16</td>\n",
       "      <td>32.46</td>\n",
       "      <td>67.54</td>\n",
       "      <td>0.60</td>\n",
       "    </tr>\n",
       "    <tr>\n",
       "      <th>4</th>\n",
       "      <td>XGB Classifier</td>\n",
       "      <td>67.77</td>\n",
       "      <td>68.42</td>\n",
       "      <td>31.58</td>\n",
       "      <td>33.88</td>\n",
       "      <td>66.12</td>\n",
       "      <td>0.67</td>\n",
       "    </tr>\n",
       "    <tr>\n",
       "      <th>5</th>\n",
       "      <td>XGB Classifier Tuned</td>\n",
       "      <td>67.77</td>\n",
       "      <td>68.42</td>\n",
       "      <td>31.58</td>\n",
       "      <td>33.88</td>\n",
       "      <td>66.12</td>\n",
       "      <td>0.67</td>\n",
       "    </tr>\n",
       "    <tr>\n",
       "      <th>6</th>\n",
       "      <td>XGB Classifier Tuned</td>\n",
       "      <td>67.77</td>\n",
       "      <td>68.42</td>\n",
       "      <td>31.58</td>\n",
       "      <td>33.88</td>\n",
       "      <td>66.12</td>\n",
       "      <td>0.67</td>\n",
       "    </tr>\n",
       "    <tr>\n",
       "      <th>7</th>\n",
       "      <td>XGB Classifier Tuned</td>\n",
       "      <td>67.77</td>\n",
       "      <td>68.42</td>\n",
       "      <td>31.58</td>\n",
       "      <td>33.88</td>\n",
       "      <td>66.12</td>\n",
       "      <td>0.67</td>\n",
       "    </tr>\n",
       "    <tr>\n",
       "      <th>8</th>\n",
       "      <td>XGB Classifier</td>\n",
       "      <td>67.77</td>\n",
       "      <td>68.42</td>\n",
       "      <td>31.58</td>\n",
       "      <td>33.88</td>\n",
       "      <td>66.12</td>\n",
       "      <td>0.67</td>\n",
       "    </tr>\n",
       "    <tr>\n",
       "      <th>9</th>\n",
       "      <td>XGB Classifier Tuned</td>\n",
       "      <td>67.25</td>\n",
       "      <td>67.92</td>\n",
       "      <td>32.08</td>\n",
       "      <td>34.47</td>\n",
       "      <td>65.53</td>\n",
       "      <td>0.67</td>\n",
       "    </tr>\n",
       "    <tr>\n",
       "      <th>10</th>\n",
       "      <td>XGB Classifier Tuned</td>\n",
       "      <td>67.77</td>\n",
       "      <td>68.42</td>\n",
       "      <td>31.58</td>\n",
       "      <td>33.88</td>\n",
       "      <td>66.12</td>\n",
       "      <td>0.67</td>\n",
       "    </tr>\n",
       "    <tr>\n",
       "      <th>11</th>\n",
       "      <td>XGB Classifier - Random CV</td>\n",
       "      <td>66.24</td>\n",
       "      <td>66.93</td>\n",
       "      <td>33.07</td>\n",
       "      <td>35.51</td>\n",
       "      <td>64.49</td>\n",
       "      <td>0.66</td>\n",
       "    </tr>\n",
       "  </tbody>\n",
       "</table>\n",
       "</div>"
      ],
      "text/plain": [
       "                         Model  Accuracy%    TN%    FP%    FN%    TP%   AUC\n",
       "0                Decision Tree      65.63  67.04  32.96  37.97  62.03  0.65\n",
       "1               Log Regression      63.11  62.42  37.58  35.12  64.88  0.64\n",
       "2                          LDA      63.04  62.24  37.76  34.92  65.08  0.64\n",
       "3                  Naive Bayes      56.25  51.84  48.16  32.46  67.54  0.60\n",
       "4               XGB Classifier      67.77  68.42  31.58  33.88  66.12  0.67\n",
       "5         XGB Classifier Tuned      67.77  68.42  31.58  33.88  66.12  0.67\n",
       "6         XGB Classifier Tuned      67.77  68.42  31.58  33.88  66.12  0.67\n",
       "7         XGB Classifier Tuned      67.77  68.42  31.58  33.88  66.12  0.67\n",
       "8               XGB Classifier      67.77  68.42  31.58  33.88  66.12  0.67\n",
       "9         XGB Classifier Tuned      67.25  67.92  32.08  34.47  65.53  0.67\n",
       "10        XGB Classifier Tuned      67.77  68.42  31.58  33.88  66.12  0.67\n",
       "11  XGB Classifier - Random CV      66.24  66.93  33.07  35.51  64.49  0.66"
      ]
     },
     "execution_count": 415,
     "metadata": {},
     "output_type": "execute_result"
    }
   ],
   "source": [
    "df=pd.DataFrame(output,columns=['Model','Accuracy%','TN%', 'FP%', 'FN%', 'TP%','AUC'])\n",
    "\n",
    "df.round(2)"
   ]
  },
  {
   "cell_type": "markdown",
   "metadata": {},
   "source": [
    "#### Decision Tree - Tuning"
   ]
  },
  {
   "cell_type": "code",
   "execution_count": null,
   "metadata": {},
   "outputs": [],
   "source": [
    "from sklearn.tree import DecisionTreeClassifier\n",
    "lst=[]\n",
    "# X_train_clf, y_train_clf\n",
    "for i in range(3,30,3): \n",
    "    d_tree_clfr = DecisionTreeClassifier(criterion = 'entropy', min_samples_leaf=i)\n",
    "    #Apply classifier on training dataset\n",
    "    d_tree_clfr.fit(X_bal_clf,y_bal_clf)\n",
    "    y_pred = d_tree_clfr.predict(X_test_clf)\n",
    "    accuracy,tnp,fpp,fnp,tpp,roc_auc = cfm(y_test_clf,y_pred)\n",
    "    lst.append([i,accuracy,tnp,fpp,fnp,tpp,roc_auc])"
   ]
  },
  {
   "cell_type": "code",
   "execution_count": null,
   "metadata": {},
   "outputs": [],
   "source": [
    "cols=['SizeThreshold','Accuracy%','TN%', 'FP%', 'FN%', 'TP%','AUC']\n",
    "df = pd.DataFrame(lst, columns=cols)\n",
    "df=df.set_index(\"SizeThreshold\")\n",
    "df.round(2)"
   ]
  },
  {
   "cell_type": "markdown",
   "metadata": {},
   "source": [
    "### Tuning using random search CV"
   ]
  },
  {
   "cell_type": "markdown",
   "metadata": {},
   "source": [
    "### Decision Tree"
   ]
  },
  {
   "cell_type": "code",
   "execution_count": 439,
   "metadata": {},
   "outputs": [
    {
     "name": "stdout",
     "output_type": "stream",
     "text": [
      "Tuned Decision Tree Parameters: {'min_samples_leaf': 0.0875, 'max_depth': 326.2750716332378, 'criterion': 'entropy'}\n",
      "Best score is 0.6125339445292078\n"
     ]
    }
   ],
   "source": [
    "param_dist = {\"max_depth\": np.linspace(5, 350, 350, endpoint=True), \n",
    "              \"min_samples_leaf\": np.linspace(0.05, 0.5, 25, endpoint=True), \n",
    "              \"criterion\": [\"gini\", \"entropy\"]} \n",
    "tree = DecisionTreeClassifier() \n",
    "tree_cv = RandomizedSearchCV(tree, param_dist, cv = 5,scoring='roc_auc') \n",
    "tree_cv.fit(X_bal_clf, y_bal_clf) \n",
    "print(\"Tuned Decision Tree Parameters: {}\".format(tree_cv.best_params_)) \n",
    "print(\"Best score is {}\".format(tree_cv.best_score_)) \n",
    "\n"
   ]
  },
  {
   "cell_type": "markdown",
   "metadata": {},
   "source": [
    "### XG Boost Tuning"
   ]
  },
  {
   "cell_type": "code",
   "execution_count": 400,
   "metadata": {},
   "outputs": [
    {
     "name": "stdout",
     "output_type": "stream",
     "text": [
      "[0]\tvalidation_0-auc:0.61498\n",
      "Will train until validation_0-auc hasn't improved in 5 rounds.\n",
      "[1]\tvalidation_0-auc:0.65668\n",
      "[2]\tvalidation_0-auc:0.66817\n",
      "[3]\tvalidation_0-auc:0.67681\n",
      "[4]\tvalidation_0-auc:0.67882\n",
      "[5]\tvalidation_0-auc:0.68535\n",
      "[6]\tvalidation_0-auc:0.68942\n",
      "[7]\tvalidation_0-auc:0.69207\n",
      "[8]\tvalidation_0-auc:0.69395\n",
      "[9]\tvalidation_0-auc:0.69468\n",
      "[10]\tvalidation_0-auc:0.69767\n",
      "[11]\tvalidation_0-auc:0.70018\n",
      "[12]\tvalidation_0-auc:0.70271\n",
      "[13]\tvalidation_0-auc:0.70326\n",
      "[14]\tvalidation_0-auc:0.70346\n",
      "[15]\tvalidation_0-auc:0.70464\n",
      "[16]\tvalidation_0-auc:0.70564\n",
      "[17]\tvalidation_0-auc:0.70676\n",
      "[18]\tvalidation_0-auc:0.70695\n",
      "[19]\tvalidation_0-auc:0.70759\n",
      "[20]\tvalidation_0-auc:0.70998\n",
      "[21]\tvalidation_0-auc:0.71095\n",
      "[22]\tvalidation_0-auc:0.71211\n",
      "[23]\tvalidation_0-auc:0.71339\n",
      "[24]\tvalidation_0-auc:0.71388\n",
      "[25]\tvalidation_0-auc:0.71431\n",
      "[26]\tvalidation_0-auc:0.71596\n",
      "[27]\tvalidation_0-auc:0.71652\n",
      "[28]\tvalidation_0-auc:0.71653\n",
      "[29]\tvalidation_0-auc:0.71774\n",
      "[30]\tvalidation_0-auc:0.71786\n",
      "[31]\tvalidation_0-auc:0.71805\n",
      "[32]\tvalidation_0-auc:0.71852\n",
      "[33]\tvalidation_0-auc:0.71860\n",
      "[34]\tvalidation_0-auc:0.71944\n",
      "[35]\tvalidation_0-auc:0.71987\n",
      "[36]\tvalidation_0-auc:0.71991\n",
      "[37]\tvalidation_0-auc:0.72067\n",
      "[38]\tvalidation_0-auc:0.72129\n",
      "[39]\tvalidation_0-auc:0.72139\n",
      "[40]\tvalidation_0-auc:0.72182\n",
      "[41]\tvalidation_0-auc:0.72227\n",
      "[42]\tvalidation_0-auc:0.72258\n",
      "[43]\tvalidation_0-auc:0.72276\n",
      "[44]\tvalidation_0-auc:0.72300\n",
      "[45]\tvalidation_0-auc:0.72305\n",
      "[46]\tvalidation_0-auc:0.72370\n",
      "[47]\tvalidation_0-auc:0.72426\n",
      "[48]\tvalidation_0-auc:0.72437\n",
      "[49]\tvalidation_0-auc:0.72459\n",
      "[50]\tvalidation_0-auc:0.72488\n",
      "[51]\tvalidation_0-auc:0.72550\n",
      "[52]\tvalidation_0-auc:0.72623\n",
      "[53]\tvalidation_0-auc:0.72672\n",
      "[54]\tvalidation_0-auc:0.72699\n",
      "[55]\tvalidation_0-auc:0.72708\n",
      "[56]\tvalidation_0-auc:0.72774\n",
      "[57]\tvalidation_0-auc:0.72789\n",
      "[58]\tvalidation_0-auc:0.72812\n",
      "[59]\tvalidation_0-auc:0.72820\n",
      "[60]\tvalidation_0-auc:0.72826\n",
      "[61]\tvalidation_0-auc:0.72836\n",
      "[62]\tvalidation_0-auc:0.72849\n",
      "[63]\tvalidation_0-auc:0.72853\n",
      "[64]\tvalidation_0-auc:0.72867\n",
      "[65]\tvalidation_0-auc:0.72889\n",
      "[66]\tvalidation_0-auc:0.72929\n",
      "[67]\tvalidation_0-auc:0.72935\n",
      "[68]\tvalidation_0-auc:0.72968\n",
      "[69]\tvalidation_0-auc:0.73031\n",
      "[70]\tvalidation_0-auc:0.73040\n",
      "[71]\tvalidation_0-auc:0.73079\n",
      "[72]\tvalidation_0-auc:0.73111\n",
      "[73]\tvalidation_0-auc:0.73119\n",
      "[74]\tvalidation_0-auc:0.73122\n",
      "[75]\tvalidation_0-auc:0.73126\n",
      "[76]\tvalidation_0-auc:0.73157\n",
      "[77]\tvalidation_0-auc:0.73172\n",
      "[78]\tvalidation_0-auc:0.73226\n",
      "[79]\tvalidation_0-auc:0.73238\n",
      "[80]\tvalidation_0-auc:0.73239\n",
      "[81]\tvalidation_0-auc:0.73255\n",
      "[82]\tvalidation_0-auc:0.73282\n",
      "[83]\tvalidation_0-auc:0.73298\n",
      "[84]\tvalidation_0-auc:0.73325\n",
      "[85]\tvalidation_0-auc:0.73347\n",
      "[86]\tvalidation_0-auc:0.73347\n",
      "[87]\tvalidation_0-auc:0.73350\n",
      "[88]\tvalidation_0-auc:0.73349\n",
      "[89]\tvalidation_0-auc:0.73376\n",
      "[90]\tvalidation_0-auc:0.73400\n",
      "[91]\tvalidation_0-auc:0.73455\n",
      "[92]\tvalidation_0-auc:0.73503\n",
      "[93]\tvalidation_0-auc:0.73528\n",
      "[94]\tvalidation_0-auc:0.73539\n",
      "[95]\tvalidation_0-auc:0.73537\n",
      "[96]\tvalidation_0-auc:0.73555\n",
      "[97]\tvalidation_0-auc:0.73555\n",
      "[98]\tvalidation_0-auc:0.73582\n",
      "[99]\tvalidation_0-auc:0.73594\n"
     ]
    },
    {
     "data": {
      "text/plain": [
       "XGBClassifier(base_score=0.5, booster='gbtree', colsample_bylevel=1,\n",
       "              colsample_bynode=1, colsample_bytree=1, eval_metric='auc',\n",
       "              gamma=0, gpu_id=-1, importance_type='gain',\n",
       "              interaction_constraints='', learning_rate=0.300000012,\n",
       "              max_delta_step=0, max_depth=6, min_child_weight=1, missing=nan,\n",
       "              monotone_constraints='()', n_estimators=100, n_jobs=0,\n",
       "              num_parallel_tree=1, random_state=42, reg_alpha=0, reg_lambda=1,\n",
       "              scale_pos_weight=1, subsample=1, tree_method='exact',\n",
       "              validate_parameters=1, verbosity=None)"
      ]
     },
     "execution_count": 400,
     "metadata": {},
     "output_type": "execute_result"
    }
   ],
   "source": [
    "    \n",
    "eval_set = [(X_test_clf, y_test_clf)]\n",
    "eval_metric = [\"auc\",\"error\"]\n",
    "\n",
    "\n",
    "xgb_model = xgb.XGBClassifier(objective=\"binary:logistic\", random_state=42, eval_metric=\"auc\")\n",
    "\n",
    "#%time \n",
    "#eval_metric=eval_metric\n",
    "xgb_model.fit(X_bal_clf,y_bal_clf,  early_stopping_rounds=5, eval_set=eval_set)\n",
    "\n",
    "\n",
    "\n",
    "\n"
   ]
  },
  {
   "cell_type": "code",
   "execution_count": 402,
   "metadata": {},
   "outputs": [
    {
     "name": "stdout",
     "output_type": "stream",
     "text": [
      "XGBClassifier(base_score=0.5, booster='gbtree', colsample_bylevel=1,\n",
      "              colsample_bynode=1, colsample_bytree=1, eval_metric='auc',\n",
      "              gamma=0, gpu_id=-1, importance_type='gain',\n",
      "              interaction_constraints='', learning_rate=0.300000012,\n",
      "              max_delta_step=0, max_depth=6, min_child_weight=1, missing=nan,\n",
      "              monotone_constraints='()', n_estimators=100, n_jobs=0,\n",
      "              num_parallel_tree=1, random_state=42, reg_alpha=0, reg_lambda=1,\n",
      "              scale_pos_weight=1, subsample=1, tree_method='exact',\n",
      "              validate_parameters=1, verbosity=None)\n",
      "best score: 0.735944, best iteration: 99, best ntree limit 100\n"
     ]
    }
   ],
   "source": [
    "#results = xgb_model.evals_result()\n",
    "print(xgb_model)\n",
    "\n",
    "# xgb_model.best_score, xgb_model.best_iteration,\n",
    "print(\"best score: {0}, best iteration: {1}, best ntree limit {2}\".format(xgb_model.best_score, xgb_model.best_iteration, xgb_model.best_ntree_limit))\n"
   ]
  },
  {
   "cell_type": "code",
   "execution_count": 403,
   "metadata": {},
   "outputs": [
    {
     "data": {
      "text/plain": [
       "<matplotlib.axes._subplots.AxesSubplot at 0x123fedba8>"
      ]
     },
     "execution_count": 403,
     "metadata": {},
     "output_type": "execute_result"
    },
    {
     "data": {
      "image/png": "[encoded data removed]",
      "text/plain": [
       "<Figure size 504x360 with 1 Axes>"
      ]
     },
     "metadata": {},
     "output_type": "display_data"
    }
   ],
   "source": [
    "xgb.plot_importance(xgb_model, max_num_features=20)"
   ]
  },
  {
   "cell_type": "code",
   "execution_count": 404,
   "metadata": {},
   "outputs": [
    {
     "name": "stdout",
     "output_type": "stream",
     "text": [
      "run\n"
     ]
    }
   ],
   "source": [
    "#xgb_model_tuned = xgb.XGBClassifier()\n",
    "# xgb_model_tuned.fit(X_bal_clf,y_bal_clf)\n",
    "\n",
    "y_pred = xgb_model.predict(X_test_clf)\n",
    "\n",
    "accuracy,tnp,fpp,fnp,tpp,roc_auc = cfm(y_test_clf,y_pred)\n",
    "\n",
    "output.append(['XGB Classifier Tuned',accuracy,tnp,fpp,fnp,tpp,roc_auc])\n",
    "\n",
    "print('run')"
   ]
  },
  {
   "cell_type": "code",
   "execution_count": 405,
   "metadata": {},
   "outputs": [
    {
     "data": {
      "text/html": [
       "<div>\n",
       "<style scoped>\n",
       "    .dataframe tbody tr th:only-of-type {\n",
       "        vertical-align: middle;\n",
       "    }\n",
       "\n",
       "    .dataframe tbody tr th {\n",
       "        vertical-align: top;\n",
       "    }\n",
       "\n",
       "    .dataframe thead th {\n",
       "        text-align: right;\n",
       "    }\n",
       "</style>\n",
       "<table border=\"1\" class=\"dataframe\">\n",
       "  <thead>\n",
       "    <tr style=\"text-align: right;\">\n",
       "      <th></th>\n",
       "      <th>Model</th>\n",
       "      <th>Accuracy%</th>\n",
       "      <th>TN%</th>\n",
       "      <th>FP%</th>\n",
       "      <th>FN%</th>\n",
       "      <th>TP%</th>\n",
       "      <th>AUC</th>\n",
       "    </tr>\n",
       "  </thead>\n",
       "  <tbody>\n",
       "    <tr>\n",
       "      <th>0</th>\n",
       "      <td>Decision Tree</td>\n",
       "      <td>65.63</td>\n",
       "      <td>67.04</td>\n",
       "      <td>32.96</td>\n",
       "      <td>37.97</td>\n",
       "      <td>62.03</td>\n",
       "      <td>0.65</td>\n",
       "    </tr>\n",
       "    <tr>\n",
       "      <th>1</th>\n",
       "      <td>Log Regression</td>\n",
       "      <td>63.11</td>\n",
       "      <td>62.42</td>\n",
       "      <td>37.58</td>\n",
       "      <td>35.12</td>\n",
       "      <td>64.88</td>\n",
       "      <td>0.64</td>\n",
       "    </tr>\n",
       "    <tr>\n",
       "      <th>2</th>\n",
       "      <td>LDA</td>\n",
       "      <td>63.04</td>\n",
       "      <td>62.24</td>\n",
       "      <td>37.76</td>\n",
       "      <td>34.92</td>\n",
       "      <td>65.08</td>\n",
       "      <td>0.64</td>\n",
       "    </tr>\n",
       "    <tr>\n",
       "      <th>3</th>\n",
       "      <td>Naive Bayes</td>\n",
       "      <td>56.25</td>\n",
       "      <td>51.84</td>\n",
       "      <td>48.16</td>\n",
       "      <td>32.46</td>\n",
       "      <td>67.54</td>\n",
       "      <td>0.60</td>\n",
       "    </tr>\n",
       "    <tr>\n",
       "      <th>4</th>\n",
       "      <td>XGB Classifier</td>\n",
       "      <td>67.77</td>\n",
       "      <td>68.42</td>\n",
       "      <td>31.58</td>\n",
       "      <td>33.88</td>\n",
       "      <td>66.12</td>\n",
       "      <td>0.67</td>\n",
       "    </tr>\n",
       "    <tr>\n",
       "      <th>5</th>\n",
       "      <td>XGB Classifier Tuned</td>\n",
       "      <td>67.77</td>\n",
       "      <td>68.42</td>\n",
       "      <td>31.58</td>\n",
       "      <td>33.88</td>\n",
       "      <td>66.12</td>\n",
       "      <td>0.67</td>\n",
       "    </tr>\n",
       "    <tr>\n",
       "      <th>6</th>\n",
       "      <td>XGB Classifier Tuned</td>\n",
       "      <td>67.77</td>\n",
       "      <td>68.42</td>\n",
       "      <td>31.58</td>\n",
       "      <td>33.88</td>\n",
       "      <td>66.12</td>\n",
       "      <td>0.67</td>\n",
       "    </tr>\n",
       "    <tr>\n",
       "      <th>7</th>\n",
       "      <td>XGB Classifier Tuned</td>\n",
       "      <td>67.77</td>\n",
       "      <td>68.42</td>\n",
       "      <td>31.58</td>\n",
       "      <td>33.88</td>\n",
       "      <td>66.12</td>\n",
       "      <td>0.67</td>\n",
       "    </tr>\n",
       "    <tr>\n",
       "      <th>8</th>\n",
       "      <td>XGB Classifier</td>\n",
       "      <td>67.77</td>\n",
       "      <td>68.42</td>\n",
       "      <td>31.58</td>\n",
       "      <td>33.88</td>\n",
       "      <td>66.12</td>\n",
       "      <td>0.67</td>\n",
       "    </tr>\n",
       "    <tr>\n",
       "      <th>9</th>\n",
       "      <td>XGB Classifier Tuned</td>\n",
       "      <td>67.25</td>\n",
       "      <td>67.92</td>\n",
       "      <td>32.08</td>\n",
       "      <td>34.47</td>\n",
       "      <td>65.53</td>\n",
       "      <td>0.67</td>\n",
       "    </tr>\n",
       "    <tr>\n",
       "      <th>10</th>\n",
       "      <td>XGB Classifier Tuned</td>\n",
       "      <td>67.77</td>\n",
       "      <td>68.42</td>\n",
       "      <td>31.58</td>\n",
       "      <td>33.88</td>\n",
       "      <td>66.12</td>\n",
       "      <td>0.67</td>\n",
       "    </tr>\n",
       "  </tbody>\n",
       "</table>\n",
       "</div>"
      ],
      "text/plain": [
       "                   Model  Accuracy%    TN%    FP%    FN%    TP%   AUC\n",
       "0          Decision Tree      65.63  67.04  32.96  37.97  62.03  0.65\n",
       "1         Log Regression      63.11  62.42  37.58  35.12  64.88  0.64\n",
       "2                    LDA      63.04  62.24  37.76  34.92  65.08  0.64\n",
       "3            Naive Bayes      56.25  51.84  48.16  32.46  67.54  0.60\n",
       "4         XGB Classifier      67.77  68.42  31.58  33.88  66.12  0.67\n",
       "5   XGB Classifier Tuned      67.77  68.42  31.58  33.88  66.12  0.67\n",
       "6   XGB Classifier Tuned      67.77  68.42  31.58  33.88  66.12  0.67\n",
       "7   XGB Classifier Tuned      67.77  68.42  31.58  33.88  66.12  0.67\n",
       "8         XGB Classifier      67.77  68.42  31.58  33.88  66.12  0.67\n",
       "9   XGB Classifier Tuned      67.25  67.92  32.08  34.47  65.53  0.67\n",
       "10  XGB Classifier Tuned      67.77  68.42  31.58  33.88  66.12  0.67"
      ]
     },
     "execution_count": 405,
     "metadata": {},
     "output_type": "execute_result"
    }
   ],
   "source": [
    "df=pd.DataFrame(output,columns=['Model','Accuracy%','TN%', 'FP%', 'FN%', 'TP%','AUC'])\n",
    "\n",
    "df.round(2)"
   ]
  },
  {
   "cell_type": "markdown",
   "metadata": {},
   "source": [
    "## Random Search CV - XGB"
   ]
  },
  {
   "cell_type": "code",
   "execution_count": 401,
   "metadata": {},
   "outputs": [],
   "source": [
    "from datetime import datetime\n",
    "from sklearn.model_selection import RandomizedSearchCV, GridSearchCV\n",
    "from sklearn.metrics import roc_auc_score\n",
    "from sklearn.model_selection import StratifiedKFold"
   ]
  },
  {
   "cell_type": "code",
   "execution_count": 406,
   "metadata": {},
   "outputs": [],
   "source": [
    "def timer(start_time=None):\n",
    "    if not start_time:\n",
    "        start_time = datetime.now()\n",
    "        return start_time\n",
    "    elif start_time:\n",
    "        thour, temp_sec = divmod((datetime.now() - start_time).total_seconds(), 3600)\n",
    "        tmin, tsec = divmod(temp_sec, 60)\n",
    "        print('\\n Time taken: %i hours %i minutes and %s seconds.' % (thour, tmin, round(tsec, 2)))"
   ]
  },
  {
   "cell_type": "code",
   "execution_count": 407,
   "metadata": {},
   "outputs": [],
   "source": [
    "# A parameter grid for XGBoost\n",
    "params = {\n",
    "        'min_child_weight': [1, 5, 10],\n",
    "        'gamma': [0.5, 1, 1.5, 2, 5],\n",
    "        'subsample': [0.6, 0.8, 1.0],\n",
    "        'colsample_bytree': [0.6, 0.8, 1.0],\n",
    "        'max_depth': [3, 4, 5]\n",
    "        }"
   ]
  },
  {
   "cell_type": "code",
   "execution_count": 410,
   "metadata": {},
   "outputs": [
    {
     "name": "stdout",
     "output_type": "stream",
     "text": [
      "Fitting 3 folds for each of 5 candidates, totalling 15 fits\n"
     ]
    },
    {
     "name": "stderr",
     "output_type": "stream",
     "text": [
      "[Parallel(n_jobs=4)]: Using backend LokyBackend with 4 concurrent workers.\n",
      "[Parallel(n_jobs=4)]: Done  15 out of  15 | elapsed: 153.0min finished\n"
     ]
    },
    {
     "name": "stdout",
     "output_type": "stream",
     "text": [
      "[01:48:05] WARNING: /Users/travis/build/dmlc/xgboost/src/learner.cc:480: \n",
      "Parameters: { silent } might not be used.\n",
      "\n",
      "  This may not be accurate due to some parameters are only used in language bindings but\n",
      "  passed down to XGBoost core.  Or some parameters are not used but slip through this\n",
      "  verification. Please open an issue if you find above cases.\n",
      "\n",
      "\n",
      "\n",
      " Time taken: 3 hours 12 minutes and 2.3 seconds.\n"
     ]
    }
   ],
   "source": [
    "from xgboost import XGBClassifier\n",
    "xgb = XGBClassifier(learning_rate=0.02, n_estimators=600, objective='binary:logistic',\n",
    "                    silent=True, nthread=1)\n",
    "\n",
    "folds = 3\n",
    "param_comb = 5\n",
    "\n",
    "skf = StratifiedKFold(n_splits=folds, shuffle = True, random_state = 1001)\n",
    "\n",
    "random_search = RandomizedSearchCV(xgb, param_distributions=params, n_iter=param_comb, scoring='roc_auc', n_jobs=4, cv=skf.split(X_clf, y_clf), verbose=3, random_state=1001 )\n",
    "\n",
    "# Here we go\n",
    "start_time = timer(None) # timing starts from this point for \"start_time\" variable\n",
    "random_search.fit(X_bal_clf, y_bal_clf)\n",
    "timer(start_time)\n"
   ]
  },
  {
   "cell_type": "code",
   "execution_count": 411,
   "metadata": {},
   "outputs": [
    {
     "name": "stdout",
     "output_type": "stream",
     "text": [
      "\n",
      " All results:\n",
      "{'mean_fit_time': array([2130.84846489, 2634.72784734, 2597.19702458, 1964.61543989,\n",
      "       2043.36283199]), 'std_fit_time': array([ 2.50628031, 50.04278941, 57.07208863, 12.27391175, 82.56670476]), 'mean_score_time': array([5.27770559, 7.61158895, 7.11344767, 7.11983665, 4.57681974]), 'std_score_time': array([0.24672524, 0.12731237, 0.06836437, 0.07878557, 0.64484841]), 'param_subsample': masked_array(data=[1.0, 0.6, 0.8, 1.0, 0.8],\n",
      "             mask=[False, False, False, False, False],\n",
      "       fill_value='?',\n",
      "            dtype=object), 'param_min_child_weight': masked_array(data=[5, 1, 5, 5, 1],\n",
      "             mask=[False, False, False, False, False],\n",
      "       fill_value='?',\n",
      "            dtype=object), 'param_max_depth': masked_array(data=[3, 5, 5, 5, 4],\n",
      "             mask=[False, False, False, False, False],\n",
      "       fill_value='?',\n",
      "            dtype=object), 'param_gamma': masked_array(data=[5, 1.5, 1, 5, 1],\n",
      "             mask=[False, False, False, False, False],\n",
      "       fill_value='?',\n",
      "            dtype=object), 'param_colsample_bytree': masked_array(data=[1.0, 0.8, 0.8, 0.6, 1.0],\n",
      "             mask=[False, False, False, False, False],\n",
      "       fill_value='?',\n",
      "            dtype=object), 'params': [{'subsample': 1.0, 'min_child_weight': 5, 'max_depth': 3, 'gamma': 5, 'colsample_bytree': 1.0}, {'subsample': 0.6, 'min_child_weight': 1, 'max_depth': 5, 'gamma': 1.5, 'colsample_bytree': 0.8}, {'subsample': 0.8, 'min_child_weight': 5, 'max_depth': 5, 'gamma': 1, 'colsample_bytree': 0.8}, {'subsample': 1.0, 'min_child_weight': 5, 'max_depth': 5, 'gamma': 5, 'colsample_bytree': 0.6}, {'subsample': 0.8, 'min_child_weight': 1, 'max_depth': 4, 'gamma': 1, 'colsample_bytree': 1.0}], 'split0_test_score': array([0.69168292, 0.71917309, 0.71788492, 0.71442269, 0.70654494]), 'split1_test_score': array([0.69124099, 0.71987323, 0.71911691, 0.71500376, 0.70773308]), 'split2_test_score': array([0.69071342, 0.71906045, 0.71769658, 0.71408533, 0.7067276 ]), 'mean_test_score': array([0.69121245, 0.71936892, 0.7182328 , 0.71450393, 0.70700187]), 'std_test_score': array([0.00039631, 0.00035955, 0.00062987, 0.00037932, 0.00052239]), 'rank_test_score': array([5, 1, 2, 3, 4], dtype=int32)}\n",
      "\n",
      " Best estimator:\n",
      "XGBClassifier(base_score=0.5, booster='gbtree', colsample_bylevel=1,\n",
      "              colsample_bynode=1, colsample_bytree=0.8, gamma=1.5, gpu_id=-1,\n",
      "              importance_type='gain', interaction_constraints='',\n",
      "              learning_rate=0.02, max_delta_step=0, max_depth=5,\n",
      "              min_child_weight=1, missing=nan, monotone_constraints='()',\n",
      "              n_estimators=600, n_jobs=1, nthread=1, num_parallel_tree=1,\n",
      "              random_state=0, reg_alpha=0, reg_lambda=1, scale_pos_weight=1,\n",
      "              silent=True, subsample=0.6, tree_method='exact',\n",
      "              validate_parameters=1, verbosity=None)\n",
      "\n",
      " Best normalized gini score for 3-fold search with 5 parameter combinations:\n",
      "0.4387378482234201\n",
      "\n",
      " Best hyperparameters:\n",
      "{'subsample': 0.6, 'min_child_weight': 1, 'max_depth': 5, 'gamma': 1.5, 'colsample_bytree': 0.8}\n"
     ]
    }
   ],
   "source": [
    "print('\\n All results:')\n",
    "print(random_search.cv_results_)\n",
    "print('\\n Best estimator:')\n",
    "print(random_search.best_estimator_)\n",
    "print('\\n Best normalized gini score for %d-fold search with %d parameter combinations:' % (folds, param_comb))\n",
    "print(random_search.best_score_ * 2 - 1)\n",
    "print('\\n Best hyperparameters:')\n",
    "print(random_search.best_params_)\n",
    "results = pd.DataFrame(random_search.cv_results_)\n",
    "results.to_csv(data_path + 'xgb-random-grid-search-results-01.csv', index=False)"
   ]
  },
  {
   "cell_type": "code",
   "execution_count": null,
   "metadata": {},
   "outputs": [],
   "source": []
  },
  {
   "cell_type": "markdown",
   "metadata": {},
   "source": [
    "#### Delete all classifier variables from memory"
   ]
  },
  {
   "cell_type": "code",
   "execution_count": null,
   "metadata": {},
   "outputs": [],
   "source": [
    "#del X_train_clf, X_bal_clf,X_test_clf, y_train_clf\n",
    "#del y_test_clf,y_pred, y_bal_clf\n",
    "#del summary_final_classifier_dummies\n",
    "#del summary_final_classifier\n",
    "\n"
   ]
  },
  {
   "cell_type": "code",
   "execution_count": 123,
   "metadata": {},
   "outputs": [
    {
     "data": {
      "text/html": [
       "<div>\n",
       "<style scoped>\n",
       "    .dataframe tbody tr th:only-of-type {\n",
       "        vertical-align: middle;\n",
       "    }\n",
       "\n",
       "    .dataframe tbody tr th {\n",
       "        vertical-align: top;\n",
       "    }\n",
       "\n",
       "    .dataframe thead th {\n",
       "        text-align: right;\n",
       "    }\n",
       "</style>\n",
       "<table border=\"1\" class=\"dataframe\">\n",
       "  <thead>\n",
       "    <tr style=\"text-align: right;\">\n",
       "      <th></th>\n",
       "      <th>item_no</th>\n",
       "      <th>period</th>\n",
       "      <th>state</th>\n",
       "      <th>region</th>\n",
       "      <th>brand</th>\n",
       "      <th>stock_prevailing_mrp</th>\n",
       "      <th>store_type</th>\n",
       "      <th>store_location</th>\n",
       "      <th>city_type</th>\n",
       "      <th>case_size_range</th>\n",
       "      <th>...</th>\n",
       "      <th>dial_color</th>\n",
       "      <th>strap_type</th>\n",
       "      <th>strap_color</th>\n",
       "      <th>precious_stone</th>\n",
       "      <th>glass</th>\n",
       "      <th>case_shape</th>\n",
       "      <th>watch_type</th>\n",
       "      <th>billing</th>\n",
       "      <th>sales_quantity</th>\n",
       "      <th>so</th>\n",
       "    </tr>\n",
       "  </thead>\n",
       "  <tbody>\n",
       "    <tr>\n",
       "      <th>0</th>\n",
       "      <td>5100311</td>\n",
       "      <td>1</td>\n",
       "      <td>ST09</td>\n",
       "      <td>South</td>\n",
       "      <td>B008</td>\n",
       "      <td>10.727273</td>\n",
       "      <td>Ethos</td>\n",
       "      <td>Mall</td>\n",
       "      <td>Tier1</td>\n",
       "      <td>41-43 mm</td>\n",
       "      <td>...</td>\n",
       "      <td>white</td>\n",
       "      <td>leather</td>\n",
       "      <td>black</td>\n",
       "      <td>no</td>\n",
       "      <td>sapphire crystal</td>\n",
       "      <td>round</td>\n",
       "      <td>analog</td>\n",
       "      <td>10.727273</td>\n",
       "      <td>0.0</td>\n",
       "      <td>-11.512925</td>\n",
       "    </tr>\n",
       "    <tr>\n",
       "      <th>1</th>\n",
       "      <td>5100392</td>\n",
       "      <td>1</td>\n",
       "      <td>ST09</td>\n",
       "      <td>South</td>\n",
       "      <td>B008</td>\n",
       "      <td>17.600000</td>\n",
       "      <td>Ethos</td>\n",
       "      <td>Mall</td>\n",
       "      <td>Tier1</td>\n",
       "      <td>41-43 mm</td>\n",
       "      <td>...</td>\n",
       "      <td>silver</td>\n",
       "      <td>leather</td>\n",
       "      <td>brown</td>\n",
       "      <td>no</td>\n",
       "      <td>sapphire crystal</td>\n",
       "      <td>round</td>\n",
       "      <td>analog</td>\n",
       "      <td>17.600000</td>\n",
       "      <td>0.0</td>\n",
       "      <td>-11.512925</td>\n",
       "    </tr>\n",
       "    <tr>\n",
       "      <th>2</th>\n",
       "      <td>5104730</td>\n",
       "      <td>1</td>\n",
       "      <td>ST09</td>\n",
       "      <td>South</td>\n",
       "      <td>B048</td>\n",
       "      <td>7.062000</td>\n",
       "      <td>Ethos</td>\n",
       "      <td>DFS</td>\n",
       "      <td>Tier1</td>\n",
       "      <td>32-34 mm</td>\n",
       "      <td>...</td>\n",
       "      <td>brown</td>\n",
       "      <td>steel</td>\n",
       "      <td>silver</td>\n",
       "      <td>no</td>\n",
       "      <td>sapphire crystal</td>\n",
       "      <td>round</td>\n",
       "      <td>analog</td>\n",
       "      <td>7.062000</td>\n",
       "      <td>0.0</td>\n",
       "      <td>-11.512925</td>\n",
       "    </tr>\n",
       "    <tr>\n",
       "      <th>3</th>\n",
       "      <td>5106714</td>\n",
       "      <td>1</td>\n",
       "      <td>ST09</td>\n",
       "      <td>South</td>\n",
       "      <td>B063</td>\n",
       "      <td>19.500000</td>\n",
       "      <td>Ethos</td>\n",
       "      <td>Mall</td>\n",
       "      <td>Tier1</td>\n",
       "      <td>38-40 mm</td>\n",
       "      <td>...</td>\n",
       "      <td>silver</td>\n",
       "      <td>steel</td>\n",
       "      <td>silver</td>\n",
       "      <td>no</td>\n",
       "      <td>sapphire crystal</td>\n",
       "      <td>round</td>\n",
       "      <td>analog</td>\n",
       "      <td>19.500000</td>\n",
       "      <td>0.0</td>\n",
       "      <td>-11.512925</td>\n",
       "    </tr>\n",
       "    <tr>\n",
       "      <th>4</th>\n",
       "      <td>5106817</td>\n",
       "      <td>1</td>\n",
       "      <td>ST09</td>\n",
       "      <td>South</td>\n",
       "      <td>B063</td>\n",
       "      <td>7.200000</td>\n",
       "      <td>Ethos</td>\n",
       "      <td>Mall</td>\n",
       "      <td>Tier1</td>\n",
       "      <td>32-34 mm</td>\n",
       "      <td>...</td>\n",
       "      <td>white</td>\n",
       "      <td>steel</td>\n",
       "      <td>silver</td>\n",
       "      <td>no</td>\n",
       "      <td>sapphire crystal</td>\n",
       "      <td>rectangle</td>\n",
       "      <td>analog</td>\n",
       "      <td>7.200000</td>\n",
       "      <td>0.0</td>\n",
       "      <td>-11.512925</td>\n",
       "    </tr>\n",
       "  </tbody>\n",
       "</table>\n",
       "<p>5 rows × 23 columns</p>\n",
       "</div>"
      ],
      "text/plain": [
       "   item_no  period state region brand  stock_prevailing_mrp store_type  \\\n",
       "0  5100311       1  ST09  South  B008             10.727273      Ethos   \n",
       "1  5100392       1  ST09  South  B008             17.600000      Ethos   \n",
       "2  5104730       1  ST09  South  B048              7.062000      Ethos   \n",
       "3  5106714       1  ST09  South  B063             19.500000      Ethos   \n",
       "4  5106817       1  ST09  South  B063              7.200000      Ethos   \n",
       "\n",
       "  store_location city_type case_size_range  ... dial_color strap_type  \\\n",
       "0           Mall     Tier1        41-43 mm  ...      white    leather   \n",
       "1           Mall     Tier1        41-43 mm  ...     silver    leather   \n",
       "2            DFS     Tier1        32-34 mm  ...      brown      steel   \n",
       "3           Mall     Tier1        38-40 mm  ...     silver      steel   \n",
       "4           Mall     Tier1        32-34 mm  ...      white      steel   \n",
       "\n",
       "  strap_color precious_stone             glass case_shape watch_type  \\\n",
       "0       black             no  sapphire crystal      round     analog   \n",
       "1       brown             no  sapphire crystal      round     analog   \n",
       "2      silver             no  sapphire crystal      round     analog   \n",
       "3      silver             no  sapphire crystal      round     analog   \n",
       "4      silver             no  sapphire crystal  rectangle     analog   \n",
       "\n",
       "     billing sales_quantity         so  \n",
       "0  10.727273            0.0 -11.512925  \n",
       "1  17.600000            0.0 -11.512925  \n",
       "2   7.062000            0.0 -11.512925  \n",
       "3  19.500000            0.0 -11.512925  \n",
       "4   7.200000            0.0 -11.512925  \n",
       "\n",
       "[5 rows x 23 columns]"
      ]
     },
     "execution_count": 123,
     "metadata": {},
     "output_type": "execute_result"
    }
   ],
   "source": [
    "summary_final_pareto.head()"
   ]
  },
  {
   "cell_type": "markdown",
   "metadata": {},
   "source": [
    "## Regression model on non-zero sales data"
   ]
  },
  {
   "cell_type": "code",
   "execution_count": 125,
   "metadata": {},
   "outputs": [],
   "source": [
    "summary_final_pareto_reg = summary_final_pareto[summary_final_pareto['sales_quantity'] > 0]\n"
   ]
  },
  {
   "cell_type": "markdown",
   "metadata": {},
   "source": [
    "#### Creating dummy variables for regression model"
   ]
  },
  {
   "cell_type": "code",
   "execution_count": 126,
   "metadata": {},
   "outputs": [
    {
     "name": "stdout",
     "output_type": "stream",
     "text": [
      "Done\n"
     ]
    }
   ],
   "source": [
    "#creating dummy variables\n",
    "cols=['brand','state','region', 'store_type', 'store_location', 'city_type',\n",
    "       'case_size_range', 'gender', 'movement', 'material', 'dial_color',\n",
    "       'strap_type', 'strap_color', 'precious_stone', 'glass', 'case_shape',\n",
    "       'watch_type']\n",
    "summary_final_dummies=pd.get_dummies(data=summary_final_pareto_reg, columns=cols)\n",
    "\n",
    "print('Done')"
   ]
  },
  {
   "cell_type": "code",
   "execution_count": 127,
   "metadata": {},
   "outputs": [
    {
     "data": {
      "text/plain": [
       "(110573, 191)"
      ]
     },
     "execution_count": 127,
     "metadata": {},
     "output_type": "execute_result"
    }
   ],
   "source": [
    "summary_final_dummies.shape\n"
   ]
  },
  {
   "cell_type": "code",
   "execution_count": 128,
   "metadata": {},
   "outputs": [],
   "source": [
    "X_non_zero = summary_final_dummies[summary_final_dummies['sales_quantity'] > 0].iloc[0:10]"
   ]
  },
  {
   "cell_type": "code",
   "execution_count": 129,
   "metadata": {},
   "outputs": [],
   "source": [
    "#for So as the target variable\n",
    "#creating seperate df for independent and dependent features\n",
    "y=summary_final_dummies.loc[:, summary_final_dummies.columns == 'sales_quantity']\n",
    "X=summary_final_dummies.drop(columns =['sales_quantity','item_no','billing', 'so'])\n",
    "\n"
   ]
  },
  {
   "cell_type": "code",
   "execution_count": 130,
   "metadata": {},
   "outputs": [
    {
     "data": {
      "text/plain": [
       "(110573, 191)"
      ]
     },
     "execution_count": 130,
     "metadata": {},
     "output_type": "execute_result"
    }
   ],
   "source": [
    "summary_final_dummies.shape\n"
   ]
  },
  {
   "cell_type": "code",
   "execution_count": 131,
   "metadata": {},
   "outputs": [
    {
     "data": {
      "text/plain": [
       "Index([], dtype='object')"
      ]
     },
     "execution_count": 131,
     "metadata": {},
     "output_type": "execute_result"
    }
   ],
   "source": [
    "#checking for duplicate column names\n",
    "duplicate_columns = summary_final_dummies.columns[summary_final_dummies.columns.duplicated()]\n",
    "duplicate_columns"
   ]
  },
  {
   "cell_type": "code",
   "execution_count": 132,
   "metadata": {},
   "outputs": [
    {
     "data": {
      "text/plain": [
       "'\\nsplit=0.2\\ntest=int(len(X)*split)\\ntrain=len(X)-test\\nX_train=X.head(train)\\ny_train=y.head(train)\\nX_test=X.tail(test)\\ny_test=y.tail(test)\\n'"
      ]
     },
     "execution_count": 132,
     "metadata": {},
     "output_type": "execute_result"
    }
   ],
   "source": [
    "#performing train and test split on data\n",
    "X_train,X_test, y_train, y_test = train_test_split(X, y, test_size=0.2, random_state=42)\n",
    "\n",
    "\n",
    "\"\"\"\n",
    "split=0.2\n",
    "test=int(len(X)*split)\n",
    "train=len(X)-test\n",
    "X_train=X.head(train)\n",
    "y_train=y.head(train)\n",
    "X_test=X.tail(test)\n",
    "y_test=y.tail(test)\n",
    "\"\"\""
   ]
  },
  {
   "cell_type": "code",
   "execution_count": 133,
   "metadata": {},
   "outputs": [],
   "source": [
    "y2 = summary_final_dummies.loc[:, summary_final_dummies.columns == 'so']\n",
    "X_train2,X_test2, y_train2, y_test2 = train_test_split(X, y2, test_size=0.2, random_state=42)"
   ]
  },
  {
   "cell_type": "markdown",
   "metadata": {},
   "source": [
    "## Regression Modelling"
   ]
  },
  {
   "cell_type": "code",
   "execution_count": 136,
   "metadata": {},
   "outputs": [],
   "source": [
    "from sklearn.metrics import mean_squared_error\n",
    "from sklearn.metrics import r2_score\n"
   ]
  },
  {
   "cell_type": "markdown",
   "metadata": {},
   "source": [
    "## Linear regression on So"
   ]
  },
  {
   "cell_type": "code",
   "execution_count": 138,
   "metadata": {},
   "outputs": [
    {
     "name": "stdout",
     "output_type": "stream",
     "text": [
      "Linear regression RMSE: 0.48, Test R2: 0.68\n"
     ]
    }
   ],
   "source": [
    "from sklearn.linear_model import LinearRegression\n",
    "reg_model_so = LinearRegression()  \n",
    "reg_model_so.fit(X_train2, y_train2)\n",
    "preds_so = reg_model_so.predict(X_test2)\n",
    "from sklearn.metrics import mean_squared_error\n",
    "from sklearn.metrics import r2_score\n",
    "rmse = np.sqrt(mean_squared_error(y_test2, preds_so))\n",
    "r2=r2_score(y_test2, preds_so)\n",
    "print(\"Linear regression RMSE: %.2f, Test R2: %.2f\" % (rmse,r2))"
   ]
  },
  {
   "cell_type": "markdown",
   "metadata": {},
   "source": [
    "## XGB Regression"
   ]
  },
  {
   "cell_type": "code",
   "execution_count": 188,
   "metadata": {},
   "outputs": [],
   "source": [
    "import xgboost as xgb\n",
    "from sklearn.metrics import mean_squared_error"
   ]
  },
  {
   "cell_type": "code",
   "execution_count": 189,
   "metadata": {},
   "outputs": [],
   "source": [
    "xg_reg = xgb.XGBRegressor(objective ='reg:squarederror', colsample_bytree = 0.3, learning_rate = 0.1,max_depth = 5, alpha = 10, n_estimators = 10)\n",
    "xg_reg.fit(X_train2,y_train2)\n",
    "preds = xg_reg.predict(X_test2)\n",
    "rmse = np.sqrt(mean_squared_error(y_test2, preds))\n"
   ]
  },
  {
   "cell_type": "code",
   "execution_count": 190,
   "metadata": {},
   "outputs": [
    {
     "name": "stdout",
     "output_type": "stream",
     "text": [
      "Xgboost RMSE: 3.08, Test R2: -12.26\n"
     ]
    }
   ],
   "source": [
    "from sklearn.metrics import r2_score\n",
    "r2 = r2_score(y_test2,preds)\n",
    "print(\"Xgboost RMSE: %.2f, Test R2: %.2f\" % (rmse,r2))"
   ]
  },
  {
   "cell_type": "code",
   "execution_count": 191,
   "metadata": {},
   "outputs": [],
   "source": [
    "params = {'colsample_bytree': [0.1,0.2,0.3,0.4,0.5,0.6,0.7,0.8,0.9],\n",
    "          'subsample': [0.1,0.2,0.3,0.4,0.5,0.6,0.7,0.8,0.9],\n",
    "          'colsample_bylevel':[0.1,0.2,0.3,0.4,0.5,0.6,0.7,0.8,0.9],\n",
    "          'min_child_weight':[1,3,5,7] ,\n",
    "          'reg_lambda':[0.1,0.2,0.3,0.4,0.5,0.6,0.7,0.8,0.9],\n",
    "          'n_estimator':[3,5,7,10],\n",
    "          'learning_rate': [0.05,0.1,0.15,0.2,0.25,0.3],\n",
    "          'max_depth': [3,4,5,6,7,8,10,12,15], \n",
    "          'reg_alpha': [0.1,0.2,0.3,0.4,0.5,0.6,0.7,0.8,0.9]\n",
    "         }"
   ]
  },
  {
   "cell_type": "code",
   "execution_count": 192,
   "metadata": {},
   "outputs": [],
   "source": [
    "from sklearn.model_selection import RandomizedSearchCV, GridSearchCV\n",
    "xg_reg = xgb.XGBRegressor(objective ='reg:squarederror')\n",
    "#scoring='r2'\n",
    "scoring='neg_mean_squared_error'\n",
    "random_search=RandomizedSearchCV(xg_reg,param_distributions=params,scoring=scoring,n_iter=20,cv=5,verbose=3)\n"
   ]
  },
  {
   "cell_type": "markdown",
   "metadata": {},
   "source": [
    "#### Do not run again - Best params below\n"
   ]
  },
  {
   "cell_type": "code",
   "execution_count": null,
   "metadata": {},
   "outputs": [],
   "source": [
    "# random_search.fit(X_train2,y_train2) # clear output"
   ]
  },
  {
   "cell_type": "code",
   "execution_count": 194,
   "metadata": {},
   "outputs": [
    {
     "data": {
      "text/plain": [
       "XGBRegressor(base_score=0.5, booster='gbtree', colsample_bylevel=0.2,\n",
       "             colsample_bynode=1, colsample_bytree=0.9, gamma=0, gpu_id=-1,\n",
       "             importance_type='gain', interaction_constraints='',\n",
       "             learning_rate=0.15, max_delta_step=0, max_depth=12,\n",
       "             min_child_weight=5, missing=nan, monotone_constraints='()',\n",
       "             n_estimator=5, n_estimators=100, n_jobs=0, num_parallel_tree=1,\n",
       "             random_state=0, reg_alpha=0.2, reg_lambda=0.7, scale_pos_weight=1,\n",
       "             subsample=0.9, tree_method='exact', validate_parameters=1,\n",
       "             verbosity=None)"
      ]
     },
     "execution_count": 194,
     "metadata": {},
     "output_type": "execute_result"
    }
   ],
   "source": [
    "#random_search.best_estimator_\n",
    "\n",
    "\"\"\"\n",
    "XGBRegressor(base_score=0.5, booster='gbtree', colsample_bylevel=0.2,\n",
    "             colsample_bynode=1, colsample_bytree=0.9, gamma=0, gpu_id=-1,\n",
    "             importance_type='gain', interaction_constraints='',\n",
    "             learning_rate=0.15, max_delta_step=0, max_depth=12,\n",
    "             min_child_weight=5, missing=nan, monotone_constraints='()',\n",
    "             n_estimator=5, n_estimators=100, n_jobs=0, num_parallel_tree=1,\n",
    "             random_state=0, reg_alpha=0.2, reg_lambda=0.7, scale_pos_weight=1,\n",
    "             subsample=0.9, tree_method='exact', validate_parameters=1,\n",
    "             verbosity=None)\n",
    "\"\"\""
   ]
  },
  {
   "cell_type": "code",
   "execution_count": 195,
   "metadata": {},
   "outputs": [
    {
     "data": {
      "text/plain": [
       "{'subsample': 0.9,\n",
       " 'reg_lambda': 0.7,\n",
       " 'reg_alpha': 0.2,\n",
       " 'n_estimator': 5,\n",
       " 'min_child_weight': 5,\n",
       " 'max_depth': 12,\n",
       " 'learning_rate': 0.15,\n",
       " 'colsample_bytree': 0.9,\n",
       " 'colsample_bylevel': 0.2}"
      ]
     },
     "execution_count": 195,
     "metadata": {},
     "output_type": "execute_result"
    }
   ],
   "source": [
    "#random_search.best_params_\n",
    "\n",
    "\"\"\"\n",
    "{'subsample': 0.9,\n",
    " 'reg_lambda': 0.7,\n",
    " 'reg_alpha': 0.2,\n",
    " 'n_estimator': 5,\n",
    " 'min_child_weight': 5,\n",
    " 'max_depth': 12,\n",
    " 'learning_rate': 0.15,\n",
    " 'colsample_bytree': 0.9,\n",
    " 'colsample_bylevel': 0.2}\n",
    " \"\"\""
   ]
  },
  {
   "cell_type": "code",
   "execution_count": 196,
   "metadata": {},
   "outputs": [],
   "source": [
    "#best model based on the output of random_search.best_estimator_\n",
    "best_gb=xgb.XGBRegressor(base_score=0.5, booster='gbtree', colsample_bylevel=0.9,\n",
    "             colsample_bynode=1, colsample_bytree=0.8, gamma=0,\n",
    "             importance_type='gain', interaction_constraints='',\n",
    "             learning_rate=0.1, max_delta_step=0, max_depth=12,\n",
    "             min_child_weight = 7, missing=np.nan,\n",
    "              n_estimator=3, n_estimators=100,\n",
    "             n_jobs=0, num_parallel_tree=1, objective='reg:squarederror',\n",
    "             random_state=0, reg_alpha=0.5, reg_lambda=0.3, scale_pos_weight=1,\n",
    "             subsample=0.2, tree_method='exact', validate_parameters=1,\n",
    "             verbosity=0)"
   ]
  },
  {
   "cell_type": "code",
   "execution_count": 197,
   "metadata": {},
   "outputs": [],
   "source": [
    "from sklearn.model_selection import cross_val_score as cvs\n",
    "score=cvs(best_gb,X_train2,y_train2,cv=2,scoring='r2')"
   ]
  },
  {
   "cell_type": "code",
   "execution_count": 198,
   "metadata": {},
   "outputs": [
    {
     "data": {
      "text/plain": [
       "array([0.77404683, 0.77935373])"
      ]
     },
     "execution_count": 198,
     "metadata": {},
     "output_type": "execute_result"
    }
   ],
   "source": [
    "score"
   ]
  },
  {
   "cell_type": "code",
   "execution_count": 199,
   "metadata": {},
   "outputs": [
    {
     "name": "stdout",
     "output_type": "stream",
     "text": [
      "RMSE: 0.385794\n"
     ]
    }
   ],
   "source": [
    "best_gb.fit(X_train2,y_train2)\n",
    "preds = best_gb.predict(X_test2)\n",
    "rmse = np.sqrt(mean_squared_error(y_test2, preds))\n",
    "print(\"RMSE: %f\" % (rmse))"
   ]
  },
  {
   "cell_type": "code",
   "execution_count": 200,
   "metadata": {},
   "outputs": [
    {
     "name": "stdout",
     "output_type": "stream",
     "text": [
      "RMSE: 0.39, R2: 0.79\n"
     ]
    }
   ],
   "source": [
    "from sklearn.metrics import r2_score\n",
    "rmse = np.sqrt(mean_squared_error(y_test2, preds))\n",
    "r2=r2_score(y_test2,preds)\n",
    "print(\"RMSE: %.2f, R2: %.2f\" % (rmse,r2))"
   ]
  },
  {
   "cell_type": "code",
   "execution_count": 388,
   "metadata": {},
   "outputs": [
    {
     "data": {
      "text/plain": [
       "<matplotlib.axes._subplots.AxesSubplot at 0x123fb4518>"
      ]
     },
     "execution_count": 388,
     "metadata": {},
     "output_type": "execute_result"
    },
    {
     "data": {
      "image/png": "[encoded data removed]",
      "text/plain": [
       "<Figure size 504x360 with 1 Axes>"
      ]
     },
     "metadata": {},
     "output_type": "display_data"
    }
   ],
   "source": [
    "xgb.plot_importance(best_gb, max_num_features=20)"
   ]
  },
  {
   "cell_type": "code",
   "execution_count": 201,
   "metadata": {},
   "outputs": [
    {
     "data": {
      "text/plain": [
       "'del X_train2, y_train2\\ndel summary_final_dummies\\ndel summary_final_pareto_reg'"
      ]
     },
     "execution_count": 201,
     "metadata": {},
     "output_type": "execute_result"
    }
   ],
   "source": [
    "# delete dfs not to be used further here\n",
    "\"\"\"del X_train2, y_train2\n",
    "del summary_final_dummies\n",
    "del summary_final_pareto_reg\"\"\""
   ]
  },
  {
   "cell_type": "markdown",
   "metadata": {},
   "source": [
    "# Predictions"
   ]
  },
  {
   "cell_type": "markdown",
   "metadata": {},
   "source": [
    "### Prepare data for model input"
   ]
  },
  {
   "cell_type": "code",
   "execution_count": 309,
   "metadata": {},
   "outputs": [
    {
     "name": "stdout",
     "output_type": "stream",
     "text": [
      "476711\n"
     ]
    }
   ],
   "source": [
    "dirpath = '/Users/parulgaba/Desktop/Capstone-Ethos/ConfidentialData/csvdata/'\n",
    "\n",
    "data_path = '/Users/parulgaba/Desktop/Capstone-Ethos/ethos-retail-model/data/'\n",
    "\n",
    "filename = data_path + 'regression_data/' + 'aggregated_summary_store_type_12_weeks.csv'\n",
    "\n",
    "chunksize = 10 ** 5\n",
    "rows=0\n",
    "summary_df = pd.DataFrame()\n",
    "for chunk in pd.read_csv(filename, chunksize=chunksize):\n",
    "    summary_df=pd.concat([summary_df,chunk])\n",
    "    rows+=chunk.shape[0]\n",
    "print (rows)"
   ]
  },
  {
   "cell_type": "code",
   "execution_count": 310,
   "metadata": {},
   "outputs": [],
   "source": [
    "summary_df['stock_prevailing_mrp'] = summary_df['stock_prevailing_mrp'].div(10000)\n",
    "summary_df['billing'] = summary_df['billing'].div(10000)"
   ]
  },
  {
   "cell_type": "code",
   "execution_count": 311,
   "metadata": {},
   "outputs": [
    {
     "name": "stdout",
     "output_type": "stream",
     "text": [
      "Unique items removed with no sales at all for all 3 three years : 4324\n"
     ]
    }
   ],
   "source": [
    "items_no_sales = summary_df.groupby(['item_no']).agg({'sales_quantity':'sum'}).reset_index()\n",
    "unique_item_no_sales = items_no_sales[items_no_sales['sales_quantity'] == 0]['item_no'].unique()\n",
    "summary_df = summary_df[~summary_df['item_no'].isin(unique_item_no_sales)]\n",
    "print(\"Unique items removed with no sales at all for all 3 three years : \" + str(len(unique_item_no_sales)))"
   ]
  },
  {
   "cell_type": "code",
   "execution_count": 312,
   "metadata": {},
   "outputs": [],
   "source": [
    "cols_for_unique_selection = [\"item_no\",\"brand\",\"case_size_range\",\"gender\",\"movement\",\"material\",\"dial_color\",\"strap_type\",\n",
    "        \"strap_color\",\"precious_stone\",\"glass\",\"case_shape\",\"watch_type\"]\n",
    "                             \n",
    "unique_sku=summary_df[cols_for_unique_selection].drop_duplicates(cols_for_unique_selection)\n"
   ]
  },
  {
   "cell_type": "code",
   "execution_count": 313,
   "metadata": {},
   "outputs": [],
   "source": [
    "#replace features from pareto\n",
    "cols=['case_size_range', 'material', 'dial_color', 'strap_type', 'strap_color']\n",
    "for col in cols:\n",
    "    unique_sku[col] = np.where(unique_sku[col].isin(feature_mapping_dict[col]),'Other',unique_sku[col])\n",
    "    "
   ]
  },
  {
   "cell_type": "code",
   "execution_count": 314,
   "metadata": {},
   "outputs": [
    {
     "name": "stdout",
     "output_type": "stream",
     "text": [
      "14749\n"
     ]
    },
    {
     "data": {
      "text/plain": [
       "(14751, 13)"
      ]
     },
     "execution_count": 314,
     "metadata": {},
     "output_type": "execute_result"
    }
   ],
   "source": [
    "unique_sku.shape\n",
    "\n",
    "print(len(unique_sku['item_no'].unique()))\n",
    "\n",
    "unique_sku.shape"
   ]
  },
  {
   "cell_type": "code",
   "execution_count": 315,
   "metadata": {},
   "outputs": [
    {
     "name": "stdout",
     "output_type": "stream",
     "text": [
      "10591\n"
     ]
    },
    {
     "data": {
      "text/plain": [
       "(14751, 13)"
      ]
     },
     "execution_count": 315,
     "metadata": {},
     "output_type": "execute_result"
    }
   ],
   "source": [
    "#replace items with Others - replace brands first\n",
    "unique_sku['brand'] = np.where(unique_sku['item_no'].isin(item_mapping_list),'Others',unique_sku['brand'])\n",
    "unique_sku['item_no'] = np.where(unique_sku['item_no'].isin(item_mapping_list),'Others',unique_sku['item_no'])\n",
    "print(len(unique_sku['item_no'].unique()))\n",
    "\n",
    "unique_sku.shape"
   ]
  },
  {
   "cell_type": "code",
   "execution_count": 316,
   "metadata": {},
   "outputs": [
    {
     "data": {
      "text/plain": [
       "Index(['item_no', 'brand', 'case_size_range', 'gender', 'movement', 'material',\n",
       "       'dial_color', 'strap_type', 'strap_color', 'precious_stone', 'glass',\n",
       "       'case_shape', 'watch_type'],\n",
       "      dtype='object')"
      ]
     },
     "execution_count": 316,
     "metadata": {},
     "output_type": "execute_result"
    }
   ],
   "source": [
    "unique_sku.columns"
   ]
  },
  {
   "cell_type": "code",
   "execution_count": 322,
   "metadata": {},
   "outputs": [
    {
     "data": {
      "text/plain": [
       "(10589, 13)"
      ]
     },
     "execution_count": 322,
     "metadata": {},
     "output_type": "execute_result"
    }
   ],
   "source": [
    "summarize_method = {\n",
    "    # 'product_group_code' :'first', # why did we not pick this column\n",
    "    # 'days_to_sell' :'mean', where in the process is this used\n",
    "      # 'case_size' :'mean', Why was this dropped\n",
    "   'case_size_range' :'first', 'gender' :'first', 'movement' :'first', \n",
    "    'material' :'first', \n",
    "    'dial_color' :'first',\n",
    "   'strap_type' :'first', 'strap_color' :'first', 'precious_stone' :'first', \n",
    "    'glass' :'first', 'case_shape' :'first',\n",
    "   'watch_type' :'first'\n",
    "}\n",
    "\n",
    "unique_sku = unique_sku.groupby(['item_no', 'brand']).agg(summarize_method).reset_index()\n",
    "\n",
    "unique_sku.shape\n",
    "\n"
   ]
  },
  {
   "cell_type": "code",
   "execution_count": 323,
   "metadata": {},
   "outputs": [],
   "source": [
    "unique_sku['period'] = 15"
   ]
  },
  {
   "cell_type": "code",
   "execution_count": 324,
   "metadata": {},
   "outputs": [],
   "source": [
    "store_master = pd.read_csv(data_path + \"store_master_with_state_and_regions.csv\")\n"
   ]
  },
  {
   "cell_type": "code",
   "execution_count": 325,
   "metadata": {},
   "outputs": [
    {
     "data": {
      "text/plain": [
       "Index(['store_code', 'store_type', 'store_location', 'city_type', 'region',\n",
       "       'state', 'Status'],\n",
       "      dtype='object')"
      ]
     },
     "execution_count": 325,
     "metadata": {},
     "output_type": "execute_result"
    }
   ],
   "source": [
    "store_master.columns"
   ]
  },
  {
   "cell_type": "code",
   "execution_count": 326,
   "metadata": {},
   "outputs": [
    {
     "data": {
      "text/html": [
       "<div>\n",
       "<style scoped>\n",
       "    .dataframe tbody tr th:only-of-type {\n",
       "        vertical-align: middle;\n",
       "    }\n",
       "\n",
       "    .dataframe tbody tr th {\n",
       "        vertical-align: top;\n",
       "    }\n",
       "\n",
       "    .dataframe thead th {\n",
       "        text-align: right;\n",
       "    }\n",
       "</style>\n",
       "<table border=\"1\" class=\"dataframe\">\n",
       "  <thead>\n",
       "    <tr style=\"text-align: right;\">\n",
       "      <th></th>\n",
       "      <th>store_code</th>\n",
       "      <th>store_type</th>\n",
       "      <th>store_location</th>\n",
       "      <th>city_type</th>\n",
       "      <th>region</th>\n",
       "      <th>state</th>\n",
       "      <th>Status</th>\n",
       "    </tr>\n",
       "  </thead>\n",
       "  <tbody>\n",
       "    <tr>\n",
       "      <th>132</th>\n",
       "      <td>S28</td>\n",
       "      <td>Ethos</td>\n",
       "      <td>Mall</td>\n",
       "      <td>Tier1</td>\n",
       "      <td>West</td>\n",
       "      <td>ST12</td>\n",
       "      <td>ok</td>\n",
       "    </tr>\n",
       "  </tbody>\n",
       "</table>\n",
       "</div>"
      ],
      "text/plain": [
       "    store_code store_type store_location city_type region state Status\n",
       "132        S28      Ethos           Mall     Tier1   West  ST12     ok"
      ]
     },
     "execution_count": 326,
     "metadata": {},
     "output_type": "execute_result"
    }
   ],
   "source": [
    "store_master[store_master['store_code'] == 'S28']"
   ]
  },
  {
   "cell_type": "markdown",
   "metadata": {},
   "source": [
    "### Item MRPs"
   ]
  },
  {
   "cell_type": "code",
   "execution_count": 327,
   "metadata": {},
   "outputs": [],
   "source": [
    "item_mrp = pd.read_excel(data_path + 'itemMRP_encoded.xlsx')\n",
    "\n",
    "item_mrp['item_no'] = np.where(item_mrp['item_no'].isin(item_mapping_list),'Others',item_mrp['item_no'])\n",
    "item_mrp['brand'] = np.where(item_mrp['item_no'].isin(item_mapping_list),'Others',item_mrp['brand'])\n",
    "item_mrp = item_mrp.rename(columns={\"MRP\": \"stock_prevailing_mrp\"})\n",
    "\n",
    "item_mrp_agg = item_mrp.groupby(['item_no', 'brand']).agg({'stock_prevailing_mrp':'mean'}).reset_index()\n",
    "\n"
   ]
  },
  {
   "cell_type": "code",
   "execution_count": 328,
   "metadata": {},
   "outputs": [
    {
     "data": {
      "text/plain": [
       "Index(['item_no', 'brand', 'stock_prevailing_mrp'], dtype='object')"
      ]
     },
     "execution_count": 328,
     "metadata": {},
     "output_type": "execute_result"
    }
   ],
   "source": [
    "item_mrp_agg.columns"
   ]
  },
  {
   "cell_type": "code",
   "execution_count": 329,
   "metadata": {},
   "outputs": [
    {
     "data": {
      "text/plain": [
       "['stock_prevailing_mrp']"
      ]
     },
     "execution_count": 329,
     "metadata": {},
     "output_type": "execute_result"
    }
   ],
   "source": [
    "item_mrp_agg.columns[item_mrp_agg.isna().any()].tolist()"
   ]
  },
  {
   "cell_type": "code",
   "execution_count": 330,
   "metadata": {},
   "outputs": [
    {
     "data": {
      "text/plain": [
       "(14943, 2)"
      ]
     },
     "execution_count": 330,
     "metadata": {},
     "output_type": "execute_result"
    }
   ],
   "source": [
    "item_mrp_agg = item_mrp_agg[['item_no', 'stock_prevailing_mrp']][~item_mrp_agg['stock_prevailing_mrp'].isin([np.inf, -np.inf, np.nan])]\n",
    "item_mrp_agg.shape\n"
   ]
  },
  {
   "cell_type": "code",
   "execution_count": 331,
   "metadata": {},
   "outputs": [
    {
     "name": "stdout",
     "output_type": "stream",
     "text": [
      "(14908, 2)\n",
      "(10588, 15)\n"
     ]
    }
   ],
   "source": [
    "\n",
    "item_mrp_agg.drop_duplicates(subset='item_no', inplace=True)\n",
    "\n",
    "unique_sku['item_no'] = unique_sku['item_no'].astype(str)\n",
    "item_mrp_agg['item_no'] = item_mrp_agg['item_no'].astype(str)\n",
    "\n",
    "print(item_mrp_agg.shape)\n",
    "print (pd.merge(unique_sku, item_mrp_agg, left_on='item_no', right_on='item_no', how='inner').shape)\n",
    "\n",
    "unique_sku = pd.merge(unique_sku, item_mrp_agg, left_on='item_no', right_on='item_no', how='inner')\n"
   ]
  },
  {
   "cell_type": "code",
   "execution_count": 332,
   "metadata": {},
   "outputs": [],
   "source": [
    "unique_sku = unique_sku.fillna(0)"
   ]
  },
  {
   "cell_type": "code",
   "execution_count": 333,
   "metadata": {},
   "outputs": [
    {
     "data": {
      "text/plain": [
       "[]"
      ]
     },
     "execution_count": 333,
     "metadata": {},
     "output_type": "execute_result"
    }
   ],
   "source": [
    "unique_sku.columns[unique_sku.isna().any()].tolist()"
   ]
  },
  {
   "cell_type": "code",
   "execution_count": 334,
   "metadata": {},
   "outputs": [],
   "source": [
    "unique_sku['stock_prevailing_mrp'] = unique_sku['stock_prevailing_mrp'].div(10000)"
   ]
  },
  {
   "cell_type": "code",
   "execution_count": 335,
   "metadata": {},
   "outputs": [
    {
     "data": {
      "text/html": [
       "<div>\n",
       "<style scoped>\n",
       "    .dataframe tbody tr th:only-of-type {\n",
       "        vertical-align: middle;\n",
       "    }\n",
       "\n",
       "    .dataframe tbody tr th {\n",
       "        vertical-align: top;\n",
       "    }\n",
       "\n",
       "    .dataframe thead th {\n",
       "        text-align: right;\n",
       "    }\n",
       "</style>\n",
       "<table border=\"1\" class=\"dataframe\">\n",
       "  <thead>\n",
       "    <tr style=\"text-align: right;\">\n",
       "      <th></th>\n",
       "      <th>item_no</th>\n",
       "      <th>brand</th>\n",
       "      <th>case_size_range</th>\n",
       "      <th>gender</th>\n",
       "      <th>movement</th>\n",
       "      <th>material</th>\n",
       "      <th>dial_color</th>\n",
       "      <th>strap_type</th>\n",
       "      <th>strap_color</th>\n",
       "      <th>precious_stone</th>\n",
       "      <th>glass</th>\n",
       "      <th>case_shape</th>\n",
       "      <th>watch_type</th>\n",
       "      <th>period</th>\n",
       "      <th>stock_prevailing_mrp</th>\n",
       "    </tr>\n",
       "  </thead>\n",
       "  <tbody>\n",
       "    <tr>\n",
       "      <th>0</th>\n",
       "      <td>5100311</td>\n",
       "      <td>B008</td>\n",
       "      <td>41-43 mm</td>\n",
       "      <td>Men</td>\n",
       "      <td>quartz</td>\n",
       "      <td>steel</td>\n",
       "      <td>white</td>\n",
       "      <td>leather</td>\n",
       "      <td>black</td>\n",
       "      <td>no</td>\n",
       "      <td>sapphire crystal</td>\n",
       "      <td>round</td>\n",
       "      <td>analog</td>\n",
       "      <td>15</td>\n",
       "      <td>9.69</td>\n",
       "    </tr>\n",
       "    <tr>\n",
       "      <th>1</th>\n",
       "      <td>5100392</td>\n",
       "      <td>B008</td>\n",
       "      <td>41-43 mm</td>\n",
       "      <td>Men</td>\n",
       "      <td>automatic</td>\n",
       "      <td>steel</td>\n",
       "      <td>silver</td>\n",
       "      <td>leather</td>\n",
       "      <td>brown</td>\n",
       "      <td>no</td>\n",
       "      <td>sapphire crystal</td>\n",
       "      <td>round</td>\n",
       "      <td>analog</td>\n",
       "      <td>15</td>\n",
       "      <td>16.86</td>\n",
       "    </tr>\n",
       "    <tr>\n",
       "      <th>2</th>\n",
       "      <td>5102171</td>\n",
       "      <td>B010</td>\n",
       "      <td>Other</td>\n",
       "      <td>Women</td>\n",
       "      <td>automatic</td>\n",
       "      <td>rose gold</td>\n",
       "      <td>silver</td>\n",
       "      <td>Other</td>\n",
       "      <td>Other</td>\n",
       "      <td>on bezel &amp; dial</td>\n",
       "      <td>sapphire crystal</td>\n",
       "      <td>round</td>\n",
       "      <td>analog</td>\n",
       "      <td>15</td>\n",
       "      <td>84.26</td>\n",
       "    </tr>\n",
       "    <tr>\n",
       "      <th>3</th>\n",
       "      <td>5102310</td>\n",
       "      <td>B013</td>\n",
       "      <td>38-40 mm</td>\n",
       "      <td>Men</td>\n",
       "      <td>automatic</td>\n",
       "      <td>Other</td>\n",
       "      <td>silver</td>\n",
       "      <td>leather</td>\n",
       "      <td>black</td>\n",
       "      <td>no</td>\n",
       "      <td>sapphire crystal</td>\n",
       "      <td>round</td>\n",
       "      <td>analog</td>\n",
       "      <td>15</td>\n",
       "      <td>112.28</td>\n",
       "    </tr>\n",
       "    <tr>\n",
       "      <th>4</th>\n",
       "      <td>5103271</td>\n",
       "      <td>B027</td>\n",
       "      <td>32-34 mm</td>\n",
       "      <td>Men</td>\n",
       "      <td>others</td>\n",
       "      <td>Other</td>\n",
       "      <td>Other</td>\n",
       "      <td>others</td>\n",
       "      <td>silver</td>\n",
       "      <td>no</td>\n",
       "      <td>sapphire crystal</td>\n",
       "      <td>round</td>\n",
       "      <td>analog</td>\n",
       "      <td>15</td>\n",
       "      <td>208.00</td>\n",
       "    </tr>\n",
       "  </tbody>\n",
       "</table>\n",
       "</div>"
      ],
      "text/plain": [
       "   item_no brand case_size_range gender   movement   material dial_color  \\\n",
       "0  5100311  B008        41-43 mm    Men     quartz      steel      white   \n",
       "1  5100392  B008        41-43 mm    Men  automatic      steel     silver   \n",
       "2  5102171  B010           Other  Women  automatic  rose gold     silver   \n",
       "3  5102310  B013        38-40 mm    Men  automatic      Other     silver   \n",
       "4  5103271  B027        32-34 mm    Men     others      Other      Other   \n",
       "\n",
       "  strap_type strap_color   precious_stone             glass case_shape  \\\n",
       "0    leather       black               no  sapphire crystal      round   \n",
       "1    leather       brown               no  sapphire crystal      round   \n",
       "2      Other       Other  on bezel & dial  sapphire crystal      round   \n",
       "3    leather       black               no  sapphire crystal      round   \n",
       "4     others      silver               no  sapphire crystal      round   \n",
       "\n",
       "  watch_type  period  stock_prevailing_mrp  \n",
       "0     analog      15                  9.69  \n",
       "1     analog      15                 16.86  \n",
       "2     analog      15                 84.26  \n",
       "3     analog      15                112.28  \n",
       "4     analog      15                208.00  "
      ]
     },
     "execution_count": 335,
     "metadata": {},
     "output_type": "execute_result"
    }
   ],
   "source": [
    "unique_sku.head()"
   ]
  },
  {
   "cell_type": "markdown",
   "metadata": {},
   "source": [
    "### Create dummies"
   ]
  },
  {
   "cell_type": "code",
   "execution_count": 336,
   "metadata": {},
   "outputs": [],
   "source": [
    "#creating dummy variables\n",
    "cols=['brand','case_size_range', 'gender', 'movement', 'material', 'dial_color',\n",
    "       'strap_type', 'strap_color', 'precious_stone', 'glass', 'case_shape',\n",
    "       'watch_type']\n",
    "unique_sku_dummies=pd.get_dummies(data=unique_sku, columns=cols)\n",
    "\n",
    "\n"
   ]
  },
  {
   "cell_type": "markdown",
   "metadata": {},
   "source": [
    "### Add store dummies"
   ]
  },
  {
   "cell_type": "code",
   "execution_count": 337,
   "metadata": {},
   "outputs": [],
   "source": [
    "store_dummies = [\n",
    "    'state_ST02', 'state_ST03', 'state_ST05', 'state_ST07', 'state_ST09', 'state_ST12', 'state_ST13', 'state_ST15', 'state_ST16', \n",
    "    'state_ST17', 'state_ST19', 'state_ST21', 'state_ST24', 'state_ST28', 'region_East', 'region_North', 'region_South',\n",
    "'region_West', 'store_type_Ethos', 'store_type_Large', 'store_type_Summit', 'store_location_Airport', 'store_location_DFS', \n",
    "    'store_location_High Street', 'store_location_Mall', 'city_type_Tier1', 'city_type_Tier2'\n",
    "]"
   ]
  },
  {
   "cell_type": "code",
   "execution_count": 338,
   "metadata": {},
   "outputs": [],
   "source": [
    "for col in store_dummies:\n",
    "    unique_sku_dummies[col] = 0"
   ]
  },
  {
   "cell_type": "code",
   "execution_count": 339,
   "metadata": {},
   "outputs": [
    {
     "data": {
      "text/plain": [
       "(10588, 189)"
      ]
     },
     "execution_count": 339,
     "metadata": {},
     "output_type": "execute_result"
    }
   ],
   "source": [
    "unique_sku_dummies.shape"
   ]
  },
  {
   "cell_type": "code",
   "execution_count": 340,
   "metadata": {},
   "outputs": [],
   "source": [
    "store_no = 'S28'"
   ]
  },
  {
   "cell_type": "code",
   "execution_count": 341,
   "metadata": {},
   "outputs": [
    {
     "name": "stdout",
     "output_type": "stream",
     "text": [
      "state_ST12\n",
      "region_West\n",
      "store_type_Ethos\n",
      "store_location_Mall\n",
      "city_type_Tier1\n"
     ]
    }
   ],
   "source": [
    "store_cols = [\"state\",\"region\",\"store_type\",\"store_location\",\"city_type\"]\n",
    "\n",
    "for col in store_cols:\n",
    "    dummy_col_name = col + '_' + store_master[store_master['store_code'] == store_no][col].unique()[0]\n",
    "    print(dummy_col_name)\n",
    "    unique_sku_dummies[dummy_col_name] = 1\n"
   ]
  },
  {
   "cell_type": "code",
   "execution_count": 342,
   "metadata": {},
   "outputs": [
    {
     "data": {
      "text/plain": [
       "(10588, 189)"
      ]
     },
     "execution_count": 342,
     "metadata": {},
     "output_type": "execute_result"
    }
   ],
   "source": [
    "unique_sku_dummies.shape"
   ]
  },
  {
   "cell_type": "code",
   "execution_count": 343,
   "metadata": {},
   "outputs": [
    {
     "data": {
      "text/plain": [
       "(10588, 188)"
      ]
     },
     "execution_count": 343,
     "metadata": {},
     "output_type": "execute_result"
    }
   ],
   "source": [
    "X_data=unique_sku_dummies.drop(columns =['item_no'])\n",
    "\n",
    "X_data.shape"
   ]
  },
  {
   "cell_type": "code",
   "execution_count": 344,
   "metadata": {},
   "outputs": [
    {
     "data": {
      "text/plain": [
       "(312123, 188)"
      ]
     },
     "execution_count": 344,
     "metadata": {},
     "output_type": "execute_result"
    }
   ],
   "source": [
    "X_train_clf.shape"
   ]
  },
  {
   "cell_type": "markdown",
   "metadata": {},
   "source": [
    "### Find missing dummies if any left and append as 0s"
   ]
  },
  {
   "cell_type": "code",
   "execution_count": 345,
   "metadata": {},
   "outputs": [
    {
     "name": "stdout",
     "output_type": "stream",
     "text": [
      "set()\n"
     ]
    }
   ],
   "source": [
    "#np.setdiff1d(X_train_clf, X_data)\n",
    "\n",
    "missing_dummies_set = set(X_bal_clf) - set(X_data)\n",
    "print(missing_dummies_set)"
   ]
  },
  {
   "cell_type": "code",
   "execution_count": null,
   "metadata": {},
   "outputs": [],
   "source": [
    "del list \n",
    "# list callable is used as a variable above - To be cleaned up and renamed. For now delete the variable and use list callable below\n"
   ]
  },
  {
   "cell_type": "code",
   "execution_count": 349,
   "metadata": {},
   "outputs": [],
   "source": [
    "missing_dummies_cols = list(missing_dummies_set)\n",
    "for col in missing_dummies_cols:\n",
    "    X_data[col] = 0"
   ]
  },
  {
   "cell_type": "code",
   "execution_count": 350,
   "metadata": {},
   "outputs": [
    {
     "name": "stdout",
     "output_type": "stream",
     "text": [
      "set()\n"
     ]
    }
   ],
   "source": [
    "# Check if any missing after this\n",
    "\n",
    "missing_dummies_set = set(X_data) - set(X_bal_clf)\n",
    "print(missing_dummies_set)\n",
    "    "
   ]
  },
  {
   "cell_type": "code",
   "execution_count": 351,
   "metadata": {},
   "outputs": [
    {
     "data": {
      "text/plain": [
       "(10588, 188)"
      ]
     },
     "execution_count": 351,
     "metadata": {},
     "output_type": "execute_result"
    }
   ],
   "source": [
    "missing_dummies_cols = list(missing_dummies_set)\n",
    "for col in missing_dummies_cols:\n",
    "    X_data = X_data.drop(columns = [col])\n",
    "X_data.shape"
   ]
  },
  {
   "cell_type": "code",
   "execution_count": 352,
   "metadata": {},
   "outputs": [
    {
     "data": {
      "text/plain": [
       "Index(['period', 'stock_prevailing_mrp', 'brand_B007', 'brand_B008',\n",
       "       'brand_B010', 'brand_B013', 'brand_B014', 'brand_B017', 'brand_B018',\n",
       "       'brand_B020',\n",
       "       ...\n",
       "       'case_shape_rectangle', 'case_shape_round', 'case_shape_square',\n",
       "       'case_shape_tonneau', 'watch_type_activity tracker',\n",
       "       'watch_type_analog', 'watch_type_analog-digital', 'watch_type_digital',\n",
       "       'watch_type_hybrid smart watch', 'watch_type_smart watch'],\n",
       "      dtype='object', length=188)"
      ]
     },
     "execution_count": 352,
     "metadata": {},
     "output_type": "execute_result"
    }
   ],
   "source": [
    "X_bal_clf.columns"
   ]
  },
  {
   "cell_type": "code",
   "execution_count": 353,
   "metadata": {},
   "outputs": [
    {
     "name": "stdout",
     "output_type": "stream",
     "text": [
      "set()\n"
     ]
    }
   ],
   "source": [
    "print(set(X_bal_clf) - set(X_data))"
   ]
  },
  {
   "cell_type": "code",
   "execution_count": 354,
   "metadata": {},
   "outputs": [
    {
     "data": {
      "text/plain": [
       "Index(['period', 'stock_prevailing_mrp', 'brand_B007', 'brand_B008',\n",
       "       'brand_B010', 'brand_B013', 'brand_B014', 'brand_B017', 'brand_B018',\n",
       "       'brand_B020',\n",
       "       ...\n",
       "       'region_West', 'store_type_Ethos', 'store_type_Large',\n",
       "       'store_type_Summit', 'store_location_Airport', 'store_location_DFS',\n",
       "       'store_location_High Street', 'store_location_Mall', 'city_type_Tier1',\n",
       "       'city_type_Tier2'],\n",
       "      dtype='object', length=188)"
      ]
     },
     "execution_count": 354,
     "metadata": {},
     "output_type": "execute_result"
    }
   ],
   "source": [
    "X_data.columns"
   ]
  },
  {
   "cell_type": "markdown",
   "metadata": {},
   "source": [
    "## Classifier predictions"
   ]
  },
  {
   "cell_type": "code",
   "execution_count": 355,
   "metadata": {},
   "outputs": [],
   "source": [
    "#y_pred= lda_clf.predict(X_data) # Predicts something positive\n",
    "#y_pred = d_tree_clfr.predict(X_data) # Predicts low positives\n",
    "# y_pred = mnb_clf.predict(X_data) # Predicts half positives than lda\n",
    "#y_pred = log_model.predict(X_data) # Predicts higher positives than lda\n",
    "\n",
    "f_names = xgb_model.get_booster().feature_names\n",
    "df = X_data[f_names]\n",
    "y_pred = xgb_model.predict(df) # xgb classifier"
   ]
  },
  {
   "cell_type": "code",
   "execution_count": 356,
   "metadata": {},
   "outputs": [
    {
     "data": {
      "text/plain": [
       "array([False, False, False, ..., False, False,  True])"
      ]
     },
     "execution_count": 356,
     "metadata": {},
     "output_type": "execute_result"
    }
   ],
   "source": [
    "y_pred"
   ]
  },
  {
   "cell_type": "code",
   "execution_count": 357,
   "metadata": {},
   "outputs": [
    {
     "data": {
      "text/plain": [
       "(10588, 15)"
      ]
     },
     "execution_count": 357,
     "metadata": {},
     "output_type": "execute_result"
    }
   ],
   "source": [
    "unique_sku.shape"
   ]
  },
  {
   "cell_type": "code",
   "execution_count": 358,
   "metadata": {},
   "outputs": [
    {
     "data": {
      "text/plain": [
       "10588"
      ]
     },
     "execution_count": 358,
     "metadata": {},
     "output_type": "execute_result"
    }
   ],
   "source": [
    "len(y_pred)"
   ]
  },
  {
   "cell_type": "code",
   "execution_count": 359,
   "metadata": {},
   "outputs": [],
   "source": [
    "unique_sku_dummies['sales_class'] = y_pred\n",
    "unique_sku_pred = unique_sku\n",
    "unique_sku_pred['sales_class'] = y_pred"
   ]
  },
  {
   "cell_type": "markdown",
   "metadata": {},
   "source": [
    "#### Filter items from unique sku classified as non-zero sales"
   ]
  },
  {
   "cell_type": "code",
   "execution_count": 360,
   "metadata": {},
   "outputs": [],
   "source": [
    "items_classified_for_sales = unique_sku_dummies[unique_sku_dummies['sales_class']]['item_no'].unique()\n"
   ]
  },
  {
   "cell_type": "code",
   "execution_count": 361,
   "metadata": {},
   "outputs": [
    {
     "data": {
      "text/plain": [
       "(3892, 190)"
      ]
     },
     "execution_count": 361,
     "metadata": {},
     "output_type": "execute_result"
    }
   ],
   "source": [
    "unique_sku_dummies[unique_sku_dummies['sales_class']].shape"
   ]
  },
  {
   "cell_type": "code",
   "execution_count": 362,
   "metadata": {},
   "outputs": [
    {
     "data": {
      "text/plain": [
       "3892"
      ]
     },
     "execution_count": 362,
     "metadata": {},
     "output_type": "execute_result"
    }
   ],
   "source": [
    "len(items_classified_for_sales)"
   ]
  },
  {
   "cell_type": "markdown",
   "metadata": {},
   "source": [
    "## Regression predictions on so"
   ]
  },
  {
   "cell_type": "code",
   "execution_count": 363,
   "metadata": {},
   "outputs": [
    {
     "data": {
      "text/plain": [
       "(3892, 189)"
      ]
     },
     "execution_count": 363,
     "metadata": {},
     "output_type": "execute_result"
    }
   ],
   "source": [
    "unique_sku_dummies_so = unique_sku_dummies[unique_sku_dummies['sales_class']]\n",
    "X_data_so = unique_sku_dummies_so.drop(columns =['item_no'])\n",
    "X_data_so.shape"
   ]
  },
  {
   "cell_type": "code",
   "execution_count": 364,
   "metadata": {},
   "outputs": [
    {
     "name": "stdout",
     "output_type": "stream",
     "text": [
      "{'sales_class', 'brand_B179'}\n"
     ]
    }
   ],
   "source": [
    "missing_dummies_set = set(X_data_so) - set(X_train2)\n",
    "print(missing_dummies_set)"
   ]
  },
  {
   "cell_type": "code",
   "execution_count": 365,
   "metadata": {},
   "outputs": [],
   "source": [
    "X_data_so = X_data_so.drop(columns = list(missing_dummies_set))"
   ]
  },
  {
   "cell_type": "code",
   "execution_count": 366,
   "metadata": {},
   "outputs": [
    {
     "name": "stdout",
     "output_type": "stream",
     "text": [
      "set()\n"
     ]
    }
   ],
   "source": [
    "missing_dummies_set = set(X_train2) - set(X_data_so)\n",
    "print(missing_dummies_set)"
   ]
  },
  {
   "cell_type": "code",
   "execution_count": 367,
   "metadata": {},
   "outputs": [],
   "source": [
    "f_names = best_gb.get_booster().feature_names\n",
    "df = X_data_so[f_names]"
   ]
  },
  {
   "cell_type": "code",
   "execution_count": 368,
   "metadata": {},
   "outputs": [],
   "source": [
    "pred_non_zero = best_gb.predict(df)\n",
    "#pred_non_zero = reg_model_so.predict(X_data.drop(columns = list(set(X_data) - set(X_train2))))\n",
    "#print(X_data.shape, X_train2.shape)\n",
    "#print(set(X_data) - set(X_train2))\n"
   ]
  },
  {
   "cell_type": "code",
   "execution_count": 369,
   "metadata": {},
   "outputs": [
    {
     "data": {
      "text/plain": [
       "array([-8.762845, -8.778498, -8.797825, ..., -8.498654, -8.529373,\n",
       "       -9.235309], dtype=float32)"
      ]
     },
     "execution_count": 369,
     "metadata": {},
     "output_type": "execute_result"
    }
   ],
   "source": [
    "pred_non_zero"
   ]
  },
  {
   "cell_type": "markdown",
   "metadata": {},
   "source": [
    "### Add predictions to unique sku store df (input df created for particular store)"
   ]
  },
  {
   "cell_type": "code",
   "execution_count": 370,
   "metadata": {},
   "outputs": [
    {
     "name": "stdout",
     "output_type": "stream",
     "text": [
      "S28\n"
     ]
    }
   ],
   "source": [
    "print (store_no)"
   ]
  },
  {
   "cell_type": "code",
   "execution_count": 371,
   "metadata": {},
   "outputs": [
    {
     "data": {
      "text/plain": [
       "(10588, 16)"
      ]
     },
     "execution_count": 371,
     "metadata": {},
     "output_type": "execute_result"
    }
   ],
   "source": [
    "unique_sku_pred.shape"
   ]
  },
  {
   "cell_type": "code",
   "execution_count": 372,
   "metadata": {},
   "outputs": [
    {
     "data": {
      "text/plain": [
       "3892"
      ]
     },
     "execution_count": 372,
     "metadata": {},
     "output_type": "execute_result"
    }
   ],
   "source": [
    "len(pred_non_zero)"
   ]
  },
  {
   "cell_type": "code",
   "execution_count": 373,
   "metadata": {},
   "outputs": [
    {
     "data": {
      "text/plain": [
       "(3892, 16)"
      ]
     },
     "execution_count": 373,
     "metadata": {},
     "output_type": "execute_result"
    }
   ],
   "source": [
    "\n",
    "predictions_for_store = pd.DataFrame()\n",
    "predictions_for_store = pd.concat([predictions_for_store,unique_sku_pred[unique_sku_pred['sales_class']]])\n",
    "\n",
    "#predictions_for_store = pd.concat([predictions_for_store,unique_sku_pred])\n",
    "predictions_for_store.shape"
   ]
  },
  {
   "cell_type": "code",
   "execution_count": 374,
   "metadata": {},
   "outputs": [],
   "source": [
    "predictions_for_store['so'] = pred_non_zero"
   ]
  },
  {
   "cell_type": "code",
   "execution_count": 375,
   "metadata": {},
   "outputs": [
    {
     "data": {
      "text/html": [
       "<div>\n",
       "<style scoped>\n",
       "    .dataframe tbody tr th:only-of-type {\n",
       "        vertical-align: middle;\n",
       "    }\n",
       "\n",
       "    .dataframe tbody tr th {\n",
       "        vertical-align: top;\n",
       "    }\n",
       "\n",
       "    .dataframe thead th {\n",
       "        text-align: right;\n",
       "    }\n",
       "</style>\n",
       "<table border=\"1\" class=\"dataframe\">\n",
       "  <thead>\n",
       "    <tr style=\"text-align: right;\">\n",
       "      <th></th>\n",
       "      <th>item_no</th>\n",
       "      <th>brand</th>\n",
       "      <th>case_size_range</th>\n",
       "      <th>gender</th>\n",
       "      <th>movement</th>\n",
       "      <th>material</th>\n",
       "      <th>dial_color</th>\n",
       "      <th>strap_type</th>\n",
       "      <th>strap_color</th>\n",
       "      <th>precious_stone</th>\n",
       "      <th>glass</th>\n",
       "      <th>case_shape</th>\n",
       "      <th>watch_type</th>\n",
       "      <th>period</th>\n",
       "      <th>stock_prevailing_mrp</th>\n",
       "      <th>sales_class</th>\n",
       "      <th>so</th>\n",
       "    </tr>\n",
       "  </thead>\n",
       "  <tbody>\n",
       "    <tr>\n",
       "      <th>4</th>\n",
       "      <td>5103271</td>\n",
       "      <td>B027</td>\n",
       "      <td>32-34 mm</td>\n",
       "      <td>Men</td>\n",
       "      <td>others</td>\n",
       "      <td>Other</td>\n",
       "      <td>Other</td>\n",
       "      <td>others</td>\n",
       "      <td>silver</td>\n",
       "      <td>no</td>\n",
       "      <td>sapphire crystal</td>\n",
       "      <td>round</td>\n",
       "      <td>analog</td>\n",
       "      <td>15</td>\n",
       "      <td>208.0</td>\n",
       "      <td>True</td>\n",
       "      <td>-8.762845</td>\n",
       "    </tr>\n",
       "    <tr>\n",
       "      <th>5</th>\n",
       "      <td>5103485</td>\n",
       "      <td>B027</td>\n",
       "      <td>26-28 mm</td>\n",
       "      <td>Women</td>\n",
       "      <td>quartz</td>\n",
       "      <td>steel</td>\n",
       "      <td>white</td>\n",
       "      <td>steel</td>\n",
       "      <td>silver</td>\n",
       "      <td>no</td>\n",
       "      <td>sapphire crystal</td>\n",
       "      <td>square</td>\n",
       "      <td>analog</td>\n",
       "      <td>15</td>\n",
       "      <td>30.4</td>\n",
       "      <td>True</td>\n",
       "      <td>-8.778498</td>\n",
       "    </tr>\n",
       "    <tr>\n",
       "      <th>6</th>\n",
       "      <td>5103490</td>\n",
       "      <td>B027</td>\n",
       "      <td>41-43 mm</td>\n",
       "      <td>Men</td>\n",
       "      <td>automatic</td>\n",
       "      <td>steel &amp; yellow gold</td>\n",
       "      <td>white</td>\n",
       "      <td>leather</td>\n",
       "      <td>black</td>\n",
       "      <td>no</td>\n",
       "      <td>sapphire crystal</td>\n",
       "      <td>rectangle</td>\n",
       "      <td>analog</td>\n",
       "      <td>15</td>\n",
       "      <td>69.5</td>\n",
       "      <td>True</td>\n",
       "      <td>-8.797825</td>\n",
       "    </tr>\n",
       "    <tr>\n",
       "      <th>7</th>\n",
       "      <td>5103492</td>\n",
       "      <td>B027</td>\n",
       "      <td>41-43 mm</td>\n",
       "      <td>Men</td>\n",
       "      <td>automatic</td>\n",
       "      <td>steel</td>\n",
       "      <td>white</td>\n",
       "      <td>leather</td>\n",
       "      <td>black</td>\n",
       "      <td>no</td>\n",
       "      <td>sapphire crystal</td>\n",
       "      <td>square</td>\n",
       "      <td>analog</td>\n",
       "      <td>15</td>\n",
       "      <td>50.5</td>\n",
       "      <td>True</td>\n",
       "      <td>-8.834607</td>\n",
       "    </tr>\n",
       "    <tr>\n",
       "      <th>8</th>\n",
       "      <td>5103501</td>\n",
       "      <td>B027</td>\n",
       "      <td>35-37 mm</td>\n",
       "      <td>Men</td>\n",
       "      <td>automatic</td>\n",
       "      <td>steel</td>\n",
       "      <td>white</td>\n",
       "      <td>leather</td>\n",
       "      <td>black</td>\n",
       "      <td>no</td>\n",
       "      <td>sapphire crystal</td>\n",
       "      <td>rectangle</td>\n",
       "      <td>analog</td>\n",
       "      <td>15</td>\n",
       "      <td>45.1</td>\n",
       "      <td>True</td>\n",
       "      <td>-8.852285</td>\n",
       "    </tr>\n",
       "  </tbody>\n",
       "</table>\n",
       "</div>"
      ],
      "text/plain": [
       "   item_no brand case_size_range gender   movement             material  \\\n",
       "4  5103271  B027        32-34 mm    Men     others                Other   \n",
       "5  5103485  B027        26-28 mm  Women     quartz                steel   \n",
       "6  5103490  B027        41-43 mm    Men  automatic  steel & yellow gold   \n",
       "7  5103492  B027        41-43 mm    Men  automatic                steel   \n",
       "8  5103501  B027        35-37 mm    Men  automatic                steel   \n",
       "\n",
       "  dial_color strap_type strap_color precious_stone             glass  \\\n",
       "4      Other     others      silver             no  sapphire crystal   \n",
       "5      white      steel      silver             no  sapphire crystal   \n",
       "6      white    leather       black             no  sapphire crystal   \n",
       "7      white    leather       black             no  sapphire crystal   \n",
       "8      white    leather       black             no  sapphire crystal   \n",
       "\n",
       "  case_shape watch_type  period  stock_prevailing_mrp  sales_class        so  \n",
       "4      round     analog      15                 208.0         True -8.762845  \n",
       "5     square     analog      15                  30.4         True -8.778498  \n",
       "6  rectangle     analog      15                  69.5         True -8.797825  \n",
       "7     square     analog      15                  50.5         True -8.834607  \n",
       "8  rectangle     analog      15                  45.1         True -8.852285  "
      ]
     },
     "execution_count": 375,
     "metadata": {},
     "output_type": "execute_result"
    }
   ],
   "source": [
    "predictions_for_store.head()"
   ]
  },
  {
   "cell_type": "code",
   "execution_count": 376,
   "metadata": {},
   "outputs": [],
   "source": [
    "greedy_input = predictions_for_store[['item_no', 'brand', 'so']]"
   ]
  },
  {
   "cell_type": "code",
   "execution_count": 377,
   "metadata": {},
   "outputs": [
    {
     "data": {
      "text/plain": [
       "(3892, 3)"
      ]
     },
     "execution_count": 377,
     "metadata": {},
     "output_type": "execute_result"
    }
   ],
   "source": [
    "greedy_input.shape"
   ]
  },
  {
   "cell_type": "code",
   "execution_count": 378,
   "metadata": {},
   "outputs": [
    {
     "data": {
      "text/html": [
       "<div>\n",
       "<style scoped>\n",
       "    .dataframe tbody tr th:only-of-type {\n",
       "        vertical-align: middle;\n",
       "    }\n",
       "\n",
       "    .dataframe tbody tr th {\n",
       "        vertical-align: top;\n",
       "    }\n",
       "\n",
       "    .dataframe thead th {\n",
       "        text-align: right;\n",
       "    }\n",
       "</style>\n",
       "<table border=\"1\" class=\"dataframe\">\n",
       "  <thead>\n",
       "    <tr style=\"text-align: right;\">\n",
       "      <th></th>\n",
       "      <th>item_no</th>\n",
       "      <th>brand</th>\n",
       "      <th>so</th>\n",
       "    </tr>\n",
       "  </thead>\n",
       "  <tbody>\n",
       "    <tr>\n",
       "      <th>4</th>\n",
       "      <td>5103271</td>\n",
       "      <td>B027</td>\n",
       "      <td>-8.762845</td>\n",
       "    </tr>\n",
       "    <tr>\n",
       "      <th>5</th>\n",
       "      <td>5103485</td>\n",
       "      <td>B027</td>\n",
       "      <td>-8.778498</td>\n",
       "    </tr>\n",
       "    <tr>\n",
       "      <th>6</th>\n",
       "      <td>5103490</td>\n",
       "      <td>B027</td>\n",
       "      <td>-8.797825</td>\n",
       "    </tr>\n",
       "    <tr>\n",
       "      <th>7</th>\n",
       "      <td>5103492</td>\n",
       "      <td>B027</td>\n",
       "      <td>-8.834607</td>\n",
       "    </tr>\n",
       "    <tr>\n",
       "      <th>8</th>\n",
       "      <td>5103501</td>\n",
       "      <td>B027</td>\n",
       "      <td>-8.852285</td>\n",
       "    </tr>\n",
       "  </tbody>\n",
       "</table>\n",
       "</div>"
      ],
      "text/plain": [
       "   item_no brand        so\n",
       "4  5103271  B027 -8.762845\n",
       "5  5103485  B027 -8.778498\n",
       "6  5103490  B027 -8.797825\n",
       "7  5103492  B027 -8.834607\n",
       "8  5103501  B027 -8.852285"
      ]
     },
     "execution_count": 378,
     "metadata": {},
     "output_type": "execute_result"
    }
   ],
   "source": [
    "greedy_input.head()"
   ]
  },
  {
   "cell_type": "code",
   "execution_count": 379,
   "metadata": {},
   "outputs": [],
   "source": [
    "greedy_input.to_csv(data_path + 'greedy_input_xgb.csv', header=True)"
   ]
  },
  {
   "cell_type": "code",
   "execution_count": 380,
   "metadata": {},
   "outputs": [
    {
     "data": {
      "text/plain": [
       "array(['5103271', '5103485', '5103490', ..., '5196559', '5196566',\n",
       "       'Others'], dtype=object)"
      ]
     },
     "execution_count": 380,
     "metadata": {},
     "output_type": "execute_result"
    }
   ],
   "source": [
    "greedy_input['item_no'].unique()"
   ]
  },
  {
   "cell_type": "code",
   "execution_count": 381,
   "metadata": {},
   "outputs": [
    {
     "data": {
      "text/plain": [
       "3892"
      ]
     },
     "execution_count": 381,
     "metadata": {},
     "output_type": "execute_result"
    }
   ],
   "source": [
    "len(greedy_input['item_no'].unique())"
   ]
  },
  {
   "cell_type": "code",
   "execution_count": null,
   "metadata": {},
   "outputs": [],
   "source": []
  }
 ],
 "metadata": {
  "kernelspec": {
   "display_name": "Python 3",
   "language": "python",
   "name": "python3"
  },
  "language_info": {
   "codemirror_mode": {
    "name": "ipython",
    "version": 3
   },
   "file_extension": ".py",
   "mimetype": "text/x-python",
   "name": "python",
   "nbconvert_exporter": "python",
   "pygments_lexer": "ipython3",
   "version": "3.7.3"
  }
 },
 "nbformat": 4,
 "nbformat_minor": 2
}

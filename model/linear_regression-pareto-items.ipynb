{
 "cells": [
  {
   "cell_type": "code",
   "execution_count": 82,
   "metadata": {},
   "outputs": [],
   "source": [
    "import pandas as pd\n",
    "import numpy as np\n",
    "from sklearn.model_selection import train_test_split\n",
    "from sklearn import metrics\n"
   ]
  },
  {
   "cell_type": "markdown",
   "metadata": {},
   "source": [
    "##### Reading data"
   ]
  },
  {
   "cell_type": "code",
   "execution_count": 161,
   "metadata": {},
   "outputs": [
    {
     "name": "stdout",
     "output_type": "stream",
     "text": [
      "(476711, 47)\n",
      "476711\n"
     ]
    }
   ],
   "source": [
    "dirpath = '/Users/parulgaba/Desktop/Capstone-Ethos/ConfidentialData/csvdata/'\n",
    "\n",
    "data_path = '/Users/parulgaba/Desktop/Capstone-Ethos/ethos-retail-model/data/'\n",
    "\n",
    "filename = data_path + 'regression_data/' + 'aggregated_summary_store_type_12_weeks.csv'\n",
    "chunksize = 10 ** 5\n",
    "rows=0\n",
    "summary_df = pd.DataFrame()\n",
    "for chunk in pd.read_csv(filename, chunksize=chunksize):\n",
    "    summary_df=pd.concat([summary_df,chunk])\n",
    "    rows+=chunk.shape[0]\n",
    "    \n",
    "summary_df.fillna(0)\n",
    "print(summary_df.shape)\n",
    "print (rows)"
   ]
  },
  {
   "cell_type": "code",
   "execution_count": 118,
   "metadata": {},
   "outputs": [
    {
     "data": {
      "text/plain": [
       "(476711, 47)"
      ]
     },
     "execution_count": 118,
     "metadata": {},
     "output_type": "execute_result"
    }
   ],
   "source": [
    "summary_df.shape"
   ]
  },
  {
   "cell_type": "code",
   "execution_count": null,
   "metadata": {},
   "outputs": [],
   "source": [
    "summary_df['stock_prevailing_mrp'] = summary_df['stock_prevailing_mrp'].div(10000)\n",
    "summary_df['billing'] = summary_df['billing'].div(10000)"
   ]
  },
  {
   "cell_type": "code",
   "execution_count": 120,
   "metadata": {},
   "outputs": [
    {
     "name": "stdout",
     "output_type": "stream",
     "text": [
      "Unique items removed with no sales at all for all 3 three years : 4324\n"
     ]
    }
   ],
   "source": [
    "items_no_sales = summary_df.groupby(['item_no']).agg({'sales_quantity':'sum'}).reset_index()\n",
    "unique_item_no_sales = items_no_sales[items_no_sales['sales_quantity'] == 0]['item_no'].unique()\n",
    "summary_df = summary_df[~summary_df['item_no'].isin(unique_item_no_sales)]\n",
    "print(\"Unique items removed with no sales at all for all 3 three years : \" + str(len(unique_item_no_sales)))"
   ]
  },
  {
   "cell_type": "code",
   "execution_count": 121,
   "metadata": {},
   "outputs": [
    {
     "data": {
      "text/plain": [
       "(438196, 47)"
      ]
     },
     "execution_count": 121,
     "metadata": {},
     "output_type": "execute_result"
    }
   ],
   "source": [
    "summary_df.shape"
   ]
  },
  {
   "cell_type": "code",
   "execution_count": 122,
   "metadata": {},
   "outputs": [],
   "source": [
    "summary_df['item_no']=summary_df['item_no'].astype(str)\n",
    "#summary_df['period']=summary_df['period'].astype(str)\n",
    "summary_df['case_shape']=summary_df['case_shape'].astype(str)"
   ]
  },
  {
   "cell_type": "code",
   "execution_count": 123,
   "metadata": {},
   "outputs": [],
   "source": [
    "def paretoItems(df,cols = ['brand']):\n",
    "    lst=[]\n",
    "    \n",
    "    for col in cols:     \n",
    "        series=df.fillna(0).groupby([col]).agg({'billing':'sum'}).sort_values('billing',ascending=False)\n",
    "        mask=series.cumsum()/series.sum()>0.9\n",
    "        #nos=mask.value_counts()[1]\n",
    "        mask=mask.iloc[:,0]\n",
    "        levels=len(df[col].unique())\n",
    "        \n",
    "        if levels>10:\n",
    "            df['brand'] = np.where(df[col].isin(series[mask].index),'Other',df['brand'])         \n",
    "            df[col] = np.where(df[col].isin(series[mask].index),'Other',df[col])         \n",
    "        new_levels=len(df[col].unique())\n",
    "\n",
    "        freq=df[col].value_counts()/df[col].value_counts().sum()*100\n",
    "        freq=freq.round(2)\n",
    "\n",
    "        sale_qty=df.groupby([col]).agg({'sales_quantity':'sum'}).sort_values('sales_quantity',ascending=False)\n",
    "        sale_qty=sale_qty/sale_qty.sum()*100\n",
    "        sale_qty=sale_qty.round(2)\n",
    "        try:\n",
    "            Other_Sales_Qty=sale_qty['sales_quantity']['Other']\n",
    "        except:\n",
    "            Other_Sales_Qty=0\n",
    "        \n",
    "        bill=df.groupby([col]).agg({'billing':'sum'}).sort_values('billing',ascending=False)\n",
    "        bill=bill/bill.sum()*100\n",
    "        bill=bill.round(2)\n",
    "        try:\n",
    "            Other_bill=bill['billing']['Other']\n",
    "        except:\n",
    "            Other_bill=0\n",
    "        \n",
    "        #comparison=mrp.merge(sale_qty, left_index=True, right_index=True)\n",
    "        lst.append([col.upper(),levels, new_levels,Other_bill,Other_Sales_Qty])\n",
    "        #print (\"%s-Originally %d levels,combined %d levels into 'Other'.New Levels %d.By MRP,Other is %2.1f and by sale qty others is %2.1f\"%(col.upper(),levels, levels-new_levels, new_levels,mrp['stock_prevailing_mrp']['Other'],sale_qty['sales_quantity']['Other']))\n",
    "    \n",
    "    cols=['Feature', 'Orig Levels', 'New Levels', 'Other%(Billing)', 'Other%(Sales Qty)']\n",
    "    df1 = pd.DataFrame(lst, columns=cols)\n",
    "    df1=df1.set_index(\"Feature\")\n",
    "    \n",
    "    return df1,df"
   ]
  },
  {
   "cell_type": "code",
   "execution_count": 124,
   "metadata": {},
   "outputs": [
    {
     "data": {
      "text/html": [
       "<div>\n",
       "<style scoped>\n",
       "    .dataframe tbody tr th:only-of-type {\n",
       "        vertical-align: middle;\n",
       "    }\n",
       "\n",
       "    .dataframe tbody tr th {\n",
       "        vertical-align: top;\n",
       "    }\n",
       "\n",
       "    .dataframe thead th {\n",
       "        text-align: right;\n",
       "    }\n",
       "</style>\n",
       "<table border=\"1\" class=\"dataframe\">\n",
       "  <thead>\n",
       "    <tr style=\"text-align: right;\">\n",
       "      <th></th>\n",
       "      <th>Orig Levels</th>\n",
       "      <th>New Levels</th>\n",
       "      <th>Other%(Billing)</th>\n",
       "      <th>Other%(Sales Qty)</th>\n",
       "    </tr>\n",
       "    <tr>\n",
       "      <th>Feature</th>\n",
       "      <th></th>\n",
       "      <th></th>\n",
       "      <th></th>\n",
       "      <th></th>\n",
       "    </tr>\n",
       "  </thead>\n",
       "  <tbody>\n",
       "    <tr>\n",
       "      <th>ITEM_NO</th>\n",
       "      <td>14749</td>\n",
       "      <td>10062</td>\n",
       "      <td>1.0</td>\n",
       "      <td>8.89</td>\n",
       "    </tr>\n",
       "  </tbody>\n",
       "</table>\n",
       "</div>"
      ],
      "text/plain": [
       "         Orig Levels  New Levels  Other%(Billing)  Other%(Sales Qty)\n",
       "Feature                                                             \n",
       "ITEM_NO        14749       10062              1.0               8.89"
      ]
     },
     "execution_count": 124,
     "metadata": {},
     "output_type": "execute_result"
    }
   ],
   "source": [
    "summary_items = summary_df\n",
    "\n",
    "summary_df_items_pareto, summary_items = paretoItems(summary_items, ['item_no'])\n",
    "\n",
    "summary_df_items_pareto"
   ]
  },
  {
   "cell_type": "code",
   "execution_count": 125,
   "metadata": {},
   "outputs": [
    {
     "data": {
      "text/plain": [
       "(399722, 26)"
      ]
     },
     "execution_count": 125,
     "metadata": {},
     "output_type": "execute_result"
    }
   ],
   "source": [
    "summarize_method={'brand':'first','region':'first',\n",
    "                  'city_type':'first','purchase_quantity':'sum','transfer_quantity':'sum','sales_quantity':'sum',\n",
    "                  'available_quantity': 'mean', 'stock_prevailing_mrp':'mean',\n",
    "                  'days_to_sell':'mean','num_of_customers':'sum','total_price':'mean','case_size_range':'first',\n",
    "                  'gender':'first','movement':'first','material':'first','dial_color':'first', 'strap_type':'first',\n",
    "                  'strap_color':'first', 'precious_stone':'first', 'glass':'first', 'case_shape':'first',\n",
    "                  'watch_type':'first'}\n",
    "\n",
    "\n",
    "sales_sum_df = summary_items.groupby(['store_type','item_no','period','state']).agg(summarize_method).reset_index()\n",
    "sales_sum_df.shape"
   ]
  },
  {
   "cell_type": "code",
   "execution_count": 126,
   "metadata": {},
   "outputs": [
    {
     "data": {
      "text/plain": [
       "(399722, 26)"
      ]
     },
     "execution_count": 126,
     "metadata": {},
     "output_type": "execute_result"
    }
   ],
   "source": [
    "summary_df = sales_sum_df\n",
    "summary_df.shape"
   ]
  },
  {
   "cell_type": "markdown",
   "metadata": {},
   "source": [
    "## Adding log S/So - Location code"
   ]
  },
  {
   "cell_type": "code",
   "execution_count": 127,
   "metadata": {},
   "outputs": [],
   "source": [
    "#reading market shares\n",
    "market_share=pd.read_excel(data_path + \"market_share_encoded.xlsx\", header=0,index_col=0)\n",
    "\n",
    "#computing market size for each state-period\n",
    "market_sizes=summary_df.groupby(['state','period']).agg({'sales_quantity':'sum'})\n",
    "market_sizes=market_sizes.reset_index()\n",
    "market_sizes=pd.merge(market_sizes,market_share, left_on='state', right_on='SubCode', how='left')#.drop('Attribute_x', axis=1)\n",
    "market_sizes['Market Size']=market_sizes['sales_quantity'].div(market_sizes['Market Share'], axis=0)\n",
    "\n",
    "#computing number of stores per state\n",
    "x=summary_df.groupby(['state','period'])['store_type'].unique()\n",
    "l=[]\n",
    "store_nos=pd.DataFrame()\n",
    "for i in range(len(x)):\n",
    "    l.append([x.index[i][0],x.index[i][1],len(x[i])])\n",
    "cols=['state','period','Store numbers']\n",
    "store_nos = pd.DataFrame(l, columns=cols)\n",
    "\n",
    "#merging market sizes with number of stores per market\n",
    "market_sizes=pd.merge(market_sizes,store_nos, how='inner')\n",
    "\n",
    "#computing market size per store\n",
    "market_sizes['per store market']=market_sizes['Market Size']/market_sizes['Store numbers']\n",
    "\n",
    "#adding market share per store-period to the main data\n",
    "market_sizes=market_sizes[['state','period','per store market']]#extracting only relevant columns from market_sizes\n",
    "merge_cols=['state','period']\n",
    "summary_with_market_shares=pd.merge(summary_df,market_sizes, on=merge_cols,how='inner')\n",
    "\n",
    "#computing So\n",
    "\n",
    "# summary_with_market_shares['so'] = summary_with_market_shares['per store type market']-summary_with_market_shares['sales_quantity']\n",
    "\n",
    "summary_with_market_shares['so']=summary_with_market_shares['per store market']-summary_with_market_shares['sales_quantity']\n",
    "summary_with_market_shares = summary_with_market_shares[summary_with_market_shares['so'] != 0]\n",
    "\n",
    "#computing log(S/So) [replacing zeros with 1e-08 so that logs dont create a problem]\n",
    "summary_with_market_shares['so']=summary_with_market_shares['sales_quantity'].replace(0,10**(-5)).div(summary_with_market_shares['so'],axis=0)\n",
    "summary_with_market_shares['so']=np.log(summary_with_market_shares['so'])\n",
    "\n"
   ]
  },
  {
   "cell_type": "code",
   "execution_count": 128,
   "metadata": {},
   "outputs": [
    {
     "name": "stdout",
     "output_type": "stream",
     "text": [
      "0\n"
     ]
    }
   ],
   "source": [
    "print(len(summary_with_market_shares[summary_with_market_shares['so'].isin([np.inf, -np.inf, np.nan])]))"
   ]
  },
  {
   "cell_type": "code",
   "execution_count": 129,
   "metadata": {},
   "outputs": [],
   "source": [
    "#summary_with_market_shares = summary_with_market_shares[~(summary_with_market_shares['so'].isin([np.inf, -np.inf, np.nan]))]"
   ]
  },
  {
   "cell_type": "code",
   "execution_count": 130,
   "metadata": {},
   "outputs": [
    {
     "data": {
      "text/html": [
       "<div>\n",
       "<style scoped>\n",
       "    .dataframe tbody tr th:only-of-type {\n",
       "        vertical-align: middle;\n",
       "    }\n",
       "\n",
       "    .dataframe tbody tr th {\n",
       "        vertical-align: top;\n",
       "    }\n",
       "\n",
       "    .dataframe thead th {\n",
       "        text-align: right;\n",
       "    }\n",
       "</style>\n",
       "<table border=\"1\" class=\"dataframe\">\n",
       "  <thead>\n",
       "    <tr style=\"text-align: right;\">\n",
       "      <th></th>\n",
       "      <th>sales_quantity</th>\n",
       "      <th>per store market</th>\n",
       "      <th>so</th>\n",
       "    </tr>\n",
       "  </thead>\n",
       "  <tbody>\n",
       "  </tbody>\n",
       "</table>\n",
       "</div>"
      ],
      "text/plain": [
       "Empty DataFrame\n",
       "Columns: [sales_quantity, per store market, so]\n",
       "Index: []"
      ]
     },
     "execution_count": 130,
     "metadata": {},
     "output_type": "execute_result"
    }
   ],
   "source": [
    "#checking for NaNs\n",
    "d=summary_with_market_shares[['sales_quantity','per store market','so']]\n",
    "d[d.isna().any(axis=1)]"
   ]
  },
  {
   "cell_type": "code",
   "execution_count": 131,
   "metadata": {},
   "outputs": [
    {
     "data": {
      "text/plain": [
       "0   -19.408827\n",
       "1   -19.408827\n",
       "2   -19.408827\n",
       "3    -7.895529\n",
       "4   -19.408827\n",
       "Name: so, dtype: float64"
      ]
     },
     "execution_count": 131,
     "metadata": {},
     "output_type": "execute_result"
    }
   ],
   "source": [
    "summary_with_market_shares['so'].head()"
   ]
  },
  {
   "cell_type": "code",
   "execution_count": 132,
   "metadata": {},
   "outputs": [
    {
     "data": {
      "text/plain": [
       "0    2686.25\n",
       "1    2686.25\n",
       "2    2686.25\n",
       "3    2686.25\n",
       "4    2686.25\n",
       "Name: per store market, dtype: float64"
      ]
     },
     "execution_count": 132,
     "metadata": {},
     "output_type": "execute_result"
    }
   ],
   "source": [
    "summary_with_market_shares['per store market'].head()"
   ]
  },
  {
   "cell_type": "code",
   "execution_count": 133,
   "metadata": {},
   "outputs": [
    {
     "name": "stderr",
     "output_type": "stream",
     "text": [
      "/Users/parulgaba/anaconda3/lib/python3.7/site-packages/pandas/core/indexing.py:1494: FutureWarning: \n",
      "Passing list-likes to .loc or [] with any missing label will raise\n",
      "KeyError in the future, you can use .reindex() as an alternative.\n",
      "\n",
      "See the documentation here:\n",
      "https://pandas.pydata.org/pandas-docs/stable/indexing.html#deprecate-loc-reindex-listlike\n",
      "  return self._getitem_tuple(key)\n"
     ]
    }
   ],
   "source": [
    "#extracting specific columns\n",
    "\n",
    "col=[ 'item_no','period', 'state', 'region',\n",
    "       'brand', 'stock_prevailing_mrp', 'store_type', 'store_location', 'city_type',\n",
    "       'available_quantity',  'case_size_range',\n",
    "       'gender', 'movement', 'material', 'dial_color', 'strap_type',\n",
    "       'strap_color', 'precious_stone', 'glass', 'case_shape', 'watch_type','billing','sales_quantity','so']\n",
    "\n",
    "summary_final=summary_with_market_shares.loc[:,col]\n",
    "#df_north_final.fillna(0, inplace=True)\n",
    "\n",
    "summary_final['item_no']=summary_final['item_no'].astype(str)\n",
    "#summary_final['period']=summary_final['period'].astype(str)\n",
    "summary_final['case_shape']=summary_final['case_shape'].astype(str)\n"
   ]
  },
  {
   "cell_type": "code",
   "execution_count": 134,
   "metadata": {},
   "outputs": [
    {
     "data": {
      "text/plain": [
       "(397853, 24)"
      ]
     },
     "execution_count": 134,
     "metadata": {},
     "output_type": "execute_result"
    }
   ],
   "source": [
    "summary_final.shape"
   ]
  },
  {
   "cell_type": "markdown",
   "metadata": {},
   "source": [
    "#### Defining a function for doing pareto analysis on features"
   ]
  },
  {
   "cell_type": "markdown",
   "metadata": {},
   "source": [
    "The function combines all levels of a categorical features that cummulatively account for ~10% or less by Sales billings into a new level called \"others\". Features with less than 10 levels are not considered for pareto analysis."
   ]
  },
  {
   "cell_type": "code",
   "execution_count": 159,
   "metadata": {},
   "outputs": [],
   "source": [
    "def pareto(df,cols):\n",
    "    lst=[]\n",
    "    \n",
    "    for col in cols:\n",
    "                \n",
    "        series=df.fillna(0).groupby([col]).agg({'billing':'sum'}).sort_values('billing',ascending=False)\n",
    "        mask=series.cumsum()/series.sum()>0.9 \n",
    "        #nos=mask.value_counts()[1]\n",
    "        mask=mask.iloc[:,0]\n",
    "        levels=len(df[col].unique())\n",
    "        \n",
    "        if levels>10:\n",
    "            df[col] = np.where(df[col].isin(series[mask].index),'Other',df[col])         \n",
    "        new_levels=len(df[col].unique())\n",
    "\n",
    "        freq=df[col].value_counts()/df[col].value_counts().sum()*100\n",
    "        freq=freq.round(2)\n",
    "\n",
    "        sale_qty=df.groupby([col]).agg({'sales_quantity':'sum'}).sort_values('sales_quantity',ascending=False)\n",
    "        sale_qty=sale_qty/sale_qty.sum()*100\n",
    "        sale_qty=sale_qty.round(2)\n",
    "        try:\n",
    "            Other_Sales_Qty=sale_qty['sales_quantity']['Other']\n",
    "        except:\n",
    "            Other_Sales_Qty=0\n",
    "        \n",
    "        bill=df.groupby([col]).agg({'billing':'sum'}).sort_values('billing',ascending=False)\n",
    "        bill=bill/bill.sum()*100\n",
    "        bill=bill.round(2)\n",
    "        try:\n",
    "            Other_bill=bill['billing']['Other']\n",
    "        except:\n",
    "            Other_bill=0\n",
    "        \n",
    "        #comparison=mrp.merge(sale_qty, left_index=True, right_index=True)\n",
    "        lst.append([col.upper(),levels, new_levels,Other_bill,Other_Sales_Qty])\n",
    "        #print (\"%s-Originally %d levels,combined %d levels into 'Other'.New Levels %d.By MRP,Other is %2.1f and by sale qty others is %2.1f\"%(col.upper(),levels, levels-new_levels, new_levels,mrp['stock_prevailing_mrp']['Other'],sale_qty['sales_quantity']['Other']))\n",
    "    \n",
    "    cols=['Feature', 'Orig Levels', 'New Levels', 'Other%(Billing)', 'Other%(Sales Qty)']\n",
    "    df1 = pd.DataFrame(lst, columns=cols)\n",
    "    df1=df1.set_index(\"Feature\")\n",
    "    \n",
    "    return df1,df"
   ]
  },
  {
   "cell_type": "code",
   "execution_count": 160,
   "metadata": {},
   "outputs": [
    {
     "data": {
      "text/html": [
       "<div>\n",
       "<style scoped>\n",
       "    .dataframe tbody tr th:only-of-type {\n",
       "        vertical-align: middle;\n",
       "    }\n",
       "\n",
       "    .dataframe tbody tr th {\n",
       "        vertical-align: top;\n",
       "    }\n",
       "\n",
       "    .dataframe thead th {\n",
       "        text-align: right;\n",
       "    }\n",
       "</style>\n",
       "<table border=\"1\" class=\"dataframe\">\n",
       "  <thead>\n",
       "    <tr style=\"text-align: right;\">\n",
       "      <th></th>\n",
       "      <th>Orig Levels</th>\n",
       "      <th>New Levels</th>\n",
       "      <th>Other%(Billing)</th>\n",
       "      <th>Other%(Sales Qty)</th>\n",
       "    </tr>\n",
       "    <tr>\n",
       "      <th>Feature</th>\n",
       "      <th></th>\n",
       "      <th></th>\n",
       "      <th></th>\n",
       "      <th></th>\n",
       "    </tr>\n",
       "  </thead>\n",
       "  <tbody>\n",
       "    <tr>\n",
       "      <th>CASE_SIZE_RANGE</th>\n",
       "      <td>13</td>\n",
       "      <td>13</td>\n",
       "      <td>0</td>\n",
       "      <td>0</td>\n",
       "    </tr>\n",
       "    <tr>\n",
       "      <th>GENDER</th>\n",
       "      <td>3</td>\n",
       "      <td>3</td>\n",
       "      <td>0</td>\n",
       "      <td>0</td>\n",
       "    </tr>\n",
       "    <tr>\n",
       "      <th>MOVEMENT</th>\n",
       "      <td>6</td>\n",
       "      <td>6</td>\n",
       "      <td>0</td>\n",
       "      <td>0</td>\n",
       "    </tr>\n",
       "    <tr>\n",
       "      <th>MATERIAL</th>\n",
       "      <td>56</td>\n",
       "      <td>56</td>\n",
       "      <td>0</td>\n",
       "      <td>0</td>\n",
       "    </tr>\n",
       "    <tr>\n",
       "      <th>DIAL_COLOR</th>\n",
       "      <td>47</td>\n",
       "      <td>47</td>\n",
       "      <td>0</td>\n",
       "      <td>0</td>\n",
       "    </tr>\n",
       "    <tr>\n",
       "      <th>STRAP_TYPE</th>\n",
       "      <td>58</td>\n",
       "      <td>58</td>\n",
       "      <td>0</td>\n",
       "      <td>0</td>\n",
       "    </tr>\n",
       "    <tr>\n",
       "      <th>STRAP_COLOR</th>\n",
       "      <td>44</td>\n",
       "      <td>44</td>\n",
       "      <td>0</td>\n",
       "      <td>0</td>\n",
       "    </tr>\n",
       "    <tr>\n",
       "      <th>PRECIOUS_STONE</th>\n",
       "      <td>8</td>\n",
       "      <td>8</td>\n",
       "      <td>0</td>\n",
       "      <td>0</td>\n",
       "    </tr>\n",
       "    <tr>\n",
       "      <th>GLASS</th>\n",
       "      <td>7</td>\n",
       "      <td>7</td>\n",
       "      <td>0</td>\n",
       "      <td>0</td>\n",
       "    </tr>\n",
       "    <tr>\n",
       "      <th>CASE_SHAPE</th>\n",
       "      <td>6</td>\n",
       "      <td>6</td>\n",
       "      <td>0</td>\n",
       "      <td>0</td>\n",
       "    </tr>\n",
       "    <tr>\n",
       "      <th>WATCH_TYPE</th>\n",
       "      <td>6</td>\n",
       "      <td>6</td>\n",
       "      <td>0</td>\n",
       "      <td>0</td>\n",
       "    </tr>\n",
       "  </tbody>\n",
       "</table>\n",
       "</div>"
      ],
      "text/plain": [
       "                 Orig Levels  New Levels  Other%(Billing)  Other%(Sales Qty)\n",
       "Feature                                                                     \n",
       "CASE_SIZE_RANGE           13          13                0                  0\n",
       "GENDER                     3           3                0                  0\n",
       "MOVEMENT                   6           6                0                  0\n",
       "MATERIAL                  56          56                0                  0\n",
       "DIAL_COLOR                47          47                0                  0\n",
       "STRAP_TYPE                58          58                0                  0\n",
       "STRAP_COLOR               44          44                0                  0\n",
       "PRECIOUS_STONE             8           8                0                  0\n",
       "GLASS                      7           7                0                  0\n",
       "CASE_SHAPE                 6           6                0                  0\n",
       "WATCH_TYPE                 6           6                0                  0"
      ]
     },
     "execution_count": 160,
     "metadata": {},
     "output_type": "execute_result"
    }
   ],
   "source": [
    "import numpy as np\n",
    "cols=['case_size_range', 'gender','movement', 'material', 'dial_color', 'strap_type', 'strap_color','precious_stone', 'glass', 'case_shape', 'watch_type']\n",
    "summary,summary_final_pareto=pareto(summary_final, cols)\n",
    "summary\n"
   ]
  },
  {
   "cell_type": "code",
   "execution_count": 137,
   "metadata": {},
   "outputs": [
    {
     "data": {
      "text/plain": [
       "(397853, 24)"
      ]
     },
     "execution_count": 137,
     "metadata": {},
     "output_type": "execute_result"
    }
   ],
   "source": [
    "summary_final_pareto.shape"
   ]
  },
  {
   "cell_type": "markdown",
   "metadata": {},
   "source": [
    "#### Creating dummy variables"
   ]
  },
  {
   "cell_type": "code",
   "execution_count": 138,
   "metadata": {},
   "outputs": [
    {
     "name": "stdout",
     "output_type": "stream",
     "text": [
      "Done\n"
     ]
    }
   ],
   "source": [
    "#creating dummy variables\n",
    "cols=['brand','state','region', 'store_type', 'store_location', 'city_type',\n",
    "       'case_size_range', 'gender', 'movement', 'material', 'dial_color',\n",
    "       'strap_type', 'strap_color', 'precious_stone', 'glass', 'case_shape',\n",
    "       'watch_type']\n",
    "summary_final_dummies=pd.get_dummies(data=summary_final_pareto, columns=cols)\n",
    "\n",
    "print('Done')"
   ]
  },
  {
   "cell_type": "code",
   "execution_count": 139,
   "metadata": {},
   "outputs": [
    {
     "name": "stdout",
     "output_type": "stream",
     "text": [
      "<class 'pandas.core.frame.DataFrame'>\n",
      "Int64Index: 397853 entries, 0 to 399721\n",
      "Columns: 360 entries, item_no to watch_type_smart watch\n",
      "dtypes: float64(4), int64(2), object(1), uint8(353)\n",
      "memory usage: 158.2+ MB\n"
     ]
    }
   ],
   "source": [
    "summary_final_dummies.info()\n"
   ]
  },
  {
   "cell_type": "code",
   "execution_count": 140,
   "metadata": {},
   "outputs": [],
   "source": [
    "#for So as the target variable\n",
    "#creating seperate df for independent and dependent features\n",
    "y=summary_final_dummies.loc[:, summary_final_dummies.columns == 'so']\n",
    "X=summary_final_dummies.drop(columns =['sales_quantity','item_no','billing', 'so', 'period'])\n",
    "\n"
   ]
  },
  {
   "cell_type": "code",
   "execution_count": 141,
   "metadata": {},
   "outputs": [
    {
     "data": {
      "text/plain": [
       "(397853, 360)"
      ]
     },
     "execution_count": 141,
     "metadata": {},
     "output_type": "execute_result"
    }
   ],
   "source": [
    "summary_final_dummies.shape"
   ]
  },
  {
   "cell_type": "code",
   "execution_count": 142,
   "metadata": {},
   "outputs": [
    {
     "data": {
      "text/plain": [
       "Index([], dtype='object')"
      ]
     },
     "execution_count": 142,
     "metadata": {},
     "output_type": "execute_result"
    }
   ],
   "source": [
    "#checking for duplicate column names\n",
    "duplicate_columns = summary_final_dummies.columns[summary_final_dummies.columns.duplicated()]\n",
    "duplicate_columns"
   ]
  },
  {
   "cell_type": "code",
   "execution_count": 143,
   "metadata": {},
   "outputs": [
    {
     "data": {
      "text/plain": [
       "'\\nsplit=0.2\\ntest=int(len(X)*split)\\ntrain=len(X)-test\\nX_train=X.head(train)\\ny_train=y.head(train)\\nX_test=X.tail(test)\\ny_test=y.tail(test)\\n'"
      ]
     },
     "execution_count": 143,
     "metadata": {},
     "output_type": "execute_result"
    }
   ],
   "source": [
    "#performing train and test split on data\n",
    "X_train,X_test, y_train, y_test = train_test_split(X, y, test_size=0.2, random_state=42)\n",
    "\n",
    "\n",
    "\"\"\"\n",
    "split=0.2\n",
    "test=int(len(X)*split)\n",
    "train=len(X)-test\n",
    "X_train=X.head(train)\n",
    "y_train=y.head(train)\n",
    "X_test=X.tail(test)\n",
    "y_test=y.tail(test)\n",
    "\"\"\""
   ]
  },
  {
   "cell_type": "markdown",
   "metadata": {},
   "source": [
    "### Regression Modelling"
   ]
  },
  {
   "cell_type": "code",
   "execution_count": 144,
   "metadata": {},
   "outputs": [
    {
     "data": {
      "text/plain": [
       "LinearRegression()"
      ]
     },
     "execution_count": 144,
     "metadata": {},
     "output_type": "execute_result"
    }
   ],
   "source": [
    "from sklearn.linear_model import LinearRegression\n",
    "reg_model = LinearRegression()  \n",
    "reg_model.fit(X_train, y_train)"
   ]
  },
  {
   "cell_type": "code",
   "execution_count": 145,
   "metadata": {},
   "outputs": [],
   "source": [
    "preds = reg_model.predict(X_test)"
   ]
  },
  {
   "cell_type": "code",
   "execution_count": 146,
   "metadata": {},
   "outputs": [],
   "source": [
    "from sklearn.metrics import mean_squared_error\n",
    "from sklearn.metrics import r2_score\n",
    "rmse = np.sqrt(mean_squared_error(y_test, preds))\n"
   ]
  },
  {
   "cell_type": "code",
   "execution_count": 147,
   "metadata": {},
   "outputs": [
    {
     "name": "stdout",
     "output_type": "stream",
     "text": [
      "Linear regression RMSE: 4.84, Test R2: 0.13\n"
     ]
    }
   ],
   "source": [
    "r2=r2_score(y_test, preds)\n",
    "print(\"Linear regression RMSE: %.2f, Test R2: %.2f\" % (rmse,r2))"
   ]
  },
  {
   "cell_type": "markdown",
   "metadata": {},
   "source": [
    "## XGBoost"
   ]
  },
  {
   "cell_type": "code",
   "execution_count": 148,
   "metadata": {},
   "outputs": [],
   "source": [
    "#!pip install xgboost\n",
    "import xgboost as xgb\n",
    "from sklearn.metrics import mean_squared_error"
   ]
  },
  {
   "cell_type": "code",
   "execution_count": 149,
   "metadata": {},
   "outputs": [],
   "source": [
    "\n",
    "#\n",
    "xg_reg = xgb.XGBRegressor(objective ='reg:squarederror', colsample_bylevel=0.5, min_child_weight=7, colsample_bytree = 0.5, reg_alpha=0.7, reg_lambda=0.7, subsample=0.3, learning_rate = 0.15,max_depth = 10, alpha = 10, n_estimators = 5)\n",
    "xg_reg.fit(X_train,y_train)\n",
    "preds = xg_reg.predict(X_test)\n",
    "rmse = np.sqrt(mean_squared_error(y_test, preds))\n"
   ]
  },
  {
   "cell_type": "code",
   "execution_count": 150,
   "metadata": {},
   "outputs": [
    {
     "name": "stdout",
     "output_type": "stream",
     "text": [
      "Xgboost RMSE: 8.92, Test R2: -1.97\n"
     ]
    }
   ],
   "source": [
    "from sklearn.metrics import r2_score\n",
    "r2 = r2_score(y_test,preds)\n",
    "print(\"Xgboost RMSE: %.2f, Test R2: %.2f\" % (rmse,r2))"
   ]
  },
  {
   "cell_type": "code",
   "execution_count": 151,
   "metadata": {},
   "outputs": [
    {
     "name": "stdout",
     "output_type": "stream",
     "text": [
      "Fitting 5 folds for each of 20 candidates, totalling 100 fits\n",
      "[CV] subsample=0.9, reg_lambda=0.2, reg_alpha=0.6, n_estimator=3, min_child_weight=1, max_depth=12, learning_rate=0.2, colsample_bytree=0.1, colsample_bylevel=0.3 \n"
     ]
    },
    {
     "name": "stderr",
     "output_type": "stream",
     "text": [
      "[Parallel(n_jobs=1)]: Using backend SequentialBackend with 1 concurrent workers.\n"
     ]
    },
    {
     "name": "stdout",
     "output_type": "stream",
     "text": [
      "[12:59:21] WARNING: /Users/travis/build/dmlc/xgboost/src/learner.cc:480: \n",
      "Parameters: { n_estimator } might not be used.\n",
      "\n",
      "  This may not be accurate due to some parameters are only used in language bindings but\n",
      "  passed down to XGBoost core.  Or some parameters are not used but slip through this\n",
      "  verification. Please open an issue if you find above cases.\n",
      "\n",
      "\n",
      "[CV]  subsample=0.9, reg_lambda=0.2, reg_alpha=0.6, n_estimator=3, min_child_weight=1, max_depth=12, learning_rate=0.2, colsample_bytree=0.1, colsample_bylevel=0.3, score=-21.910, total=  48.3s\n",
      "[CV] subsample=0.9, reg_lambda=0.2, reg_alpha=0.6, n_estimator=3, min_child_weight=1, max_depth=12, learning_rate=0.2, colsample_bytree=0.1, colsample_bylevel=0.3 \n"
     ]
    },
    {
     "name": "stderr",
     "output_type": "stream",
     "text": [
      "[Parallel(n_jobs=1)]: Done   1 out of   1 | elapsed:   48.3s remaining:    0.0s\n"
     ]
    },
    {
     "name": "stdout",
     "output_type": "stream",
     "text": [
      "[13:00:09] WARNING: /Users/travis/build/dmlc/xgboost/src/learner.cc:480: \n",
      "Parameters: { n_estimator } might not be used.\n",
      "\n",
      "  This may not be accurate due to some parameters are only used in language bindings but\n",
      "  passed down to XGBoost core.  Or some parameters are not used but slip through this\n",
      "  verification. Please open an issue if you find above cases.\n",
      "\n",
      "\n",
      "[CV]  subsample=0.9, reg_lambda=0.2, reg_alpha=0.6, n_estimator=3, min_child_weight=1, max_depth=12, learning_rate=0.2, colsample_bytree=0.1, colsample_bylevel=0.3, score=-21.893, total=  46.6s\n",
      "[CV] subsample=0.9, reg_lambda=0.2, reg_alpha=0.6, n_estimator=3, min_child_weight=1, max_depth=12, learning_rate=0.2, colsample_bytree=0.1, colsample_bylevel=0.3 \n"
     ]
    },
    {
     "name": "stderr",
     "output_type": "stream",
     "text": [
      "[Parallel(n_jobs=1)]: Done   2 out of   2 | elapsed:  1.6min remaining:    0.0s\n"
     ]
    },
    {
     "name": "stdout",
     "output_type": "stream",
     "text": [
      "[13:00:54] WARNING: /Users/travis/build/dmlc/xgboost/src/learner.cc:480: \n",
      "Parameters: { n_estimator } might not be used.\n",
      "\n",
      "  This may not be accurate due to some parameters are only used in language bindings but\n",
      "  passed down to XGBoost core.  Or some parameters are not used but slip through this\n",
      "  verification. Please open an issue if you find above cases.\n",
      "\n",
      "\n",
      "[CV]  subsample=0.9, reg_lambda=0.2, reg_alpha=0.6, n_estimator=3, min_child_weight=1, max_depth=12, learning_rate=0.2, colsample_bytree=0.1, colsample_bylevel=0.3, score=-22.056, total=  47.7s\n",
      "[CV] subsample=0.9, reg_lambda=0.2, reg_alpha=0.6, n_estimator=3, min_child_weight=1, max_depth=12, learning_rate=0.2, colsample_bytree=0.1, colsample_bylevel=0.3 \n",
      "[13:01:42] WARNING: /Users/travis/build/dmlc/xgboost/src/learner.cc:480: \n",
      "Parameters: { n_estimator } might not be used.\n",
      "\n",
      "  This may not be accurate due to some parameters are only used in language bindings but\n",
      "  passed down to XGBoost core.  Or some parameters are not used but slip through this\n",
      "  verification. Please open an issue if you find above cases.\n",
      "\n",
      "\n",
      "[CV]  subsample=0.9, reg_lambda=0.2, reg_alpha=0.6, n_estimator=3, min_child_weight=1, max_depth=12, learning_rate=0.2, colsample_bytree=0.1, colsample_bylevel=0.3, score=-21.919, total=  53.3s\n",
      "[CV] subsample=0.9, reg_lambda=0.2, reg_alpha=0.6, n_estimator=3, min_child_weight=1, max_depth=12, learning_rate=0.2, colsample_bytree=0.1, colsample_bylevel=0.3 \n",
      "[13:02:36] WARNING: /Users/travis/build/dmlc/xgboost/src/learner.cc:480: \n",
      "Parameters: { n_estimator } might not be used.\n",
      "\n",
      "  This may not be accurate due to some parameters are only used in language bindings but\n",
      "  passed down to XGBoost core.  Or some parameters are not used but slip through this\n",
      "  verification. Please open an issue if you find above cases.\n",
      "\n",
      "\n",
      "[CV]  subsample=0.9, reg_lambda=0.2, reg_alpha=0.6, n_estimator=3, min_child_weight=1, max_depth=12, learning_rate=0.2, colsample_bytree=0.1, colsample_bylevel=0.3, score=-21.953, total=  46.4s\n",
      "[CV] subsample=0.7, reg_lambda=0.7, reg_alpha=0.9, n_estimator=7, min_child_weight=5, max_depth=8, learning_rate=0.05, colsample_bytree=0.9, colsample_bylevel=0.4 \n",
      "[13:03:22] WARNING: /Users/travis/build/dmlc/xgboost/src/learner.cc:480: \n",
      "Parameters: { n_estimator } might not be used.\n",
      "\n",
      "  This may not be accurate due to some parameters are only used in language bindings but\n",
      "  passed down to XGBoost core.  Or some parameters are not used but slip through this\n",
      "  verification. Please open an issue if you find above cases.\n",
      "\n",
      "\n",
      "[CV]  subsample=0.7, reg_lambda=0.7, reg_alpha=0.9, n_estimator=7, min_child_weight=5, max_depth=8, learning_rate=0.05, colsample_bytree=0.9, colsample_bylevel=0.4, score=-21.888, total= 2.5min\n",
      "[CV] subsample=0.7, reg_lambda=0.7, reg_alpha=0.9, n_estimator=7, min_child_weight=5, max_depth=8, learning_rate=0.05, colsample_bytree=0.9, colsample_bylevel=0.4 \n",
      "[13:05:51] WARNING: /Users/travis/build/dmlc/xgboost/src/learner.cc:480: \n",
      "Parameters: { n_estimator } might not be used.\n",
      "\n",
      "  This may not be accurate due to some parameters are only used in language bindings but\n",
      "  passed down to XGBoost core.  Or some parameters are not used but slip through this\n",
      "  verification. Please open an issue if you find above cases.\n",
      "\n",
      "\n",
      "[CV]  subsample=0.7, reg_lambda=0.7, reg_alpha=0.9, n_estimator=7, min_child_weight=5, max_depth=8, learning_rate=0.05, colsample_bytree=0.9, colsample_bylevel=0.4, score=-21.872, total= 3.6min\n",
      "[CV] subsample=0.7, reg_lambda=0.7, reg_alpha=0.9, n_estimator=7, min_child_weight=5, max_depth=8, learning_rate=0.05, colsample_bytree=0.9, colsample_bylevel=0.4 \n",
      "[13:09:29] WARNING: /Users/travis/build/dmlc/xgboost/src/learner.cc:480: \n",
      "Parameters: { n_estimator } might not be used.\n",
      "\n",
      "  This may not be accurate due to some parameters are only used in language bindings but\n",
      "  passed down to XGBoost core.  Or some parameters are not used but slip through this\n",
      "  verification. Please open an issue if you find above cases.\n",
      "\n",
      "\n",
      "[CV]  subsample=0.7, reg_lambda=0.7, reg_alpha=0.9, n_estimator=7, min_child_weight=5, max_depth=8, learning_rate=0.05, colsample_bytree=0.9, colsample_bylevel=0.4, score=-21.994, total= 2.5min\n",
      "[CV] subsample=0.7, reg_lambda=0.7, reg_alpha=0.9, n_estimator=7, min_child_weight=5, max_depth=8, learning_rate=0.05, colsample_bytree=0.9, colsample_bylevel=0.4 \n",
      "[13:12:01] WARNING: /Users/travis/build/dmlc/xgboost/src/learner.cc:480: \n",
      "Parameters: { n_estimator } might not be used.\n",
      "\n",
      "  This may not be accurate due to some parameters are only used in language bindings but\n",
      "  passed down to XGBoost core.  Or some parameters are not used but slip through this\n",
      "  verification. Please open an issue if you find above cases.\n",
      "\n",
      "\n",
      "[CV]  subsample=0.7, reg_lambda=0.7, reg_alpha=0.9, n_estimator=7, min_child_weight=5, max_depth=8, learning_rate=0.05, colsample_bytree=0.9, colsample_bylevel=0.4, score=-21.864, total= 2.5min\n",
      "[CV] subsample=0.7, reg_lambda=0.7, reg_alpha=0.9, n_estimator=7, min_child_weight=5, max_depth=8, learning_rate=0.05, colsample_bytree=0.9, colsample_bylevel=0.4 \n",
      "[13:14:29] WARNING: /Users/travis/build/dmlc/xgboost/src/learner.cc:480: \n",
      "Parameters: { n_estimator } might not be used.\n",
      "\n",
      "  This may not be accurate due to some parameters are only used in language bindings but\n",
      "  passed down to XGBoost core.  Or some parameters are not used but slip through this\n",
      "  verification. Please open an issue if you find above cases.\n",
      "\n",
      "\n",
      "[CV]  subsample=0.7, reg_lambda=0.7, reg_alpha=0.9, n_estimator=7, min_child_weight=5, max_depth=8, learning_rate=0.05, colsample_bytree=0.9, colsample_bylevel=0.4, score=-21.886, total= 2.5min\n",
      "[CV] subsample=0.9, reg_lambda=0.8, reg_alpha=0.6, n_estimator=5, min_child_weight=1, max_depth=5, learning_rate=0.3, colsample_bytree=0.7, colsample_bylevel=0.4 \n",
      "[13:17:00] WARNING: /Users/travis/build/dmlc/xgboost/src/learner.cc:480: \n",
      "Parameters: { n_estimator } might not be used.\n",
      "\n",
      "  This may not be accurate due to some parameters are only used in language bindings but\n",
      "  passed down to XGBoost core.  Or some parameters are not used but slip through this\n",
      "  verification. Please open an issue if you find above cases.\n",
      "\n",
      "\n",
      "[CV]  subsample=0.9, reg_lambda=0.8, reg_alpha=0.6, n_estimator=5, min_child_weight=1, max_depth=5, learning_rate=0.3, colsample_bytree=0.7, colsample_bylevel=0.4, score=-21.788, total= 1.4min\n",
      "[CV] subsample=0.9, reg_lambda=0.8, reg_alpha=0.6, n_estimator=5, min_child_weight=1, max_depth=5, learning_rate=0.3, colsample_bytree=0.7, colsample_bylevel=0.4 \n",
      "[13:18:25] WARNING: /Users/travis/build/dmlc/xgboost/src/learner.cc:480: \n",
      "Parameters: { n_estimator } might not be used.\n",
      "\n",
      "  This may not be accurate due to some parameters are only used in language bindings but\n",
      "  passed down to XGBoost core.  Or some parameters are not used but slip through this\n",
      "  verification. Please open an issue if you find above cases.\n",
      "\n",
      "\n",
      "[CV]  subsample=0.9, reg_lambda=0.8, reg_alpha=0.6, n_estimator=5, min_child_weight=1, max_depth=5, learning_rate=0.3, colsample_bytree=0.7, colsample_bylevel=0.4, score=-21.722, total= 1.4min\n",
      "[CV] subsample=0.9, reg_lambda=0.8, reg_alpha=0.6, n_estimator=5, min_child_weight=1, max_depth=5, learning_rate=0.3, colsample_bytree=0.7, colsample_bylevel=0.4 \n",
      "[13:19:47] WARNING: /Users/travis/build/dmlc/xgboost/src/learner.cc:480: \n",
      "Parameters: { n_estimator } might not be used.\n",
      "\n",
      "  This may not be accurate due to some parameters are only used in language bindings but\n",
      "  passed down to XGBoost core.  Or some parameters are not used but slip through this\n",
      "  verification. Please open an issue if you find above cases.\n",
      "\n",
      "\n",
      "[CV]  subsample=0.9, reg_lambda=0.8, reg_alpha=0.6, n_estimator=5, min_child_weight=1, max_depth=5, learning_rate=0.3, colsample_bytree=0.7, colsample_bylevel=0.4, score=-21.845, total= 1.4min\n",
      "[CV] subsample=0.9, reg_lambda=0.8, reg_alpha=0.6, n_estimator=5, min_child_weight=1, max_depth=5, learning_rate=0.3, colsample_bytree=0.7, colsample_bylevel=0.4 \n",
      "[13:21:09] WARNING: /Users/travis/build/dmlc/xgboost/src/learner.cc:480: \n",
      "Parameters: { n_estimator } might not be used.\n",
      "\n",
      "  This may not be accurate due to some parameters are only used in language bindings but\n",
      "  passed down to XGBoost core.  Or some parameters are not used but slip through this\n",
      "  verification. Please open an issue if you find above cases.\n",
      "\n",
      "\n",
      "[CV]  subsample=0.9, reg_lambda=0.8, reg_alpha=0.6, n_estimator=5, min_child_weight=1, max_depth=5, learning_rate=0.3, colsample_bytree=0.7, colsample_bylevel=0.4, score=-21.708, total= 1.4min\n",
      "[CV] subsample=0.9, reg_lambda=0.8, reg_alpha=0.6, n_estimator=5, min_child_weight=1, max_depth=5, learning_rate=0.3, colsample_bytree=0.7, colsample_bylevel=0.4 \n",
      "[13:22:33] WARNING: /Users/travis/build/dmlc/xgboost/src/learner.cc:480: \n",
      "Parameters: { n_estimator } might not be used.\n",
      "\n",
      "  This may not be accurate due to some parameters are only used in language bindings but\n",
      "  passed down to XGBoost core.  Or some parameters are not used but slip through this\n",
      "  verification. Please open an issue if you find above cases.\n",
      "\n",
      "\n",
      "[CV]  subsample=0.9, reg_lambda=0.8, reg_alpha=0.6, n_estimator=5, min_child_weight=1, max_depth=5, learning_rate=0.3, colsample_bytree=0.7, colsample_bylevel=0.4, score=-21.740, total= 1.4min\n",
      "[CV] subsample=0.1, reg_lambda=0.4, reg_alpha=0.2, n_estimator=7, min_child_weight=3, max_depth=3, learning_rate=0.2, colsample_bytree=0.4, colsample_bylevel=0.5 \n",
      "[13:23:57] WARNING: /Users/travis/build/dmlc/xgboost/src/learner.cc:480: \n",
      "Parameters: { n_estimator } might not be used.\n",
      "\n",
      "  This may not be accurate due to some parameters are only used in language bindings but\n",
      "  passed down to XGBoost core.  Or some parameters are not used but slip through this\n",
      "  verification. Please open an issue if you find above cases.\n",
      "\n",
      "\n",
      "[CV]  subsample=0.1, reg_lambda=0.4, reg_alpha=0.2, n_estimator=7, min_child_weight=3, max_depth=3, learning_rate=0.2, colsample_bytree=0.4, colsample_bylevel=0.5, score=-22.276, total=  33.1s\n",
      "[CV] subsample=0.1, reg_lambda=0.4, reg_alpha=0.2, n_estimator=7, min_child_weight=3, max_depth=3, learning_rate=0.2, colsample_bytree=0.4, colsample_bylevel=0.5 \n",
      "[13:24:31] WARNING: /Users/travis/build/dmlc/xgboost/src/learner.cc:480: \n",
      "Parameters: { n_estimator } might not be used.\n",
      "\n",
      "  This may not be accurate due to some parameters are only used in language bindings but\n",
      "  passed down to XGBoost core.  Or some parameters are not used but slip through this\n",
      "  verification. Please open an issue if you find above cases.\n",
      "\n",
      "\n",
      "[CV]  subsample=0.1, reg_lambda=0.4, reg_alpha=0.2, n_estimator=7, min_child_weight=3, max_depth=3, learning_rate=0.2, colsample_bytree=0.4, colsample_bylevel=0.5, score=-22.323, total=  33.8s\n",
      "[CV] subsample=0.1, reg_lambda=0.4, reg_alpha=0.2, n_estimator=7, min_child_weight=3, max_depth=3, learning_rate=0.2, colsample_bytree=0.4, colsample_bylevel=0.5 \n",
      "[13:25:04] WARNING: /Users/travis/build/dmlc/xgboost/src/learner.cc:480: \n",
      "Parameters: { n_estimator } might not be used.\n",
      "\n",
      "  This may not be accurate due to some parameters are only used in language bindings but\n",
      "  passed down to XGBoost core.  Or some parameters are not used but slip through this\n",
      "  verification. Please open an issue if you find above cases.\n",
      "\n",
      "\n",
      "[CV]  subsample=0.1, reg_lambda=0.4, reg_alpha=0.2, n_estimator=7, min_child_weight=3, max_depth=3, learning_rate=0.2, colsample_bytree=0.4, colsample_bylevel=0.5, score=-22.402, total=  33.6s\n",
      "[CV] subsample=0.1, reg_lambda=0.4, reg_alpha=0.2, n_estimator=7, min_child_weight=3, max_depth=3, learning_rate=0.2, colsample_bytree=0.4, colsample_bylevel=0.5 \n",
      "[13:25:38] WARNING: /Users/travis/build/dmlc/xgboost/src/learner.cc:480: \n",
      "Parameters: { n_estimator } might not be used.\n",
      "\n",
      "  This may not be accurate due to some parameters are only used in language bindings but\n",
      "  passed down to XGBoost core.  Or some parameters are not used but slip through this\n",
      "  verification. Please open an issue if you find above cases.\n",
      "\n",
      "\n",
      "[CV]  subsample=0.1, reg_lambda=0.4, reg_alpha=0.2, n_estimator=7, min_child_weight=3, max_depth=3, learning_rate=0.2, colsample_bytree=0.4, colsample_bylevel=0.5, score=-22.257, total=  33.6s\n",
      "[CV] subsample=0.1, reg_lambda=0.4, reg_alpha=0.2, n_estimator=7, min_child_weight=3, max_depth=3, learning_rate=0.2, colsample_bytree=0.4, colsample_bylevel=0.5 \n",
      "[13:26:12] WARNING: /Users/travis/build/dmlc/xgboost/src/learner.cc:480: \n",
      "Parameters: { n_estimator } might not be used.\n",
      "\n",
      "  This may not be accurate due to some parameters are only used in language bindings but\n",
      "  passed down to XGBoost core.  Or some parameters are not used but slip through this\n",
      "  verification. Please open an issue if you find above cases.\n",
      "\n",
      "\n",
      "[CV]  subsample=0.1, reg_lambda=0.4, reg_alpha=0.2, n_estimator=7, min_child_weight=3, max_depth=3, learning_rate=0.2, colsample_bytree=0.4, colsample_bylevel=0.5, score=-22.276, total=  34.5s\n",
      "[CV] subsample=0.6, reg_lambda=0.1, reg_alpha=0.2, n_estimator=5, min_child_weight=1, max_depth=4, learning_rate=0.1, colsample_bytree=0.5, colsample_bylevel=0.2 \n",
      "[13:26:46] WARNING: /Users/travis/build/dmlc/xgboost/src/learner.cc:480: \n",
      "Parameters: { n_estimator } might not be used.\n",
      "\n",
      "  This may not be accurate due to some parameters are only used in language bindings but\n",
      "  passed down to XGBoost core.  Or some parameters are not used but slip through this\n",
      "  verification. Please open an issue if you find above cases.\n",
      "\n",
      "\n",
      "[CV]  subsample=0.6, reg_lambda=0.1, reg_alpha=0.2, n_estimator=5, min_child_weight=1, max_depth=4, learning_rate=0.1, colsample_bytree=0.5, colsample_bylevel=0.2, score=-22.571, total=  42.0s\n",
      "[CV] subsample=0.6, reg_lambda=0.1, reg_alpha=0.2, n_estimator=5, min_child_weight=1, max_depth=4, learning_rate=0.1, colsample_bytree=0.5, colsample_bylevel=0.2 \n",
      "[13:27:28] WARNING: /Users/travis/build/dmlc/xgboost/src/learner.cc:480: \n",
      "Parameters: { n_estimator } might not be used.\n",
      "\n",
      "  This may not be accurate due to some parameters are only used in language bindings but\n",
      "  passed down to XGBoost core.  Or some parameters are not used but slip through this\n",
      "  verification. Please open an issue if you find above cases.\n",
      "\n",
      "\n",
      "[CV]  subsample=0.6, reg_lambda=0.1, reg_alpha=0.2, n_estimator=5, min_child_weight=1, max_depth=4, learning_rate=0.1, colsample_bytree=0.5, colsample_bylevel=0.2, score=-22.573, total=  40.4s\n",
      "[CV] subsample=0.6, reg_lambda=0.1, reg_alpha=0.2, n_estimator=5, min_child_weight=1, max_depth=4, learning_rate=0.1, colsample_bytree=0.5, colsample_bylevel=0.2 \n",
      "[13:28:09] WARNING: /Users/travis/build/dmlc/xgboost/src/learner.cc:480: \n",
      "Parameters: { n_estimator } might not be used.\n",
      "\n",
      "  This may not be accurate due to some parameters are only used in language bindings but\n",
      "  passed down to XGBoost core.  Or some parameters are not used but slip through this\n",
      "  verification. Please open an issue if you find above cases.\n",
      "\n",
      "\n",
      "[CV]  subsample=0.6, reg_lambda=0.1, reg_alpha=0.2, n_estimator=5, min_child_weight=1, max_depth=4, learning_rate=0.1, colsample_bytree=0.5, colsample_bylevel=0.2, score=-22.448, total=  40.6s\n",
      "[CV] subsample=0.6, reg_lambda=0.1, reg_alpha=0.2, n_estimator=5, min_child_weight=1, max_depth=4, learning_rate=0.1, colsample_bytree=0.5, colsample_bylevel=0.2 \n",
      "[13:28:49] WARNING: /Users/travis/build/dmlc/xgboost/src/learner.cc:480: \n",
      "Parameters: { n_estimator } might not be used.\n",
      "\n",
      "  This may not be accurate due to some parameters are only used in language bindings but\n",
      "  passed down to XGBoost core.  Or some parameters are not used but slip through this\n",
      "  verification. Please open an issue if you find above cases.\n",
      "\n",
      "\n",
      "[CV]  subsample=0.6, reg_lambda=0.1, reg_alpha=0.2, n_estimator=5, min_child_weight=1, max_depth=4, learning_rate=0.1, colsample_bytree=0.5, colsample_bylevel=0.2, score=-22.350, total=  39.7s\n",
      "[CV] subsample=0.6, reg_lambda=0.1, reg_alpha=0.2, n_estimator=5, min_child_weight=1, max_depth=4, learning_rate=0.1, colsample_bytree=0.5, colsample_bylevel=0.2 \n",
      "[13:29:28] WARNING: /Users/travis/build/dmlc/xgboost/src/learner.cc:480: \n",
      "Parameters: { n_estimator } might not be used.\n",
      "\n",
      "  This may not be accurate due to some parameters are only used in language bindings but\n",
      "  passed down to XGBoost core.  Or some parameters are not used but slip through this\n",
      "  verification. Please open an issue if you find above cases.\n",
      "\n",
      "\n",
      "[CV]  subsample=0.6, reg_lambda=0.1, reg_alpha=0.2, n_estimator=5, min_child_weight=1, max_depth=4, learning_rate=0.1, colsample_bytree=0.5, colsample_bylevel=0.2, score=-22.343, total=  39.7s\n",
      "[CV] subsample=0.4, reg_lambda=0.8, reg_alpha=0.3, n_estimator=3, min_child_weight=3, max_depth=7, learning_rate=0.15, colsample_bytree=0.8, colsample_bylevel=0.4 \n",
      "[13:30:08] WARNING: /Users/travis/build/dmlc/xgboost/src/learner.cc:480: \n",
      "Parameters: { n_estimator } might not be used.\n",
      "\n",
      "  This may not be accurate due to some parameters are only used in language bindings but\n",
      "  passed down to XGBoost core.  Or some parameters are not used but slip through this\n",
      "  verification. Please open an issue if you find above cases.\n",
      "\n",
      "\n",
      "[CV]  subsample=0.4, reg_lambda=0.8, reg_alpha=0.3, n_estimator=3, min_child_weight=3, max_depth=7, learning_rate=0.15, colsample_bytree=0.8, colsample_bylevel=0.4, score=-21.684, total= 1.7min\n",
      "[CV] subsample=0.4, reg_lambda=0.8, reg_alpha=0.3, n_estimator=3, min_child_weight=3, max_depth=7, learning_rate=0.15, colsample_bytree=0.8, colsample_bylevel=0.4 \n",
      "[13:31:53] WARNING: /Users/travis/build/dmlc/xgboost/src/learner.cc:480: \n",
      "Parameters: { n_estimator } might not be used.\n",
      "\n",
      "  This may not be accurate due to some parameters are only used in language bindings but\n",
      "  passed down to XGBoost core.  Or some parameters are not used but slip through this\n",
      "  verification. Please open an issue if you find above cases.\n",
      "\n",
      "\n",
      "[CV]  subsample=0.4, reg_lambda=0.8, reg_alpha=0.3, n_estimator=3, min_child_weight=3, max_depth=7, learning_rate=0.15, colsample_bytree=0.8, colsample_bylevel=0.4, score=-21.661, total= 1.7min\n",
      "[CV] subsample=0.4, reg_lambda=0.8, reg_alpha=0.3, n_estimator=3, min_child_weight=3, max_depth=7, learning_rate=0.15, colsample_bytree=0.8, colsample_bylevel=0.4 \n",
      "[13:33:37] WARNING: /Users/travis/build/dmlc/xgboost/src/learner.cc:480: \n",
      "Parameters: { n_estimator } might not be used.\n",
      "\n",
      "  This may not be accurate due to some parameters are only used in language bindings but\n",
      "  passed down to XGBoost core.  Or some parameters are not used but slip through this\n",
      "  verification. Please open an issue if you find above cases.\n",
      "\n",
      "\n",
      "[CV]  subsample=0.4, reg_lambda=0.8, reg_alpha=0.3, n_estimator=3, min_child_weight=3, max_depth=7, learning_rate=0.15, colsample_bytree=0.8, colsample_bylevel=0.4, score=-21.787, total= 1.7min\n",
      "[CV] subsample=0.4, reg_lambda=0.8, reg_alpha=0.3, n_estimator=3, min_child_weight=3, max_depth=7, learning_rate=0.15, colsample_bytree=0.8, colsample_bylevel=0.4 \n",
      "[13:35:21] WARNING: /Users/travis/build/dmlc/xgboost/src/learner.cc:480: \n",
      "Parameters: { n_estimator } might not be used.\n",
      "\n",
      "  This may not be accurate due to some parameters are only used in language bindings but\n",
      "  passed down to XGBoost core.  Or some parameters are not used but slip through this\n",
      "  verification. Please open an issue if you find above cases.\n",
      "\n",
      "\n",
      "[CV]  subsample=0.4, reg_lambda=0.8, reg_alpha=0.3, n_estimator=3, min_child_weight=3, max_depth=7, learning_rate=0.15, colsample_bytree=0.8, colsample_bylevel=0.4, score=-21.628, total= 1.7min\n",
      "[CV] subsample=0.4, reg_lambda=0.8, reg_alpha=0.3, n_estimator=3, min_child_weight=3, max_depth=7, learning_rate=0.15, colsample_bytree=0.8, colsample_bylevel=0.4 \n",
      "[13:37:05] WARNING: /Users/travis/build/dmlc/xgboost/src/learner.cc:480: \n",
      "Parameters: { n_estimator } might not be used.\n",
      "\n",
      "  This may not be accurate due to some parameters are only used in language bindings but\n",
      "  passed down to XGBoost core.  Or some parameters are not used but slip through this\n",
      "  verification. Please open an issue if you find above cases.\n",
      "\n",
      "\n",
      "[CV]  subsample=0.4, reg_lambda=0.8, reg_alpha=0.3, n_estimator=3, min_child_weight=3, max_depth=7, learning_rate=0.15, colsample_bytree=0.8, colsample_bylevel=0.4, score=-21.666, total= 1.9min\n",
      "[CV] subsample=0.2, reg_lambda=0.4, reg_alpha=0.8, n_estimator=5, min_child_weight=1, max_depth=5, learning_rate=0.25, colsample_bytree=0.9, colsample_bylevel=0.6 \n",
      "[13:39:00] WARNING: /Users/travis/build/dmlc/xgboost/src/learner.cc:480: \n",
      "Parameters: { n_estimator } might not be used.\n",
      "\n",
      "  This may not be accurate due to some parameters are only used in language bindings but\n",
      "  passed down to XGBoost core.  Or some parameters are not used but slip through this\n",
      "  verification. Please open an issue if you find above cases.\n",
      "\n",
      "\n",
      "[CV]  subsample=0.2, reg_lambda=0.4, reg_alpha=0.8, n_estimator=5, min_child_weight=1, max_depth=5, learning_rate=0.25, colsample_bytree=0.9, colsample_bylevel=0.6, score=-21.924, total= 1.5min\n",
      "[CV] subsample=0.2, reg_lambda=0.4, reg_alpha=0.8, n_estimator=5, min_child_weight=1, max_depth=5, learning_rate=0.25, colsample_bytree=0.9, colsample_bylevel=0.6 \n",
      "[13:40:32] WARNING: /Users/travis/build/dmlc/xgboost/src/learner.cc:480: \n",
      "Parameters: { n_estimator } might not be used.\n",
      "\n",
      "  This may not be accurate due to some parameters are only used in language bindings but\n",
      "  passed down to XGBoost core.  Or some parameters are not used but slip through this\n",
      "  verification. Please open an issue if you find above cases.\n",
      "\n",
      "\n",
      "[CV]  subsample=0.2, reg_lambda=0.4, reg_alpha=0.8, n_estimator=5, min_child_weight=1, max_depth=5, learning_rate=0.25, colsample_bytree=0.9, colsample_bylevel=0.6, score=-21.908, total= 1.5min\n",
      "[CV] subsample=0.2, reg_lambda=0.4, reg_alpha=0.8, n_estimator=5, min_child_weight=1, max_depth=5, learning_rate=0.25, colsample_bytree=0.9, colsample_bylevel=0.6 \n",
      "[13:42:04] WARNING: /Users/travis/build/dmlc/xgboost/src/learner.cc:480: \n",
      "Parameters: { n_estimator } might not be used.\n",
      "\n",
      "  This may not be accurate due to some parameters are only used in language bindings but\n",
      "  passed down to XGBoost core.  Or some parameters are not used but slip through this\n",
      "  verification. Please open an issue if you find above cases.\n",
      "\n",
      "\n",
      "[CV]  subsample=0.2, reg_lambda=0.4, reg_alpha=0.8, n_estimator=5, min_child_weight=1, max_depth=5, learning_rate=0.25, colsample_bytree=0.9, colsample_bylevel=0.6, score=-22.006, total= 1.5min\n",
      "[CV] subsample=0.2, reg_lambda=0.4, reg_alpha=0.8, n_estimator=5, min_child_weight=1, max_depth=5, learning_rate=0.25, colsample_bytree=0.9, colsample_bylevel=0.6 \n",
      "[13:43:33] WARNING: /Users/travis/build/dmlc/xgboost/src/learner.cc:480: \n",
      "Parameters: { n_estimator } might not be used.\n",
      "\n",
      "  This may not be accurate due to some parameters are only used in language bindings but\n",
      "  passed down to XGBoost core.  Or some parameters are not used but slip through this\n",
      "  verification. Please open an issue if you find above cases.\n",
      "\n",
      "\n",
      "[CV]  subsample=0.2, reg_lambda=0.4, reg_alpha=0.8, n_estimator=5, min_child_weight=1, max_depth=5, learning_rate=0.25, colsample_bytree=0.9, colsample_bylevel=0.6, score=-21.860, total= 1.4min\n",
      "[CV] subsample=0.2, reg_lambda=0.4, reg_alpha=0.8, n_estimator=5, min_child_weight=1, max_depth=5, learning_rate=0.25, colsample_bytree=0.9, colsample_bylevel=0.6 \n",
      "[13:45:00] WARNING: /Users/travis/build/dmlc/xgboost/src/learner.cc:480: \n",
      "Parameters: { n_estimator } might not be used.\n",
      "\n",
      "  This may not be accurate due to some parameters are only used in language bindings but\n",
      "  passed down to XGBoost core.  Or some parameters are not used but slip through this\n",
      "  verification. Please open an issue if you find above cases.\n",
      "\n",
      "\n",
      "[CV]  subsample=0.2, reg_lambda=0.4, reg_alpha=0.8, n_estimator=5, min_child_weight=1, max_depth=5, learning_rate=0.25, colsample_bytree=0.9, colsample_bylevel=0.6, score=-21.858, total= 1.5min\n",
      "[CV] subsample=0.9, reg_lambda=0.8, reg_alpha=0.1, n_estimator=3, min_child_weight=5, max_depth=12, learning_rate=0.15, colsample_bytree=0.5, colsample_bylevel=0.3 \n",
      "[13:46:29] WARNING: /Users/travis/build/dmlc/xgboost/src/learner.cc:480: \n",
      "Parameters: { n_estimator } might not be used.\n",
      "\n",
      "  This may not be accurate due to some parameters are only used in language bindings but\n",
      "  passed down to XGBoost core.  Or some parameters are not used but slip through this\n",
      "  verification. Please open an issue if you find above cases.\n",
      "\n",
      "\n",
      "[CV]  subsample=0.9, reg_lambda=0.8, reg_alpha=0.1, n_estimator=3, min_child_weight=5, max_depth=12, learning_rate=0.15, colsample_bytree=0.5, colsample_bylevel=0.3, score=-21.373, total= 1.8min\n",
      "[CV] subsample=0.9, reg_lambda=0.8, reg_alpha=0.1, n_estimator=3, min_child_weight=5, max_depth=12, learning_rate=0.15, colsample_bytree=0.5, colsample_bylevel=0.3 \n",
      "[13:48:19] WARNING: /Users/travis/build/dmlc/xgboost/src/learner.cc:480: \n",
      "Parameters: { n_estimator } might not be used.\n",
      "\n",
      "  This may not be accurate due to some parameters are only used in language bindings but\n",
      "  passed down to XGBoost core.  Or some parameters are not used but slip through this\n",
      "  verification. Please open an issue if you find above cases.\n",
      "\n",
      "\n",
      "[CV]  subsample=0.9, reg_lambda=0.8, reg_alpha=0.1, n_estimator=3, min_child_weight=5, max_depth=12, learning_rate=0.15, colsample_bytree=0.5, colsample_bylevel=0.3, score=-21.326, total= 2.1min\n",
      "[CV] subsample=0.9, reg_lambda=0.8, reg_alpha=0.1, n_estimator=3, min_child_weight=5, max_depth=12, learning_rate=0.15, colsample_bytree=0.5, colsample_bylevel=0.3 \n",
      "[13:50:26] WARNING: /Users/travis/build/dmlc/xgboost/src/learner.cc:480: \n",
      "Parameters: { n_estimator } might not be used.\n",
      "\n",
      "  This may not be accurate due to some parameters are only used in language bindings but\n",
      "  passed down to XGBoost core.  Or some parameters are not used but slip through this\n",
      "  verification. Please open an issue if you find above cases.\n",
      "\n",
      "\n",
      "[CV]  subsample=0.9, reg_lambda=0.8, reg_alpha=0.1, n_estimator=3, min_child_weight=5, max_depth=12, learning_rate=0.15, colsample_bytree=0.5, colsample_bylevel=0.3, score=-21.479, total= 1.9min\n",
      "[CV] subsample=0.9, reg_lambda=0.8, reg_alpha=0.1, n_estimator=3, min_child_weight=5, max_depth=12, learning_rate=0.15, colsample_bytree=0.5, colsample_bylevel=0.3 \n",
      "[13:52:19] WARNING: /Users/travis/build/dmlc/xgboost/src/learner.cc:480: \n",
      "Parameters: { n_estimator } might not be used.\n",
      "\n",
      "  This may not be accurate due to some parameters are only used in language bindings but\n",
      "  passed down to XGBoost core.  Or some parameters are not used but slip through this\n",
      "  verification. Please open an issue if you find above cases.\n",
      "\n",
      "\n",
      "[CV]  subsample=0.9, reg_lambda=0.8, reg_alpha=0.1, n_estimator=3, min_child_weight=5, max_depth=12, learning_rate=0.15, colsample_bytree=0.5, colsample_bylevel=0.3, score=-21.315, total= 1.8min\n",
      "[CV] subsample=0.9, reg_lambda=0.8, reg_alpha=0.1, n_estimator=3, min_child_weight=5, max_depth=12, learning_rate=0.15, colsample_bytree=0.5, colsample_bylevel=0.3 \n",
      "[13:54:09] WARNING: /Users/travis/build/dmlc/xgboost/src/learner.cc:480: \n",
      "Parameters: { n_estimator } might not be used.\n",
      "\n",
      "  This may not be accurate due to some parameters are only used in language bindings but\n",
      "  passed down to XGBoost core.  Or some parameters are not used but slip through this\n",
      "  verification. Please open an issue if you find above cases.\n",
      "\n",
      "\n",
      "[CV]  subsample=0.9, reg_lambda=0.8, reg_alpha=0.1, n_estimator=3, min_child_weight=5, max_depth=12, learning_rate=0.15, colsample_bytree=0.5, colsample_bylevel=0.3, score=-21.326, total= 2.0min\n",
      "[CV] subsample=0.9, reg_lambda=0.2, reg_alpha=0.3, n_estimator=3, min_child_weight=7, max_depth=3, learning_rate=0.3, colsample_bytree=0.9, colsample_bylevel=0.4 \n",
      "[13:56:07] WARNING: /Users/travis/build/dmlc/xgboost/src/learner.cc:480: \n",
      "Parameters: { n_estimator } might not be used.\n",
      "\n",
      "  This may not be accurate due to some parameters are only used in language bindings but\n",
      "  passed down to XGBoost core.  Or some parameters are not used but slip through this\n",
      "  verification. Please open an issue if you find above cases.\n",
      "\n",
      "\n",
      "[CV]  subsample=0.9, reg_lambda=0.2, reg_alpha=0.3, n_estimator=3, min_child_weight=7, max_depth=3, learning_rate=0.3, colsample_bytree=0.9, colsample_bylevel=0.4, score=-22.128, total= 1.2min\n",
      "[CV] subsample=0.9, reg_lambda=0.2, reg_alpha=0.3, n_estimator=3, min_child_weight=7, max_depth=3, learning_rate=0.3, colsample_bytree=0.9, colsample_bylevel=0.4 \n",
      "[13:57:17] WARNING: /Users/travis/build/dmlc/xgboost/src/learner.cc:480: \n",
      "Parameters: { n_estimator } might not be used.\n",
      "\n",
      "  This may not be accurate due to some parameters are only used in language bindings but\n",
      "  passed down to XGBoost core.  Or some parameters are not used but slip through this\n",
      "  verification. Please open an issue if you find above cases.\n",
      "\n",
      "\n",
      "[CV]  subsample=0.9, reg_lambda=0.2, reg_alpha=0.3, n_estimator=3, min_child_weight=7, max_depth=3, learning_rate=0.3, colsample_bytree=0.9, colsample_bylevel=0.4, score=-22.117, total= 1.2min\n",
      "[CV] subsample=0.9, reg_lambda=0.2, reg_alpha=0.3, n_estimator=3, min_child_weight=7, max_depth=3, learning_rate=0.3, colsample_bytree=0.9, colsample_bylevel=0.4 \n",
      "[13:58:27] WARNING: /Users/travis/build/dmlc/xgboost/src/learner.cc:480: \n",
      "Parameters: { n_estimator } might not be used.\n",
      "\n",
      "  This may not be accurate due to some parameters are only used in language bindings but\n",
      "  passed down to XGBoost core.  Or some parameters are not used but slip through this\n",
      "  verification. Please open an issue if you find above cases.\n",
      "\n",
      "\n",
      "[CV]  subsample=0.9, reg_lambda=0.2, reg_alpha=0.3, n_estimator=3, min_child_weight=7, max_depth=3, learning_rate=0.3, colsample_bytree=0.9, colsample_bylevel=0.4, score=-22.192, total= 1.2min\n",
      "[CV] subsample=0.9, reg_lambda=0.2, reg_alpha=0.3, n_estimator=3, min_child_weight=7, max_depth=3, learning_rate=0.3, colsample_bytree=0.9, colsample_bylevel=0.4 \n",
      "[13:59:37] WARNING: /Users/travis/build/dmlc/xgboost/src/learner.cc:480: \n",
      "Parameters: { n_estimator } might not be used.\n",
      "\n",
      "  This may not be accurate due to some parameters are only used in language bindings but\n",
      "  passed down to XGBoost core.  Or some parameters are not used but slip through this\n",
      "  verification. Please open an issue if you find above cases.\n",
      "\n",
      "\n",
      "[CV]  subsample=0.9, reg_lambda=0.2, reg_alpha=0.3, n_estimator=3, min_child_weight=7, max_depth=3, learning_rate=0.3, colsample_bytree=0.9, colsample_bylevel=0.4, score=-22.071, total= 1.2min\n",
      "[CV] subsample=0.9, reg_lambda=0.2, reg_alpha=0.3, n_estimator=3, min_child_weight=7, max_depth=3, learning_rate=0.3, colsample_bytree=0.9, colsample_bylevel=0.4 \n",
      "[14:00:46] WARNING: /Users/travis/build/dmlc/xgboost/src/learner.cc:480: \n",
      "Parameters: { n_estimator } might not be used.\n",
      "\n",
      "  This may not be accurate due to some parameters are only used in language bindings but\n",
      "  passed down to XGBoost core.  Or some parameters are not used but slip through this\n",
      "  verification. Please open an issue if you find above cases.\n",
      "\n",
      "\n",
      "[CV]  subsample=0.9, reg_lambda=0.2, reg_alpha=0.3, n_estimator=3, min_child_weight=7, max_depth=3, learning_rate=0.3, colsample_bytree=0.9, colsample_bylevel=0.4, score=-22.084, total= 1.1min\n",
      "[CV] subsample=0.1, reg_lambda=0.8, reg_alpha=0.2, n_estimator=7, min_child_weight=3, max_depth=3, learning_rate=0.05, colsample_bytree=0.7, colsample_bylevel=0.2 \n",
      "[14:01:55] WARNING: /Users/travis/build/dmlc/xgboost/src/learner.cc:480: \n",
      "Parameters: { n_estimator } might not be used.\n",
      "\n",
      "  This may not be accurate due to some parameters are only used in language bindings but\n",
      "  passed down to XGBoost core.  Or some parameters are not used but slip through this\n",
      "  verification. Please open an issue if you find above cases.\n",
      "\n",
      "\n",
      "[CV]  subsample=0.1, reg_lambda=0.8, reg_alpha=0.2, n_estimator=7, min_child_weight=3, max_depth=3, learning_rate=0.05, colsample_bytree=0.7, colsample_bylevel=0.2, score=-23.143, total=  32.1s\n",
      "[CV] subsample=0.1, reg_lambda=0.8, reg_alpha=0.2, n_estimator=7, min_child_weight=3, max_depth=3, learning_rate=0.05, colsample_bytree=0.7, colsample_bylevel=0.2 \n",
      "[14:02:27] WARNING: /Users/travis/build/dmlc/xgboost/src/learner.cc:480: \n",
      "Parameters: { n_estimator } might not be used.\n",
      "\n",
      "  This may not be accurate due to some parameters are only used in language bindings but\n",
      "  passed down to XGBoost core.  Or some parameters are not used but slip through this\n",
      "  verification. Please open an issue if you find above cases.\n",
      "\n",
      "\n",
      "[CV]  subsample=0.1, reg_lambda=0.8, reg_alpha=0.2, n_estimator=7, min_child_weight=3, max_depth=3, learning_rate=0.05, colsample_bytree=0.7, colsample_bylevel=0.2, score=-23.152, total=  31.5s\n",
      "[CV] subsample=0.1, reg_lambda=0.8, reg_alpha=0.2, n_estimator=7, min_child_weight=3, max_depth=3, learning_rate=0.05, colsample_bytree=0.7, colsample_bylevel=0.2 \n",
      "[14:02:59] WARNING: /Users/travis/build/dmlc/xgboost/src/learner.cc:480: \n",
      "Parameters: { n_estimator } might not be used.\n",
      "\n",
      "  This may not be accurate due to some parameters are only used in language bindings but\n",
      "  passed down to XGBoost core.  Or some parameters are not used but slip through this\n",
      "  verification. Please open an issue if you find above cases.\n",
      "\n",
      "\n",
      "[CV]  subsample=0.1, reg_lambda=0.8, reg_alpha=0.2, n_estimator=7, min_child_weight=3, max_depth=3, learning_rate=0.05, colsample_bytree=0.7, colsample_bylevel=0.2, score=-23.112, total=  32.4s\n",
      "[CV] subsample=0.1, reg_lambda=0.8, reg_alpha=0.2, n_estimator=7, min_child_weight=3, max_depth=3, learning_rate=0.05, colsample_bytree=0.7, colsample_bylevel=0.2 \n",
      "[14:03:31] WARNING: /Users/travis/build/dmlc/xgboost/src/learner.cc:480: \n",
      "Parameters: { n_estimator } might not be used.\n",
      "\n",
      "  This may not be accurate due to some parameters are only used in language bindings but\n",
      "  passed down to XGBoost core.  Or some parameters are not used but slip through this\n",
      "  verification. Please open an issue if you find above cases.\n",
      "\n",
      "\n",
      "[CV]  subsample=0.1, reg_lambda=0.8, reg_alpha=0.2, n_estimator=7, min_child_weight=3, max_depth=3, learning_rate=0.05, colsample_bytree=0.7, colsample_bylevel=0.2, score=-23.024, total=  31.6s\n",
      "[CV] subsample=0.1, reg_lambda=0.8, reg_alpha=0.2, n_estimator=7, min_child_weight=3, max_depth=3, learning_rate=0.05, colsample_bytree=0.7, colsample_bylevel=0.2 \n",
      "[14:04:03] WARNING: /Users/travis/build/dmlc/xgboost/src/learner.cc:480: \n",
      "Parameters: { n_estimator } might not be used.\n",
      "\n",
      "  This may not be accurate due to some parameters are only used in language bindings but\n",
      "  passed down to XGBoost core.  Or some parameters are not used but slip through this\n",
      "  verification. Please open an issue if you find above cases.\n",
      "\n",
      "\n",
      "[CV]  subsample=0.1, reg_lambda=0.8, reg_alpha=0.2, n_estimator=7, min_child_weight=3, max_depth=3, learning_rate=0.05, colsample_bytree=0.7, colsample_bylevel=0.2, score=-23.022, total=  31.5s\n",
      "[CV] subsample=0.2, reg_lambda=0.6, reg_alpha=0.7, n_estimator=5, min_child_weight=5, max_depth=12, learning_rate=0.2, colsample_bytree=0.8, colsample_bylevel=0.6 \n",
      "[14:04:34] WARNING: /Users/travis/build/dmlc/xgboost/src/learner.cc:480: \n",
      "Parameters: { n_estimator } might not be used.\n",
      "\n",
      "  This may not be accurate due to some parameters are only used in language bindings but\n",
      "  passed down to XGBoost core.  Or some parameters are not used but slip through this\n",
      "  verification. Please open an issue if you find above cases.\n",
      "\n",
      "\n",
      "[CV]  subsample=0.2, reg_lambda=0.6, reg_alpha=0.7, n_estimator=5, min_child_weight=5, max_depth=12, learning_rate=0.2, colsample_bytree=0.8, colsample_bylevel=0.6, score=-21.942, total= 2.7min\n",
      "[CV] subsample=0.2, reg_lambda=0.6, reg_alpha=0.7, n_estimator=5, min_child_weight=5, max_depth=12, learning_rate=0.2, colsample_bytree=0.8, colsample_bylevel=0.6 \n",
      "[14:07:15] WARNING: /Users/travis/build/dmlc/xgboost/src/learner.cc:480: \n",
      "Parameters: { n_estimator } might not be used.\n",
      "\n",
      "  This may not be accurate due to some parameters are only used in language bindings but\n",
      "  passed down to XGBoost core.  Or some parameters are not used but slip through this\n",
      "  verification. Please open an issue if you find above cases.\n",
      "\n",
      "\n",
      "[CV]  subsample=0.2, reg_lambda=0.6, reg_alpha=0.7, n_estimator=5, min_child_weight=5, max_depth=12, learning_rate=0.2, colsample_bytree=0.8, colsample_bylevel=0.6, score=-22.002, total= 2.6min\n",
      "[CV] subsample=0.2, reg_lambda=0.6, reg_alpha=0.7, n_estimator=5, min_child_weight=5, max_depth=12, learning_rate=0.2, colsample_bytree=0.8, colsample_bylevel=0.6 \n",
      "[14:09:54] WARNING: /Users/travis/build/dmlc/xgboost/src/learner.cc:480: \n",
      "Parameters: { n_estimator } might not be used.\n",
      "\n",
      "  This may not be accurate due to some parameters are only used in language bindings but\n",
      "  passed down to XGBoost core.  Or some parameters are not used but slip through this\n",
      "  verification. Please open an issue if you find above cases.\n",
      "\n",
      "\n",
      "[CV]  subsample=0.2, reg_lambda=0.6, reg_alpha=0.7, n_estimator=5, min_child_weight=5, max_depth=12, learning_rate=0.2, colsample_bytree=0.8, colsample_bylevel=0.6, score=-22.013, total= 2.7min\n",
      "[CV] subsample=0.2, reg_lambda=0.6, reg_alpha=0.7, n_estimator=5, min_child_weight=5, max_depth=12, learning_rate=0.2, colsample_bytree=0.8, colsample_bylevel=0.6 \n",
      "[14:12:35] WARNING: /Users/travis/build/dmlc/xgboost/src/learner.cc:480: \n",
      "Parameters: { n_estimator } might not be used.\n",
      "\n",
      "  This may not be accurate due to some parameters are only used in language bindings but\n",
      "  passed down to XGBoost core.  Or some parameters are not used but slip through this\n",
      "  verification. Please open an issue if you find above cases.\n",
      "\n",
      "\n",
      "[CV]  subsample=0.2, reg_lambda=0.6, reg_alpha=0.7, n_estimator=5, min_child_weight=5, max_depth=12, learning_rate=0.2, colsample_bytree=0.8, colsample_bylevel=0.6, score=-21.896, total= 2.6min\n",
      "[CV] subsample=0.2, reg_lambda=0.6, reg_alpha=0.7, n_estimator=5, min_child_weight=5, max_depth=12, learning_rate=0.2, colsample_bytree=0.8, colsample_bylevel=0.6 \n",
      "[14:15:13] WARNING: /Users/travis/build/dmlc/xgboost/src/learner.cc:480: \n",
      "Parameters: { n_estimator } might not be used.\n",
      "\n",
      "  This may not be accurate due to some parameters are only used in language bindings but\n",
      "  passed down to XGBoost core.  Or some parameters are not used but slip through this\n",
      "  verification. Please open an issue if you find above cases.\n",
      "\n",
      "\n",
      "[CV]  subsample=0.2, reg_lambda=0.6, reg_alpha=0.7, n_estimator=5, min_child_weight=5, max_depth=12, learning_rate=0.2, colsample_bytree=0.8, colsample_bylevel=0.6, score=-21.907, total= 2.6min\n",
      "[CV] subsample=0.6, reg_lambda=0.5, reg_alpha=0.7, n_estimator=3, min_child_weight=5, max_depth=12, learning_rate=0.2, colsample_bytree=0.8, colsample_bylevel=0.3 \n",
      "[14:17:51] WARNING: /Users/travis/build/dmlc/xgboost/src/learner.cc:480: \n",
      "Parameters: { n_estimator } might not be used.\n",
      "\n",
      "  This may not be accurate due to some parameters are only used in language bindings but\n",
      "  passed down to XGBoost core.  Or some parameters are not used but slip through this\n",
      "  verification. Please open an issue if you find above cases.\n",
      "\n",
      "\n",
      "[CV]  subsample=0.6, reg_lambda=0.5, reg_alpha=0.7, n_estimator=3, min_child_weight=5, max_depth=12, learning_rate=0.2, colsample_bytree=0.8, colsample_bylevel=0.3, score=-21.499, total= 2.5min\n",
      "[CV] subsample=0.6, reg_lambda=0.5, reg_alpha=0.7, n_estimator=3, min_child_weight=5, max_depth=12, learning_rate=0.2, colsample_bytree=0.8, colsample_bylevel=0.3 \n",
      "[14:20:20] WARNING: /Users/travis/build/dmlc/xgboost/src/learner.cc:480: \n",
      "Parameters: { n_estimator } might not be used.\n",
      "\n",
      "  This may not be accurate due to some parameters are only used in language bindings but\n",
      "  passed down to XGBoost core.  Or some parameters are not used but slip through this\n",
      "  verification. Please open an issue if you find above cases.\n",
      "\n",
      "\n",
      "[CV]  subsample=0.6, reg_lambda=0.5, reg_alpha=0.7, n_estimator=3, min_child_weight=5, max_depth=12, learning_rate=0.2, colsample_bytree=0.8, colsample_bylevel=0.3, score=-21.504, total= 2.5min\n",
      "[CV] subsample=0.6, reg_lambda=0.5, reg_alpha=0.7, n_estimator=3, min_child_weight=5, max_depth=12, learning_rate=0.2, colsample_bytree=0.8, colsample_bylevel=0.3 \n",
      "[14:22:50] WARNING: /Users/travis/build/dmlc/xgboost/src/learner.cc:480: \n",
      "Parameters: { n_estimator } might not be used.\n",
      "\n",
      "  This may not be accurate due to some parameters are only used in language bindings but\n",
      "  passed down to XGBoost core.  Or some parameters are not used but slip through this\n",
      "  verification. Please open an issue if you find above cases.\n",
      "\n",
      "\n",
      "[CV]  subsample=0.6, reg_lambda=0.5, reg_alpha=0.7, n_estimator=3, min_child_weight=5, max_depth=12, learning_rate=0.2, colsample_bytree=0.8, colsample_bylevel=0.3, score=-21.552, total= 2.5min\n",
      "[CV] subsample=0.6, reg_lambda=0.5, reg_alpha=0.7, n_estimator=3, min_child_weight=5, max_depth=12, learning_rate=0.2, colsample_bytree=0.8, colsample_bylevel=0.3 \n",
      "[14:25:20] WARNING: /Users/travis/build/dmlc/xgboost/src/learner.cc:480: \n",
      "Parameters: { n_estimator } might not be used.\n",
      "\n",
      "  This may not be accurate due to some parameters are only used in language bindings but\n",
      "  passed down to XGBoost core.  Or some parameters are not used but slip through this\n",
      "  verification. Please open an issue if you find above cases.\n",
      "\n",
      "\n",
      "[CV]  subsample=0.6, reg_lambda=0.5, reg_alpha=0.7, n_estimator=3, min_child_weight=5, max_depth=12, learning_rate=0.2, colsample_bytree=0.8, colsample_bylevel=0.3, score=-21.367, total= 2.5min\n",
      "[CV] subsample=0.6, reg_lambda=0.5, reg_alpha=0.7, n_estimator=3, min_child_weight=5, max_depth=12, learning_rate=0.2, colsample_bytree=0.8, colsample_bylevel=0.3 \n",
      "[14:27:49] WARNING: /Users/travis/build/dmlc/xgboost/src/learner.cc:480: \n",
      "Parameters: { n_estimator } might not be used.\n",
      "\n",
      "  This may not be accurate due to some parameters are only used in language bindings but\n",
      "  passed down to XGBoost core.  Or some parameters are not used but slip through this\n",
      "  verification. Please open an issue if you find above cases.\n",
      "\n",
      "\n",
      "[CV]  subsample=0.6, reg_lambda=0.5, reg_alpha=0.7, n_estimator=3, min_child_weight=5, max_depth=12, learning_rate=0.2, colsample_bytree=0.8, colsample_bylevel=0.3, score=-21.475, total= 2.5min\n",
      "[CV] subsample=0.6, reg_lambda=0.9, reg_alpha=0.7, n_estimator=5, min_child_weight=3, max_depth=7, learning_rate=0.1, colsample_bytree=0.7, colsample_bylevel=0.7 \n",
      "[14:30:18] WARNING: /Users/travis/build/dmlc/xgboost/src/learner.cc:480: \n",
      "Parameters: { n_estimator } might not be used.\n",
      "\n",
      "  This may not be accurate due to some parameters are only used in language bindings but\n",
      "  passed down to XGBoost core.  Or some parameters are not used but slip through this\n",
      "  verification. Please open an issue if you find above cases.\n",
      "\n",
      "\n",
      "[CV]  subsample=0.6, reg_lambda=0.9, reg_alpha=0.7, n_estimator=5, min_child_weight=3, max_depth=7, learning_rate=0.1, colsample_bytree=0.7, colsample_bylevel=0.7, score=-21.730, total= 2.7min\n",
      "[CV] subsample=0.6, reg_lambda=0.9, reg_alpha=0.7, n_estimator=5, min_child_weight=3, max_depth=7, learning_rate=0.1, colsample_bytree=0.7, colsample_bylevel=0.7 \n",
      "[14:33:01] WARNING: /Users/travis/build/dmlc/xgboost/src/learner.cc:480: \n",
      "Parameters: { n_estimator } might not be used.\n",
      "\n",
      "  This may not be accurate due to some parameters are only used in language bindings but\n",
      "  passed down to XGBoost core.  Or some parameters are not used but slip through this\n",
      "  verification. Please open an issue if you find above cases.\n",
      "\n",
      "\n",
      "[CV]  subsample=0.6, reg_lambda=0.9, reg_alpha=0.7, n_estimator=5, min_child_weight=3, max_depth=7, learning_rate=0.1, colsample_bytree=0.7, colsample_bylevel=0.7, score=-21.724, total= 2.8min\n",
      "[CV] subsample=0.6, reg_lambda=0.9, reg_alpha=0.7, n_estimator=5, min_child_weight=3, max_depth=7, learning_rate=0.1, colsample_bytree=0.7, colsample_bylevel=0.7 \n",
      "[14:35:48] WARNING: /Users/travis/build/dmlc/xgboost/src/learner.cc:480: \n",
      "Parameters: { n_estimator } might not be used.\n",
      "\n",
      "  This may not be accurate due to some parameters are only used in language bindings but\n",
      "  passed down to XGBoost core.  Or some parameters are not used but slip through this\n",
      "  verification. Please open an issue if you find above cases.\n",
      "\n",
      "\n",
      "[CV]  subsample=0.6, reg_lambda=0.9, reg_alpha=0.7, n_estimator=5, min_child_weight=3, max_depth=7, learning_rate=0.1, colsample_bytree=0.7, colsample_bylevel=0.7, score=-21.830, total= 2.7min\n",
      "[CV] subsample=0.6, reg_lambda=0.9, reg_alpha=0.7, n_estimator=5, min_child_weight=3, max_depth=7, learning_rate=0.1, colsample_bytree=0.7, colsample_bylevel=0.7 \n",
      "[14:38:30] WARNING: /Users/travis/build/dmlc/xgboost/src/learner.cc:480: \n",
      "Parameters: { n_estimator } might not be used.\n",
      "\n",
      "  This may not be accurate due to some parameters are only used in language bindings but\n",
      "  passed down to XGBoost core.  Or some parameters are not used but slip through this\n",
      "  verification. Please open an issue if you find above cases.\n",
      "\n",
      "\n",
      "[CV]  subsample=0.6, reg_lambda=0.9, reg_alpha=0.7, n_estimator=5, min_child_weight=3, max_depth=7, learning_rate=0.1, colsample_bytree=0.7, colsample_bylevel=0.7, score=-21.687, total= 2.7min\n",
      "[CV] subsample=0.6, reg_lambda=0.9, reg_alpha=0.7, n_estimator=5, min_child_weight=3, max_depth=7, learning_rate=0.1, colsample_bytree=0.7, colsample_bylevel=0.7 \n",
      "[14:41:11] WARNING: /Users/travis/build/dmlc/xgboost/src/learner.cc:480: \n",
      "Parameters: { n_estimator } might not be used.\n",
      "\n",
      "  This may not be accurate due to some parameters are only used in language bindings but\n",
      "  passed down to XGBoost core.  Or some parameters are not used but slip through this\n",
      "  verification. Please open an issue if you find above cases.\n",
      "\n",
      "\n",
      "[CV]  subsample=0.6, reg_lambda=0.9, reg_alpha=0.7, n_estimator=5, min_child_weight=3, max_depth=7, learning_rate=0.1, colsample_bytree=0.7, colsample_bylevel=0.7, score=-21.719, total= 2.7min\n",
      "[CV] subsample=0.3, reg_lambda=0.8, reg_alpha=0.8, n_estimator=3, min_child_weight=1, max_depth=6, learning_rate=0.05, colsample_bytree=0.9, colsample_bylevel=0.7 \n",
      "[14:43:54] WARNING: /Users/travis/build/dmlc/xgboost/src/learner.cc:480: \n",
      "Parameters: { n_estimator } might not be used.\n",
      "\n",
      "  This may not be accurate due to some parameters are only used in language bindings but\n",
      "  passed down to XGBoost core.  Or some parameters are not used but slip through this\n",
      "  verification. Please open an issue if you find above cases.\n",
      "\n",
      "\n",
      "[CV]  subsample=0.3, reg_lambda=0.8, reg_alpha=0.8, n_estimator=3, min_child_weight=1, max_depth=6, learning_rate=0.05, colsample_bytree=0.9, colsample_bylevel=0.7, score=-22.163, total= 2.2min\n",
      "[CV] subsample=0.3, reg_lambda=0.8, reg_alpha=0.8, n_estimator=3, min_child_weight=1, max_depth=6, learning_rate=0.05, colsample_bytree=0.9, colsample_bylevel=0.7 \n",
      "[14:46:05] WARNING: /Users/travis/build/dmlc/xgboost/src/learner.cc:480: \n",
      "Parameters: { n_estimator } might not be used.\n",
      "\n",
      "  This may not be accurate due to some parameters are only used in language bindings but\n",
      "  passed down to XGBoost core.  Or some parameters are not used but slip through this\n",
      "  verification. Please open an issue if you find above cases.\n",
      "\n",
      "\n",
      "[CV]  subsample=0.3, reg_lambda=0.8, reg_alpha=0.8, n_estimator=3, min_child_weight=1, max_depth=6, learning_rate=0.05, colsample_bytree=0.9, colsample_bylevel=0.7, score=-22.162, total= 2.2min\n",
      "[CV] subsample=0.3, reg_lambda=0.8, reg_alpha=0.8, n_estimator=3, min_child_weight=1, max_depth=6, learning_rate=0.05, colsample_bytree=0.9, colsample_bylevel=0.7 \n",
      "[14:48:19] WARNING: /Users/travis/build/dmlc/xgboost/src/learner.cc:480: \n",
      "Parameters: { n_estimator } might not be used.\n",
      "\n",
      "  This may not be accurate due to some parameters are only used in language bindings but\n",
      "  passed down to XGBoost core.  Or some parameters are not used but slip through this\n",
      "  verification. Please open an issue if you find above cases.\n",
      "\n",
      "\n",
      "[CV]  subsample=0.3, reg_lambda=0.8, reg_alpha=0.8, n_estimator=3, min_child_weight=1, max_depth=6, learning_rate=0.05, colsample_bytree=0.9, colsample_bylevel=0.7, score=-22.263, total= 2.3min\n",
      "[CV] subsample=0.3, reg_lambda=0.8, reg_alpha=0.8, n_estimator=3, min_child_weight=1, max_depth=6, learning_rate=0.05, colsample_bytree=0.9, colsample_bylevel=0.7 \n",
      "[14:50:36] WARNING: /Users/travis/build/dmlc/xgboost/src/learner.cc:480: \n",
      "Parameters: { n_estimator } might not be used.\n",
      "\n",
      "  This may not be accurate due to some parameters are only used in language bindings but\n",
      "  passed down to XGBoost core.  Or some parameters are not used but slip through this\n",
      "  verification. Please open an issue if you find above cases.\n",
      "\n",
      "\n",
      "[CV]  subsample=0.3, reg_lambda=0.8, reg_alpha=0.8, n_estimator=3, min_child_weight=1, max_depth=6, learning_rate=0.05, colsample_bytree=0.9, colsample_bylevel=0.7, score=-22.129, total= 2.2min\n",
      "[CV] subsample=0.3, reg_lambda=0.8, reg_alpha=0.8, n_estimator=3, min_child_weight=1, max_depth=6, learning_rate=0.05, colsample_bytree=0.9, colsample_bylevel=0.7 \n",
      "[14:52:47] WARNING: /Users/travis/build/dmlc/xgboost/src/learner.cc:480: \n",
      "Parameters: { n_estimator } might not be used.\n",
      "\n",
      "  This may not be accurate due to some parameters are only used in language bindings but\n",
      "  passed down to XGBoost core.  Or some parameters are not used but slip through this\n",
      "  verification. Please open an issue if you find above cases.\n",
      "\n",
      "\n",
      "[CV]  subsample=0.3, reg_lambda=0.8, reg_alpha=0.8, n_estimator=3, min_child_weight=1, max_depth=6, learning_rate=0.05, colsample_bytree=0.9, colsample_bylevel=0.7, score=-22.145, total= 2.2min\n",
      "[CV] subsample=0.4, reg_lambda=0.1, reg_alpha=0.6, n_estimator=7, min_child_weight=3, max_depth=4, learning_rate=0.1, colsample_bytree=0.8, colsample_bylevel=0.2 \n",
      "[14:55:00] WARNING: /Users/travis/build/dmlc/xgboost/src/learner.cc:480: \n",
      "Parameters: { n_estimator } might not be used.\n",
      "\n",
      "  This may not be accurate due to some parameters are only used in language bindings but\n",
      "  passed down to XGBoost core.  Or some parameters are not used but slip through this\n",
      "  verification. Please open an issue if you find above cases.\n",
      "\n",
      "\n",
      "[CV]  subsample=0.4, reg_lambda=0.1, reg_alpha=0.6, n_estimator=7, min_child_weight=3, max_depth=4, learning_rate=0.1, colsample_bytree=0.8, colsample_bylevel=0.2, score=-22.315, total=  46.0s\n",
      "[CV] subsample=0.4, reg_lambda=0.1, reg_alpha=0.6, n_estimator=7, min_child_weight=3, max_depth=4, learning_rate=0.1, colsample_bytree=0.8, colsample_bylevel=0.2 \n",
      "[14:55:47] WARNING: /Users/travis/build/dmlc/xgboost/src/learner.cc:480: \n",
      "Parameters: { n_estimator } might not be used.\n",
      "\n",
      "  This may not be accurate due to some parameters are only used in language bindings but\n",
      "  passed down to XGBoost core.  Or some parameters are not used but slip through this\n",
      "  verification. Please open an issue if you find above cases.\n",
      "\n",
      "\n",
      "[CV]  subsample=0.4, reg_lambda=0.1, reg_alpha=0.6, n_estimator=7, min_child_weight=3, max_depth=4, learning_rate=0.1, colsample_bytree=0.8, colsample_bylevel=0.2, score=-22.323, total=  47.5s\n",
      "[CV] subsample=0.4, reg_lambda=0.1, reg_alpha=0.6, n_estimator=7, min_child_weight=3, max_depth=4, learning_rate=0.1, colsample_bytree=0.8, colsample_bylevel=0.2 \n",
      "[14:56:33] WARNING: /Users/travis/build/dmlc/xgboost/src/learner.cc:480: \n",
      "Parameters: { n_estimator } might not be used.\n",
      "\n",
      "  This may not be accurate due to some parameters are only used in language bindings but\n",
      "  passed down to XGBoost core.  Or some parameters are not used but slip through this\n",
      "  verification. Please open an issue if you find above cases.\n",
      "\n",
      "\n",
      "[CV]  subsample=0.4, reg_lambda=0.1, reg_alpha=0.6, n_estimator=7, min_child_weight=3, max_depth=4, learning_rate=0.1, colsample_bytree=0.8, colsample_bylevel=0.2, score=-22.387, total=  45.9s\n",
      "[CV] subsample=0.4, reg_lambda=0.1, reg_alpha=0.6, n_estimator=7, min_child_weight=3, max_depth=4, learning_rate=0.1, colsample_bytree=0.8, colsample_bylevel=0.2 \n",
      "[14:57:20] WARNING: /Users/travis/build/dmlc/xgboost/src/learner.cc:480: \n",
      "Parameters: { n_estimator } might not be used.\n",
      "\n",
      "  This may not be accurate due to some parameters are only used in language bindings but\n",
      "  passed down to XGBoost core.  Or some parameters are not used but slip through this\n",
      "  verification. Please open an issue if you find above cases.\n",
      "\n",
      "\n",
      "[CV]  subsample=0.4, reg_lambda=0.1, reg_alpha=0.6, n_estimator=7, min_child_weight=3, max_depth=4, learning_rate=0.1, colsample_bytree=0.8, colsample_bylevel=0.2, score=-22.288, total=  46.4s\n",
      "[CV] subsample=0.4, reg_lambda=0.1, reg_alpha=0.6, n_estimator=7, min_child_weight=3, max_depth=4, learning_rate=0.1, colsample_bytree=0.8, colsample_bylevel=0.2 \n",
      "[14:58:06] WARNING: /Users/travis/build/dmlc/xgboost/src/learner.cc:480: \n",
      "Parameters: { n_estimator } might not be used.\n",
      "\n",
      "  This may not be accurate due to some parameters are only used in language bindings but\n",
      "  passed down to XGBoost core.  Or some parameters are not used but slip through this\n",
      "  verification. Please open an issue if you find above cases.\n",
      "\n",
      "\n",
      "[CV]  subsample=0.4, reg_lambda=0.1, reg_alpha=0.6, n_estimator=7, min_child_weight=3, max_depth=4, learning_rate=0.1, colsample_bytree=0.8, colsample_bylevel=0.2, score=-22.287, total=  46.5s\n",
      "[CV] subsample=0.1, reg_lambda=0.7, reg_alpha=0.7, n_estimator=3, min_child_weight=7, max_depth=12, learning_rate=0.2, colsample_bytree=0.9, colsample_bylevel=0.2 \n",
      "[14:58:53] WARNING: /Users/travis/build/dmlc/xgboost/src/learner.cc:480: \n",
      "Parameters: { n_estimator } might not be used.\n",
      "\n",
      "  This may not be accurate due to some parameters are only used in language bindings but\n",
      "  passed down to XGBoost core.  Or some parameters are not used but slip through this\n",
      "  verification. Please open an issue if you find above cases.\n",
      "\n",
      "\n",
      "[CV]  subsample=0.1, reg_lambda=0.7, reg_alpha=0.7, n_estimator=3, min_child_weight=7, max_depth=12, learning_rate=0.2, colsample_bytree=0.9, colsample_bylevel=0.2, score=-22.101, total= 1.1min\n",
      "[CV] subsample=0.1, reg_lambda=0.7, reg_alpha=0.7, n_estimator=3, min_child_weight=7, max_depth=12, learning_rate=0.2, colsample_bytree=0.9, colsample_bylevel=0.2 \n",
      "[14:59:59] WARNING: /Users/travis/build/dmlc/xgboost/src/learner.cc:480: \n",
      "Parameters: { n_estimator } might not be used.\n",
      "\n",
      "  This may not be accurate due to some parameters are only used in language bindings but\n",
      "  passed down to XGBoost core.  Or some parameters are not used but slip through this\n",
      "  verification. Please open an issue if you find above cases.\n",
      "\n",
      "\n",
      "[CV]  subsample=0.1, reg_lambda=0.7, reg_alpha=0.7, n_estimator=3, min_child_weight=7, max_depth=12, learning_rate=0.2, colsample_bytree=0.9, colsample_bylevel=0.2, score=-22.012, total= 1.1min\n",
      "[CV] subsample=0.1, reg_lambda=0.7, reg_alpha=0.7, n_estimator=3, min_child_weight=7, max_depth=12, learning_rate=0.2, colsample_bytree=0.9, colsample_bylevel=0.2 \n",
      "[15:01:03] WARNING: /Users/travis/build/dmlc/xgboost/src/learner.cc:480: \n",
      "Parameters: { n_estimator } might not be used.\n",
      "\n",
      "  This may not be accurate due to some parameters are only used in language bindings but\n",
      "  passed down to XGBoost core.  Or some parameters are not used but slip through this\n",
      "  verification. Please open an issue if you find above cases.\n",
      "\n",
      "\n",
      "[CV]  subsample=0.1, reg_lambda=0.7, reg_alpha=0.7, n_estimator=3, min_child_weight=7, max_depth=12, learning_rate=0.2, colsample_bytree=0.9, colsample_bylevel=0.2, score=-22.097, total= 1.1min\n",
      "[CV] subsample=0.1, reg_lambda=0.7, reg_alpha=0.7, n_estimator=3, min_child_weight=7, max_depth=12, learning_rate=0.2, colsample_bytree=0.9, colsample_bylevel=0.2 \n",
      "[15:02:07] WARNING: /Users/travis/build/dmlc/xgboost/src/learner.cc:480: \n",
      "Parameters: { n_estimator } might not be used.\n",
      "\n",
      "  This may not be accurate due to some parameters are only used in language bindings but\n",
      "  passed down to XGBoost core.  Or some parameters are not used but slip through this\n",
      "  verification. Please open an issue if you find above cases.\n",
      "\n",
      "\n",
      "[CV]  subsample=0.1, reg_lambda=0.7, reg_alpha=0.7, n_estimator=3, min_child_weight=7, max_depth=12, learning_rate=0.2, colsample_bytree=0.9, colsample_bylevel=0.2, score=-22.050, total= 1.1min\n",
      "[CV] subsample=0.1, reg_lambda=0.7, reg_alpha=0.7, n_estimator=3, min_child_weight=7, max_depth=12, learning_rate=0.2, colsample_bytree=0.9, colsample_bylevel=0.2 \n",
      "[15:03:12] WARNING: /Users/travis/build/dmlc/xgboost/src/learner.cc:480: \n",
      "Parameters: { n_estimator } might not be used.\n",
      "\n",
      "  This may not be accurate due to some parameters are only used in language bindings but\n",
      "  passed down to XGBoost core.  Or some parameters are not used but slip through this\n",
      "  verification. Please open an issue if you find above cases.\n",
      "\n",
      "\n",
      "[CV]  subsample=0.1, reg_lambda=0.7, reg_alpha=0.7, n_estimator=3, min_child_weight=7, max_depth=12, learning_rate=0.2, colsample_bytree=0.9, colsample_bylevel=0.2, score=-22.042, total= 1.1min\n",
      "[CV] subsample=0.5, reg_lambda=0.5, reg_alpha=0.7, n_estimator=3, min_child_weight=7, max_depth=10, learning_rate=0.2, colsample_bytree=0.6, colsample_bylevel=0.1 \n",
      "[15:04:16] WARNING: /Users/travis/build/dmlc/xgboost/src/learner.cc:480: \n",
      "Parameters: { n_estimator } might not be used.\n",
      "\n",
      "  This may not be accurate due to some parameters are only used in language bindings but\n",
      "  passed down to XGBoost core.  Or some parameters are not used but slip through this\n",
      "  verification. Please open an issue if you find above cases.\n",
      "\n",
      "\n",
      "[CV]  subsample=0.5, reg_lambda=0.5, reg_alpha=0.7, n_estimator=3, min_child_weight=7, max_depth=10, learning_rate=0.2, colsample_bytree=0.6, colsample_bylevel=0.1, score=-21.654, total=  52.7s\n",
      "[CV] subsample=0.5, reg_lambda=0.5, reg_alpha=0.7, n_estimator=3, min_child_weight=7, max_depth=10, learning_rate=0.2, colsample_bytree=0.6, colsample_bylevel=0.1 \n",
      "[15:05:09] WARNING: /Users/travis/build/dmlc/xgboost/src/learner.cc:480: \n",
      "Parameters: { n_estimator } might not be used.\n",
      "\n",
      "  This may not be accurate due to some parameters are only used in language bindings but\n",
      "  passed down to XGBoost core.  Or some parameters are not used but slip through this\n",
      "  verification. Please open an issue if you find above cases.\n",
      "\n",
      "\n",
      "[CV]  subsample=0.5, reg_lambda=0.5, reg_alpha=0.7, n_estimator=3, min_child_weight=7, max_depth=10, learning_rate=0.2, colsample_bytree=0.6, colsample_bylevel=0.1, score=-21.600, total=  53.0s\n",
      "[CV] subsample=0.5, reg_lambda=0.5, reg_alpha=0.7, n_estimator=3, min_child_weight=7, max_depth=10, learning_rate=0.2, colsample_bytree=0.6, colsample_bylevel=0.1 \n",
      "[15:06:03] WARNING: /Users/travis/build/dmlc/xgboost/src/learner.cc:480: \n",
      "Parameters: { n_estimator } might not be used.\n",
      "\n",
      "  This may not be accurate due to some parameters are only used in language bindings but\n",
      "  passed down to XGBoost core.  Or some parameters are not used but slip through this\n",
      "  verification. Please open an issue if you find above cases.\n",
      "\n",
      "\n",
      "[CV]  subsample=0.5, reg_lambda=0.5, reg_alpha=0.7, n_estimator=3, min_child_weight=7, max_depth=10, learning_rate=0.2, colsample_bytree=0.6, colsample_bylevel=0.1, score=-21.731, total=  53.6s\n",
      "[CV] subsample=0.5, reg_lambda=0.5, reg_alpha=0.7, n_estimator=3, min_child_weight=7, max_depth=10, learning_rate=0.2, colsample_bytree=0.6, colsample_bylevel=0.1 \n",
      "[15:06:56] WARNING: /Users/travis/build/dmlc/xgboost/src/learner.cc:480: \n",
      "Parameters: { n_estimator } might not be used.\n",
      "\n",
      "  This may not be accurate due to some parameters are only used in language bindings but\n",
      "  passed down to XGBoost core.  Or some parameters are not used but slip through this\n",
      "  verification. Please open an issue if you find above cases.\n",
      "\n",
      "\n",
      "[CV]  subsample=0.5, reg_lambda=0.5, reg_alpha=0.7, n_estimator=3, min_child_weight=7, max_depth=10, learning_rate=0.2, colsample_bytree=0.6, colsample_bylevel=0.1, score=-21.567, total=  52.5s\n",
      "[CV] subsample=0.5, reg_lambda=0.5, reg_alpha=0.7, n_estimator=3, min_child_weight=7, max_depth=10, learning_rate=0.2, colsample_bytree=0.6, colsample_bylevel=0.1 \n",
      "[15:07:49] WARNING: /Users/travis/build/dmlc/xgboost/src/learner.cc:480: \n",
      "Parameters: { n_estimator } might not be used.\n",
      "\n",
      "  This may not be accurate due to some parameters are only used in language bindings but\n",
      "  passed down to XGBoost core.  Or some parameters are not used but slip through this\n",
      "  verification. Please open an issue if you find above cases.\n",
      "\n",
      "\n",
      "[CV]  subsample=0.5, reg_lambda=0.5, reg_alpha=0.7, n_estimator=3, min_child_weight=7, max_depth=10, learning_rate=0.2, colsample_bytree=0.6, colsample_bylevel=0.1, score=-21.602, total=  52.7s\n",
      "[CV] subsample=0.1, reg_lambda=0.6, reg_alpha=0.9, n_estimator=10, min_child_weight=1, max_depth=7, learning_rate=0.05, colsample_bytree=0.6, colsample_bylevel=0.6 \n",
      "[15:08:41] WARNING: /Users/travis/build/dmlc/xgboost/src/learner.cc:480: \n",
      "Parameters: { n_estimator } might not be used.\n",
      "\n",
      "  This may not be accurate due to some parameters are only used in language bindings but\n",
      "  passed down to XGBoost core.  Or some parameters are not used but slip through this\n",
      "  verification. Please open an issue if you find above cases.\n",
      "\n",
      "\n",
      "[CV]  subsample=0.1, reg_lambda=0.6, reg_alpha=0.9, n_estimator=10, min_child_weight=1, max_depth=7, learning_rate=0.05, colsample_bytree=0.6, colsample_bylevel=0.6, score=-22.114, total= 1.1min\n",
      "[CV] subsample=0.1, reg_lambda=0.6, reg_alpha=0.9, n_estimator=10, min_child_weight=1, max_depth=7, learning_rate=0.05, colsample_bytree=0.6, colsample_bylevel=0.6 \n",
      "[15:09:49] WARNING: /Users/travis/build/dmlc/xgboost/src/learner.cc:480: \n",
      "Parameters: { n_estimator } might not be used.\n",
      "\n",
      "  This may not be accurate due to some parameters are only used in language bindings but\n",
      "  passed down to XGBoost core.  Or some parameters are not used but slip through this\n",
      "  verification. Please open an issue if you find above cases.\n",
      "\n",
      "\n",
      "[CV]  subsample=0.1, reg_lambda=0.6, reg_alpha=0.9, n_estimator=10, min_child_weight=1, max_depth=7, learning_rate=0.05, colsample_bytree=0.6, colsample_bylevel=0.6, score=-22.097, total= 1.1min\n",
      "[CV] subsample=0.1, reg_lambda=0.6, reg_alpha=0.9, n_estimator=10, min_child_weight=1, max_depth=7, learning_rate=0.05, colsample_bytree=0.6, colsample_bylevel=0.6 \n",
      "[15:10:58] WARNING: /Users/travis/build/dmlc/xgboost/src/learner.cc:480: \n",
      "Parameters: { n_estimator } might not be used.\n",
      "\n",
      "  This may not be accurate due to some parameters are only used in language bindings but\n",
      "  passed down to XGBoost core.  Or some parameters are not used but slip through this\n",
      "  verification. Please open an issue if you find above cases.\n",
      "\n",
      "\n",
      "[CV]  subsample=0.1, reg_lambda=0.6, reg_alpha=0.9, n_estimator=10, min_child_weight=1, max_depth=7, learning_rate=0.05, colsample_bytree=0.6, colsample_bylevel=0.6, score=-22.199, total= 1.1min\n",
      "[CV] subsample=0.1, reg_lambda=0.6, reg_alpha=0.9, n_estimator=10, min_child_weight=1, max_depth=7, learning_rate=0.05, colsample_bytree=0.6, colsample_bylevel=0.6 \n",
      "[15:12:06] WARNING: /Users/travis/build/dmlc/xgboost/src/learner.cc:480: \n",
      "Parameters: { n_estimator } might not be used.\n",
      "\n",
      "  This may not be accurate due to some parameters are only used in language bindings but\n",
      "  passed down to XGBoost core.  Or some parameters are not used but slip through this\n",
      "  verification. Please open an issue if you find above cases.\n",
      "\n",
      "\n",
      "[CV]  subsample=0.1, reg_lambda=0.6, reg_alpha=0.9, n_estimator=10, min_child_weight=1, max_depth=7, learning_rate=0.05, colsample_bytree=0.6, colsample_bylevel=0.6, score=-22.088, total= 1.1min\n",
      "[CV] subsample=0.1, reg_lambda=0.6, reg_alpha=0.9, n_estimator=10, min_child_weight=1, max_depth=7, learning_rate=0.05, colsample_bytree=0.6, colsample_bylevel=0.6 \n",
      "[15:13:13] WARNING: /Users/travis/build/dmlc/xgboost/src/learner.cc:480: \n",
      "Parameters: { n_estimator } might not be used.\n",
      "\n",
      "  This may not be accurate due to some parameters are only used in language bindings but\n",
      "  passed down to XGBoost core.  Or some parameters are not used but slip through this\n",
      "  verification. Please open an issue if you find above cases.\n",
      "\n",
      "\n",
      "[CV]  subsample=0.1, reg_lambda=0.6, reg_alpha=0.9, n_estimator=10, min_child_weight=1, max_depth=7, learning_rate=0.05, colsample_bytree=0.6, colsample_bylevel=0.6, score=-22.097, total= 1.1min\n",
      "[CV] subsample=0.1, reg_lambda=0.9, reg_alpha=0.4, n_estimator=5, min_child_weight=1, max_depth=5, learning_rate=0.3, colsample_bytree=0.4, colsample_bylevel=0.5 \n",
      "[15:14:20] WARNING: /Users/travis/build/dmlc/xgboost/src/learner.cc:480: \n",
      "Parameters: { n_estimator } might not be used.\n",
      "\n",
      "  This may not be accurate due to some parameters are only used in language bindings but\n",
      "  passed down to XGBoost core.  Or some parameters are not used but slip through this\n",
      "  verification. Please open an issue if you find above cases.\n",
      "\n",
      "\n",
      "[CV]  subsample=0.1, reg_lambda=0.9, reg_alpha=0.4, n_estimator=5, min_child_weight=1, max_depth=5, learning_rate=0.3, colsample_bytree=0.4, colsample_bylevel=0.5, score=-22.176, total=  40.8s\n",
      "[CV] subsample=0.1, reg_lambda=0.9, reg_alpha=0.4, n_estimator=5, min_child_weight=1, max_depth=5, learning_rate=0.3, colsample_bytree=0.4, colsample_bylevel=0.5 \n",
      "[15:15:01] WARNING: /Users/travis/build/dmlc/xgboost/src/learner.cc:480: \n",
      "Parameters: { n_estimator } might not be used.\n",
      "\n",
      "  This may not be accurate due to some parameters are only used in language bindings but\n",
      "  passed down to XGBoost core.  Or some parameters are not used but slip through this\n",
      "  verification. Please open an issue if you find above cases.\n",
      "\n",
      "\n",
      "[CV]  subsample=0.1, reg_lambda=0.9, reg_alpha=0.4, n_estimator=5, min_child_weight=1, max_depth=5, learning_rate=0.3, colsample_bytree=0.4, colsample_bylevel=0.5, score=-22.158, total=  40.5s\n",
      "[CV] subsample=0.1, reg_lambda=0.9, reg_alpha=0.4, n_estimator=5, min_child_weight=1, max_depth=5, learning_rate=0.3, colsample_bytree=0.4, colsample_bylevel=0.5 \n",
      "[15:15:42] WARNING: /Users/travis/build/dmlc/xgboost/src/learner.cc:480: \n",
      "Parameters: { n_estimator } might not be used.\n",
      "\n",
      "  This may not be accurate due to some parameters are only used in language bindings but\n",
      "  passed down to XGBoost core.  Or some parameters are not used but slip through this\n",
      "  verification. Please open an issue if you find above cases.\n",
      "\n",
      "\n",
      "[CV]  subsample=0.1, reg_lambda=0.9, reg_alpha=0.4, n_estimator=5, min_child_weight=1, max_depth=5, learning_rate=0.3, colsample_bytree=0.4, colsample_bylevel=0.5, score=-22.225, total=  41.0s\n",
      "[CV] subsample=0.1, reg_lambda=0.9, reg_alpha=0.4, n_estimator=5, min_child_weight=1, max_depth=5, learning_rate=0.3, colsample_bytree=0.4, colsample_bylevel=0.5 \n",
      "[15:16:23] WARNING: /Users/travis/build/dmlc/xgboost/src/learner.cc:480: \n",
      "Parameters: { n_estimator } might not be used.\n",
      "\n",
      "  This may not be accurate due to some parameters are only used in language bindings but\n",
      "  passed down to XGBoost core.  Or some parameters are not used but slip through this\n",
      "  verification. Please open an issue if you find above cases.\n",
      "\n",
      "\n",
      "[CV]  subsample=0.1, reg_lambda=0.9, reg_alpha=0.4, n_estimator=5, min_child_weight=1, max_depth=5, learning_rate=0.3, colsample_bytree=0.4, colsample_bylevel=0.5, score=-22.101, total=  41.1s\n",
      "[CV] subsample=0.1, reg_lambda=0.9, reg_alpha=0.4, n_estimator=5, min_child_weight=1, max_depth=5, learning_rate=0.3, colsample_bytree=0.4, colsample_bylevel=0.5 \n",
      "[15:17:05] WARNING: /Users/travis/build/dmlc/xgboost/src/learner.cc:480: \n",
      "Parameters: { n_estimator } might not be used.\n",
      "\n",
      "  This may not be accurate due to some parameters are only used in language bindings but\n",
      "  passed down to XGBoost core.  Or some parameters are not used but slip through this\n",
      "  verification. Please open an issue if you find above cases.\n",
      "\n",
      "\n",
      "[CV]  subsample=0.1, reg_lambda=0.9, reg_alpha=0.4, n_estimator=5, min_child_weight=1, max_depth=5, learning_rate=0.3, colsample_bytree=0.4, colsample_bylevel=0.5, score=-22.123, total=  41.7s\n",
      "[CV] subsample=0.7, reg_lambda=0.7, reg_alpha=0.9, n_estimator=7, min_child_weight=5, max_depth=10, learning_rate=0.3, colsample_bytree=0.7, colsample_bylevel=0.4 \n",
      "[15:17:47] WARNING: /Users/travis/build/dmlc/xgboost/src/learner.cc:480: \n",
      "Parameters: { n_estimator } might not be used.\n",
      "\n",
      "  This may not be accurate due to some parameters are only used in language bindings but\n",
      "  passed down to XGBoost core.  Or some parameters are not used but slip through this\n",
      "  verification. Please open an issue if you find above cases.\n",
      "\n",
      "\n",
      "[CV]  subsample=0.7, reg_lambda=0.7, reg_alpha=0.9, n_estimator=7, min_child_weight=5, max_depth=10, learning_rate=0.3, colsample_bytree=0.7, colsample_bylevel=0.4, score=-21.528, total= 2.4min\n",
      "[CV] subsample=0.7, reg_lambda=0.7, reg_alpha=0.9, n_estimator=7, min_child_weight=5, max_depth=10, learning_rate=0.3, colsample_bytree=0.7, colsample_bylevel=0.4 \n",
      "[15:20:10] WARNING: /Users/travis/build/dmlc/xgboost/src/learner.cc:480: \n",
      "Parameters: { n_estimator } might not be used.\n",
      "\n",
      "  This may not be accurate due to some parameters are only used in language bindings but\n",
      "  passed down to XGBoost core.  Or some parameters are not used but slip through this\n",
      "  verification. Please open an issue if you find above cases.\n",
      "\n",
      "\n",
      "[CV]  subsample=0.7, reg_lambda=0.7, reg_alpha=0.9, n_estimator=7, min_child_weight=5, max_depth=10, learning_rate=0.3, colsample_bytree=0.7, colsample_bylevel=0.4, score=-21.496, total= 2.4min\n",
      "[CV] subsample=0.7, reg_lambda=0.7, reg_alpha=0.9, n_estimator=7, min_child_weight=5, max_depth=10, learning_rate=0.3, colsample_bytree=0.7, colsample_bylevel=0.4 \n",
      "[15:22:33] WARNING: /Users/travis/build/dmlc/xgboost/src/learner.cc:480: \n",
      "Parameters: { n_estimator } might not be used.\n",
      "\n",
      "  This may not be accurate due to some parameters are only used in language bindings but\n",
      "  passed down to XGBoost core.  Or some parameters are not used but slip through this\n",
      "  verification. Please open an issue if you find above cases.\n",
      "\n",
      "\n",
      "[CV]  subsample=0.7, reg_lambda=0.7, reg_alpha=0.9, n_estimator=7, min_child_weight=5, max_depth=10, learning_rate=0.3, colsample_bytree=0.7, colsample_bylevel=0.4, score=-21.597, total= 2.4min\n",
      "[CV] subsample=0.7, reg_lambda=0.7, reg_alpha=0.9, n_estimator=7, min_child_weight=5, max_depth=10, learning_rate=0.3, colsample_bytree=0.7, colsample_bylevel=0.4 \n",
      "[15:24:55] WARNING: /Users/travis/build/dmlc/xgboost/src/learner.cc:480: \n",
      "Parameters: { n_estimator } might not be used.\n",
      "\n",
      "  This may not be accurate due to some parameters are only used in language bindings but\n",
      "  passed down to XGBoost core.  Or some parameters are not used but slip through this\n",
      "  verification. Please open an issue if you find above cases.\n",
      "\n",
      "\n",
      "[CV]  subsample=0.7, reg_lambda=0.7, reg_alpha=0.9, n_estimator=7, min_child_weight=5, max_depth=10, learning_rate=0.3, colsample_bytree=0.7, colsample_bylevel=0.4, score=-21.392, total= 2.3min\n",
      "[CV] subsample=0.7, reg_lambda=0.7, reg_alpha=0.9, n_estimator=7, min_child_weight=5, max_depth=10, learning_rate=0.3, colsample_bytree=0.7, colsample_bylevel=0.4 \n",
      "[15:27:16] WARNING: /Users/travis/build/dmlc/xgboost/src/learner.cc:480: \n",
      "Parameters: { n_estimator } might not be used.\n",
      "\n",
      "  This may not be accurate due to some parameters are only used in language bindings but\n",
      "  passed down to XGBoost core.  Or some parameters are not used but slip through this\n",
      "  verification. Please open an issue if you find above cases.\n",
      "\n",
      "\n",
      "[CV]  subsample=0.7, reg_lambda=0.7, reg_alpha=0.9, n_estimator=7, min_child_weight=5, max_depth=10, learning_rate=0.3, colsample_bytree=0.7, colsample_bylevel=0.4, score=-21.512, total= 2.4min\n"
     ]
    },
    {
     "name": "stderr",
     "output_type": "stream",
     "text": [
      "[Parallel(n_jobs=1)]: Done 100 out of 100 | elapsed: 150.3min finished\n"
     ]
    },
    {
     "name": "stdout",
     "output_type": "stream",
     "text": [
      "[15:29:39] WARNING: /Users/travis/build/dmlc/xgboost/src/learner.cc:480: \n",
      "Parameters: { n_estimator } might not be used.\n",
      "\n",
      "  This may not be accurate due to some parameters are only used in language bindings but\n",
      "  passed down to XGBoost core.  Or some parameters are not used but slip through this\n",
      "  verification. Please open an issue if you find above cases.\n",
      "\n",
      "\n"
     ]
    },
    {
     "data": {
      "text/plain": [
       "RandomizedSearchCV(cv=5,\n",
       "                   estimator=XGBRegressor(base_score=None, booster=None,\n",
       "                                          colsample_bylevel=None,\n",
       "                                          colsample_bynode=None,\n",
       "                                          colsample_bytree=None, gamma=None,\n",
       "                                          gpu_id=None, importance_type='gain',\n",
       "                                          interaction_constraints=None,\n",
       "                                          learning_rate=None,\n",
       "                                          max_delta_step=None, max_depth=None,\n",
       "                                          min_child_weight=None, missing=nan,\n",
       "                                          monotone_constraints=None,\n",
       "                                          n_estimators=100, n...\n",
       "                                                             0.5, 0.6, 0.7, 0.8,\n",
       "                                                             0.9],\n",
       "                                        'learning_rate': [0.05, 0.1, 0.15, 0.2,\n",
       "                                                          0.25, 0.3],\n",
       "                                        'max_depth': [3, 4, 5, 6, 7, 8, 10, 12,\n",
       "                                                      15],\n",
       "                                        'min_child_weight': [1, 3, 5, 7],\n",
       "                                        'n_estimator': [3, 5, 7, 10],\n",
       "                                        'reg_alpha': [0.1, 0.2, 0.3, 0.4, 0.5,\n",
       "                                                      0.6, 0.7, 0.8, 0.9],\n",
       "                                        'reg_lambda': [0.1, 0.2, 0.3, 0.4, 0.5,\n",
       "                                                       0.6, 0.7, 0.8, 0.9],\n",
       "                                        'subsample': [0.1, 0.2, 0.3, 0.4, 0.5,\n",
       "                                                      0.6, 0.7, 0.8, 0.9]},\n",
       "                   scoring='neg_mean_squared_error', verbose=3)"
      ]
     },
     "execution_count": 151,
     "metadata": {},
     "output_type": "execute_result"
    }
   ],
   "source": [
    "params = {'colsample_bytree': [0.1,0.2,0.3,0.4,0.5,0.6,0.7,0.8,0.9],\n",
    "          'subsample': [0.1,0.2,0.3,0.4,0.5,0.6,0.7,0.8,0.9],\n",
    "          'colsample_bylevel':[0.1,0.2,0.3,0.4,0.5,0.6,0.7,0.8,0.9],\n",
    "          'min_child_weight':[1,3,5,7] ,\n",
    "          'reg_lambda':[0.1,0.2,0.3,0.4,0.5,0.6,0.7,0.8,0.9],\n",
    "          'n_estimator':[3,5,7,10],\n",
    "          'learning_rate': [0.05,0.1,0.15,0.2,0.25,0.3],\n",
    "          'max_depth': [3,4,5,6,7,8,10,12,15], \n",
    "          'reg_alpha': [0.1,0.2,0.3,0.4,0.5,0.6,0.7,0.8,0.9]\n",
    "         }\n",
    "\n",
    "from sklearn.model_selection import RandomizedSearchCV, GridSearchCV\n",
    "xg_reg = xgb.XGBRegressor(objective ='reg:squarederror')\n",
    "#scoring='r2'\n",
    "scoring='neg_mean_squared_error'\n",
    "random_search=RandomizedSearchCV(xg_reg,param_distributions=params,scoring=scoring,n_iter=20,cv=5,verbose=3)\n",
    "\n",
    "random_search.fit(X_train,y_train)\n"
   ]
  },
  {
   "cell_type": "code",
   "execution_count": 152,
   "metadata": {},
   "outputs": [
    {
     "data": {
      "text/plain": [
       "{'subsample': 0.9,\n",
       " 'reg_lambda': 0.8,\n",
       " 'reg_alpha': 0.1,\n",
       " 'n_estimator': 3,\n",
       " 'min_child_weight': 5,\n",
       " 'max_depth': 12,\n",
       " 'learning_rate': 0.15,\n",
       " 'colsample_bytree': 0.5,\n",
       " 'colsample_bylevel': 0.3}"
      ]
     },
     "execution_count": 152,
     "metadata": {},
     "output_type": "execute_result"
    }
   ],
   "source": [
    "random_search.best_params_"
   ]
  },
  {
   "cell_type": "code",
   "execution_count": 153,
   "metadata": {},
   "outputs": [],
   "source": [
    "#best model based on the output of random_search.best_estimator_\n",
    "best_gb=xgb.XGBRegressor(base_score=0.5, booster='gbtree', colsample_bylevel=0.9,\n",
    "             colsample_bynode=1, colsample_bytree=0.8, gamma=0,\n",
    "             importance_type='gain', interaction_constraints='',\n",
    "             learning_rate=0.1, max_delta_step=0, max_depth=12,\n",
    "             min_child_weight =7, missing=np.nan,\n",
    "              n_estimator=3, n_estimators=100,\n",
    "             n_jobs=0, num_parallel_tree=1, objective='reg:squarederror',\n",
    "             random_state=0, reg_alpha=0.5, reg_lambda=0.3, scale_pos_weight=1,\n",
    "             subsample=0.2, tree_method='exact', validate_parameters=1,\n",
    "             verbosity=0)"
   ]
  },
  {
   "cell_type": "code",
   "execution_count": 154,
   "metadata": {},
   "outputs": [],
   "source": [
    "from sklearn.model_selection import cross_val_score as cvs\n",
    "score=cvs(best_gb,X_train,y_train,cv=2,scoring='r2')\n"
   ]
  },
  {
   "cell_type": "code",
   "execution_count": 155,
   "metadata": {},
   "outputs": [
    {
     "data": {
      "text/plain": [
       "array([0.1887955 , 0.18992373])"
      ]
     },
     "execution_count": 155,
     "metadata": {},
     "output_type": "execute_result"
    }
   ],
   "source": [
    "score"
   ]
  },
  {
   "cell_type": "code",
   "execution_count": 156,
   "metadata": {},
   "outputs": [
    {
     "data": {
      "text/plain": [
       "0.18935961073841756"
      ]
     },
     "execution_count": 156,
     "metadata": {},
     "output_type": "execute_result"
    }
   ],
   "source": [
    "score.mean()"
   ]
  },
  {
   "cell_type": "code",
   "execution_count": 157,
   "metadata": {},
   "outputs": [
    {
     "name": "stdout",
     "output_type": "stream",
     "text": [
      "RMSE: 4.630097\n"
     ]
    }
   ],
   "source": [
    "best_gb.fit(X_train,y_train)\n",
    "preds = best_gb.predict(X_test)\n",
    "rmse = np.sqrt(mean_squared_error(y_test, preds))\n",
    "print(\"RMSE: %f\" % (rmse))"
   ]
  },
  {
   "cell_type": "code",
   "execution_count": 158,
   "metadata": {},
   "outputs": [
    {
     "name": "stdout",
     "output_type": "stream",
     "text": [
      "RMSE: 4.63, R2: 0.20\n"
     ]
    }
   ],
   "source": [
    "from sklearn.metrics import r2_score\n",
    "rmse = np.sqrt(mean_squared_error(y_test, preds))\n",
    "r2=r2_score(y_test,preds)\n",
    "print(\"RMSE: %.2f, R2: %.2f\" % (rmse,r2))"
   ]
  },
  {
   "cell_type": "code",
   "execution_count": null,
   "metadata": {},
   "outputs": [],
   "source": []
  }
 ],
 "metadata": {
  "kernelspec": {
   "display_name": "Python 3",
   "language": "python",
   "name": "python3"
  },
  "language_info": {
   "codemirror_mode": {
    "name": "ipython",
    "version": 3
   },
   "file_extension": ".py",
   "mimetype": "text/x-python",
   "name": "python",
   "nbconvert_exporter": "python",
   "pygments_lexer": "ipython3",
   "version": "3.7.3"
  }
 },
 "nbformat": 4,
 "nbformat_minor": 2
}

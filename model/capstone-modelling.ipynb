{
 "cells": [
  {
   "cell_type": "code",
   "execution_count": 1,
   "metadata": {},
   "outputs": [],
   "source": [
    "import pandas as pd"
   ]
  },
  {
   "cell_type": "code",
   "execution_count": 443,
   "metadata": {},
   "outputs": [],
   "source": [
    "#filename = 'D:\\\\Backup\\\\ISB CBA\\\\Capstone\\\\summary data\\\\ethos_transaction_summary_23-05-2020.csv'\n",
    "\n",
    "#data=pd.read_csv(filename)\n",
    "#d={'quantity':'count','sales_quantity':'sum','purchase_quantity':'sum','transfer_quantity':'sum'}\n",
    "#chunksize = 10 ** 5\n",
    "#rows=0\n",
    "#df = pd.DataFrame()\n",
    "#for chunk in pd.read_csv(filename, chunksize=chunksize):\n",
    "# \n",
    "#    a=chunk.fillna(0).groupby(['region']).agg(d)\n",
    "#    df=df.add(a, fill_value=0)\n",
    "#    \n",
    "#    rows+=chunk.shape[0]\n",
    "#    print (rows)"
   ]
  },
  {
   "cell_type": "code",
   "execution_count": 2,
   "metadata": {},
   "outputs": [],
   "source": [
    "filename = 'D:\\\\Backup\\\\ISB CBA\\\\Capstone\\\\summary data\\\\ethos_transaction_summary_23-05-2020.csv'\n",
    "\n",
    "data=pd.read_csv(filename)\n",
    "d={'quantity':'count','sales_quantity':'sum','purchase_quantity':'sum','transfer_quantity':'sum'}\n",
    "chunksize = 10 ** 5\n",
    "rows=0\n",
    "df_north = pd.DataFrame()\n",
    "for chunk in pd.read_csv(filename, chunksize=chunksize):\n",
    " \n",
    "    n=chunk[chunk['region']=='North']\n",
    "    df_north=pd.concat([df_north,n])\n",
    "    rows+=chunk.shape[0]\n",
    "    #print (rows)"
   ]
  },
  {
   "cell_type": "code",
   "execution_count": 4,
   "metadata": {},
   "outputs": [],
   "source": [
    "#df.loc['Total']= df.sum()\n",
    "#df.to_excel('D:\\\\Backup\\\\ISB CBA\\\\Capstone\\\\state.xlsx')\n",
    "#chunk.to_csv('D:\\\\Backup\\\\ISB CBA\\\\Capstone\\\\chunk.csv')"
   ]
  },
  {
   "cell_type": "code",
   "execution_count": 3,
   "metadata": {},
   "outputs": [
    {
     "data": {
      "text/plain": [
       "(2408346, 50)"
      ]
     },
     "execution_count": 3,
     "metadata": {},
     "output_type": "execute_result"
    }
   ],
   "source": [
    "df_north.shape"
   ]
  },
  {
   "cell_type": "code",
   "execution_count": 4,
   "metadata": {},
   "outputs": [],
   "source": [
    "#d={'quantity':'count','sales_quantity':'sum','purchase_quantity':'sum','transfer_quantity':'sum'}\n",
    "#state=df_north.fillna(0).groupby(['state']).agg(d)\n",
    "#state.loc['Total']=state.sum()\n",
    "#state"
   ]
  },
  {
   "cell_type": "code",
   "execution_count": 5,
   "metadata": {},
   "outputs": [
    {
     "data": {
      "text/plain": [
       "Index(['location_code', 'item_no', 'week', 'closing_date', 'brand',\n",
       "       'department', 'quantity', 'purchase_quantity', 'transfer_quantity',\n",
       "       'sales_quantity', 'purchase_cost_amount', 'purchase_mrp',\n",
       "       'purchase_date', 'stock_prevailing_mrp', 'state', 'region', 'store_in',\n",
       "       'product_group_code', 'transfer_cost_amount', 'transfer_mrp',\n",
       "       'sales_department', 'days_to_sell', 'num_of_customers', 'sales_price',\n",
       "       'total_price', 'line_discount', 'crm_line_discount', 'discount', 'tax',\n",
       "       'cost', 'billing', 'contribution', 'trade_incentive',\n",
       "       'trade_incentive_value', 'total_contribution', 'store_type',\n",
       "       'store_location', 'city_type', 'case_size', 'case_size_range', 'gender',\n",
       "       'movement', 'material', 'dial_color', 'strap_type', 'strap_color',\n",
       "       'precious_stone', 'glass', 'case_shape', 'watch_type'],\n",
       "      dtype='object')"
      ]
     },
     "execution_count": 5,
     "metadata": {},
     "output_type": "execute_result"
    }
   ],
   "source": [
    "df_north.columns"
   ]
  },
  {
   "cell_type": "code",
   "execution_count": 6,
   "metadata": {},
   "outputs": [],
   "source": [
    "df_north['available']=df_north.fillna(0)['quantity']+df_north.fillna(0)['purchase_quantity']+df_north.fillna(0)['transfer_quantity']\n",
    "df_north['week_no'] = df_north['week'].str.slice(0, 3)\n",
    "df_north['year'] = df_north['week'].str.slice(4,)"
   ]
  },
  {
   "cell_type": "code",
   "execution_count": 7,
   "metadata": {},
   "outputs": [],
   "source": [
    "col=['location_code', 'item_no', 'brand','stock_prevailing_mrp', 'state', 'region','store_type',\n",
    "                       'store_location', 'city_type', 'case_size', 'case_size_range', 'gender',\n",
    "                        'movement', 'material', 'dial_color', 'strap_type', 'strap_color',\n",
    "                        'precious_stone', 'glass', 'case_shape', 'watch_type', 'available',\n",
    "                        'week_no', 'year','sales_quantity']\n",
    "\n",
    "df_north_final=df_north.loc[:,col]\n",
    "df_north_final.fillna(0, inplace=True)\n",
    "\n",
    "df_north_final['item_no']=df_north_final['item_no'].astype(str)\n",
    "df_north_final['case_size']=df_north_final['case_size'].astype(str)\n",
    "df_north_final['case_shape']=df_north_final['case_shape'].astype(str)"
   ]
  },
  {
   "cell_type": "code",
   "execution_count": 8,
   "metadata": {},
   "outputs": [],
   "source": [
    "#len(df_north_final['case_shape'].value_counts().index[13])\n",
    "#len(df_north_final['case_shape'].value_counts().index[2])\n",
    "#df_north_final['case_shape'][df_north_final['case_shape']=='0']"
   ]
  },
  {
   "cell_type": "code",
   "execution_count": 9,
   "metadata": {},
   "outputs": [],
   "source": [
    "def pareto(cols):\n",
    "    lst=[]\n",
    "    for col in cols:\n",
    "                \n",
    "        series=df_north_final.fillna(0).groupby([col]).agg({'stock_prevailing_mrp':'sum'}).sort_values('stock_prevailing_mrp',ascending=False)\n",
    "        mask=series.cumsum()/series.sum()>0.8 \n",
    "        #nos=mask.value_counts()[1]\n",
    "        mask=mask.iloc[:,0]\n",
    "        levels=len(df_north_final[col].unique())\n",
    "        if levels>=10:\n",
    "            df_north_final[col] = np.where(df_north_final[col].isin(series[mask].index),'Other',df_north_final[col])         \n",
    "        new_levels=len(df_north_final[col].unique())\n",
    "\n",
    "        freq=df_north_final[col].value_counts()/df_north_final[col].value_counts().sum()*100\n",
    "        freq=freq.round(2)\n",
    "\n",
    "        sale_qty=df_north_final.groupby([col]).agg({'sales_quantity':'sum'}).sort_values('sales_quantity',ascending=False)\n",
    "        sale_qty=sale_qty/sale_qty.sum()*100\n",
    "        sale_qty=sale_qty.round(2)\n",
    "        try:\n",
    "            Other_Sales_Qty=sale_qty['sales_quantity']['Other']\n",
    "        except:\n",
    "            Other_Sales_Qty=0\n",
    "        \n",
    "        mrp=df_north_final.groupby([col]).agg({'stock_prevailing_mrp':'sum'}).sort_values('stock_prevailing_mrp',ascending=False)\n",
    "        mrp=mrp/mrp.sum()*100\n",
    "        mrp=mrp.round(2)\n",
    "        try:\n",
    "            Other_MRP=mrp['stock_prevailing_mrp']['Other']\n",
    "        except:\n",
    "            Other_MRP=0\n",
    "        \n",
    "        #comparison=mrp.merge(sale_qty, left_index=True, right_index=True)\n",
    "        lst.append([col.upper(),levels, new_levels,Other_MRP,Other_Sales_Qty])\n",
    "        #print (\"%s-Originally %d levels,combined %d levels into 'Other'.New Levels %d.By MRP,Other is %2.1f and by sale qty others is %2.1f\"%(col.upper(),levels, levels-new_levels, new_levels,mrp['stock_prevailing_mrp']['Other'],sale_qty['sales_quantity']['Other']))\n",
    "    \n",
    "    cols=['Feature', 'Orig Levels', 'New Levels', 'Other%(MRP)', 'Other%(Sales Qty)']\n",
    "    df = pd.DataFrame(lst, columns=cols)\n",
    "    df=df.set_index(\"Feature\")\n",
    "    \n",
    "    return df"
   ]
  },
  {
   "cell_type": "code",
   "execution_count": 10,
   "metadata": {},
   "outputs": [
    {
     "data": {
      "text/html": [
       "<div>\n",
       "<style scoped>\n",
       "    .dataframe tbody tr th:only-of-type {\n",
       "        vertical-align: middle;\n",
       "    }\n",
       "\n",
       "    .dataframe tbody tr th {\n",
       "        vertical-align: top;\n",
       "    }\n",
       "\n",
       "    .dataframe thead th {\n",
       "        text-align: right;\n",
       "    }\n",
       "</style>\n",
       "<table border=\"1\" class=\"dataframe\">\n",
       "  <thead>\n",
       "    <tr style=\"text-align: right;\">\n",
       "      <th></th>\n",
       "      <th>Orig Levels</th>\n",
       "      <th>New Levels</th>\n",
       "      <th>Other%(MRP)</th>\n",
       "      <th>Other%(Sales Qty)</th>\n",
       "    </tr>\n",
       "    <tr>\n",
       "      <th>Feature</th>\n",
       "      <th></th>\n",
       "      <th></th>\n",
       "      <th></th>\n",
       "      <th></th>\n",
       "    </tr>\n",
       "  </thead>\n",
       "  <tbody>\n",
       "    <tr>\n",
       "      <td>BRAND</td>\n",
       "      <td>108</td>\n",
       "      <td>22</td>\n",
       "      <td>20.51</td>\n",
       "      <td>46.86</td>\n",
       "    </tr>\n",
       "    <tr>\n",
       "      <td>CASE_SIZE</td>\n",
       "      <td>313</td>\n",
       "      <td>20</td>\n",
       "      <td>20.82</td>\n",
       "      <td>20.03</td>\n",
       "    </tr>\n",
       "    <tr>\n",
       "      <td>CASE_SIZE_RANGE</td>\n",
       "      <td>14</td>\n",
       "      <td>6</td>\n",
       "      <td>22.10</td>\n",
       "      <td>28.57</td>\n",
       "    </tr>\n",
       "    <tr>\n",
       "      <td>GENDER</td>\n",
       "      <td>4</td>\n",
       "      <td>4</td>\n",
       "      <td>0.00</td>\n",
       "      <td>0.00</td>\n",
       "    </tr>\n",
       "    <tr>\n",
       "      <td>MATERIAL</td>\n",
       "      <td>96</td>\n",
       "      <td>7</td>\n",
       "      <td>22.15</td>\n",
       "      <td>19.05</td>\n",
       "    </tr>\n",
       "    <tr>\n",
       "      <td>DIAL_COLOR</td>\n",
       "      <td>62</td>\n",
       "      <td>6</td>\n",
       "      <td>22.64</td>\n",
       "      <td>20.08</td>\n",
       "    </tr>\n",
       "    <tr>\n",
       "      <td>STRAP_TYPE</td>\n",
       "      <td>91</td>\n",
       "      <td>7</td>\n",
       "      <td>22.15</td>\n",
       "      <td>19.94</td>\n",
       "    </tr>\n",
       "    <tr>\n",
       "      <td>STRAP_COLOR</td>\n",
       "      <td>59</td>\n",
       "      <td>6</td>\n",
       "      <td>24.68</td>\n",
       "      <td>34.81</td>\n",
       "    </tr>\n",
       "    <tr>\n",
       "      <td>PRECIOUS_STONE</td>\n",
       "      <td>9</td>\n",
       "      <td>9</td>\n",
       "      <td>0.00</td>\n",
       "      <td>0.00</td>\n",
       "    </tr>\n",
       "    <tr>\n",
       "      <td>GLASS</td>\n",
       "      <td>9</td>\n",
       "      <td>9</td>\n",
       "      <td>0.00</td>\n",
       "      <td>0.00</td>\n",
       "    </tr>\n",
       "    <tr>\n",
       "      <td>WATCH_TYPE</td>\n",
       "      <td>7</td>\n",
       "      <td>7</td>\n",
       "      <td>0.00</td>\n",
       "      <td>0.00</td>\n",
       "    </tr>\n",
       "  </tbody>\n",
       "</table>\n",
       "</div>"
      ],
      "text/plain": [
       "                 Orig Levels  New Levels  Other%(MRP)  Other%(Sales Qty)\n",
       "Feature                                                                 \n",
       "BRAND                    108          22        20.51              46.86\n",
       "CASE_SIZE                313          20        20.82              20.03\n",
       "CASE_SIZE_RANGE           14           6        22.10              28.57\n",
       "GENDER                     4           4         0.00               0.00\n",
       "MATERIAL                  96           7        22.15              19.05\n",
       "DIAL_COLOR                62           6        22.64              20.08\n",
       "STRAP_TYPE                91           7        22.15              19.94\n",
       "STRAP_COLOR               59           6        24.68              34.81\n",
       "PRECIOUS_STONE             9           9         0.00               0.00\n",
       "GLASS                      9           9         0.00               0.00\n",
       "WATCH_TYPE                 7           7         0.00               0.00"
      ]
     },
     "execution_count": 10,
     "metadata": {},
     "output_type": "execute_result"
    }
   ],
   "source": [
    "#not doing a pareto on case_shape and movement\n",
    "import numpy as np\n",
    "cols=['brand','case_size', 'case_size_range', 'gender', 'material', 'dial_color', 'strap_type', 'strap_color','precious_stone', 'glass', 'watch_type']\n",
    "pareto(cols)"
   ]
  },
  {
   "cell_type": "code",
   "execution_count": 11,
   "metadata": {},
   "outputs": [
    {
     "data": {
      "text/plain": [
       "Index(['location_code', 'item_no', 'brand', 'stock_prevailing_mrp', 'state',\n",
       "       'region', 'store_type', 'store_location', 'city_type', 'case_size',\n",
       "       'case_size_range', 'gender', 'movement', 'material', 'dial_color',\n",
       "       'strap_type', 'strap_color', 'precious_stone', 'glass', 'case_shape',\n",
       "       'watch_type', 'available', 'week_no', 'year', 'sales_quantity'],\n",
       "      dtype='object')"
      ]
     },
     "execution_count": 11,
     "metadata": {},
     "output_type": "execute_result"
    }
   ],
   "source": [
    "df_north_final.columns"
   ]
  },
  {
   "cell_type": "code",
   "execution_count": 12,
   "metadata": {},
   "outputs": [
    {
     "data": {
      "text/plain": [
       "ST03    803447\n",
       "ST02    501328\n",
       "ST19    337932\n",
       "ST13    253321\n",
       "ST07    222973\n",
       "ST15    171910\n",
       "ST24    117435\n",
       "Name: state, dtype: int64"
      ]
     },
     "execution_count": 12,
     "metadata": {},
     "output_type": "execute_result"
    }
   ],
   "source": [
    "df_north_final['state'].value_counts()"
   ]
  },
  {
   "cell_type": "code",
   "execution_count": 13,
   "metadata": {},
   "outputs": [],
   "source": [
    "df_st03=df_north_final[df_north_final['state']=='ST03']"
   ]
  },
  {
   "cell_type": "code",
   "execution_count": 14,
   "metadata": {},
   "outputs": [],
   "source": [
    "cols=['brand','state','region', 'store_type', 'store_location', 'city_type', 'case_size',\n",
    "       'case_size_range', 'gender', 'movement', 'material', 'dial_color',\n",
    "       'strap_type', 'strap_color', 'precious_stone', 'glass', 'case_shape',\n",
    "       'watch_type', 'week_no', 'year']\n",
    "df_north_dummies=pd.get_dummies(data=df_north_final, columns=cols)\n",
    "df_st03_dummies=pd.get_dummies(data=df_st03, columns=cols)"
   ]
  },
  {
   "cell_type": "code",
   "execution_count": 37,
   "metadata": {},
   "outputs": [
    {
     "data": {
      "text/plain": [
       "(803447, 199)"
      ]
     },
     "execution_count": 37,
     "metadata": {},
     "output_type": "execute_result"
    }
   ],
   "source": [
    "df_st03_dummies.shape"
   ]
  },
  {
   "cell_type": "code",
   "execution_count": 15,
   "metadata": {},
   "outputs": [],
   "source": [
    "#!pip install xgboost\n",
    "import xgboost as xgb\n",
    "from sklearn.metrics import mean_squared_error"
   ]
  },
  {
   "cell_type": "code",
   "execution_count": 17,
   "metadata": {},
   "outputs": [],
   "source": [
    "y=df_st03_dummies.loc[:, df_st03_dummies.columns == 'sales_quantity']\n",
    "X=df_st03_dummies.drop(columns =['sales_quantity','location_code','item_no'])"
   ]
  },
  {
   "cell_type": "code",
   "execution_count": 18,
   "metadata": {},
   "outputs": [
    {
     "data": {
      "text/plain": [
       "Index([], dtype='object')"
      ]
     },
     "execution_count": 18,
     "metadata": {},
     "output_type": "execute_result"
    }
   ],
   "source": [
    "#checking for duplicate column names\n",
    "duplicate_columns = df_north_dummies.columns[df_north_dummies.columns.duplicated()]\n",
    "duplicate_columns"
   ]
  },
  {
   "cell_type": "code",
   "execution_count": 19,
   "metadata": {},
   "outputs": [],
   "source": [
    "#X,y=df_north_dummies.loc[:, df_north_dummies.columns != ['sales_quantity','location_code','item_no']],df_north_dummies.loc[:, df_north_dummies.columns == 'sales_quantity']\n",
    "#X, y = df_north_final.iloc[:,:-1],df_north_final.iloc[:,-1]\n",
    "data_matrix = xgb.DMatrix(data=X,label=y)"
   ]
  },
  {
   "cell_type": "code",
   "execution_count": 20,
   "metadata": {},
   "outputs": [],
   "source": [
    "from sklearn.model_selection import train_test_split\n",
    "X_train, X_test, y_train, y_test = train_test_split(X, y, test_size=0.2, random_state=123)"
   ]
  },
  {
   "cell_type": "code",
   "execution_count": 21,
   "metadata": {},
   "outputs": [],
   "source": [
    "xg_reg = xgb.XGBRegressor(objective ='reg:linear', colsample_bytree = 0.3, learning_rate = 0.1,max_depth = 5, alpha = 10, n_estimators = 10)"
   ]
  },
  {
   "cell_type": "code",
   "execution_count": 22,
   "metadata": {},
   "outputs": [
    {
     "name": "stdout",
     "output_type": "stream",
     "text": [
      "[19:03:07] WARNING: C:/Users/Administrator/workspace/xgboost-win64_release_1.1.0/src/objective/regression_obj.cu:168: reg:linear is now deprecated in favor of reg:squarederror.\n",
      "[19:03:31] WARNING: C:/Users/Administrator/workspace/xgboost-win64_release_1.1.0/src/objective/regression_obj.cu:168: reg:linear is now deprecated in favor of reg:squarederror.\n"
     ]
    }
   ],
   "source": [
    "xg_reg.fit(X_train,y_train)\n",
    "preds = xg_reg.predict(X_test)"
   ]
  },
  {
   "cell_type": "code",
   "execution_count": 23,
   "metadata": {},
   "outputs": [
    {
     "name": "stdout",
     "output_type": "stream",
     "text": [
      "RMSE: 0.300432\n"
     ]
    }
   ],
   "source": [
    "rmse = np.sqrt(mean_squared_error(y_test, preds))\n",
    "print(\"RMSE: %f\" % (rmse))"
   ]
  },
  {
   "cell_type": "code",
   "execution_count": 26,
   "metadata": {},
   "outputs": [
    {
     "data": {
      "text/plain": [
       "-0.3635757083365503"
      ]
     },
     "execution_count": 26,
     "metadata": {},
     "output_type": "execute_result"
    }
   ],
   "source": [
    "from sklearn.metrics import r2_score\n",
    "r2_score(y_test,preds)"
   ]
  },
  {
   "cell_type": "code",
   "execution_count": 27,
   "metadata": {},
   "outputs": [
    {
     "name": "stdout",
     "output_type": "stream",
     "text": [
      "[19:04:43] WARNING: C:/Users/Administrator/workspace/xgboost-win64_release_1.1.0/src/objective/regression_obj.cu:168: reg:linear is now deprecated in favor of reg:squarederror.\n",
      "[19:04:46] WARNING: C:/Users/Administrator/workspace/xgboost-win64_release_1.1.0/src/objective/regression_obj.cu:168: reg:linear is now deprecated in favor of reg:squarederror.\n",
      "[19:04:51] WARNING: C:/Users/Administrator/workspace/xgboost-win64_release_1.1.0/src/objective/regression_obj.cu:168: reg:linear is now deprecated in favor of reg:squarederror.\n"
     ]
    }
   ],
   "source": [
    "params = {\"objective\":\"reg:linear\",'colsample_bytree': 0.3,'learning_rate': 0.1,\n",
    "                'max_depth': 5, 'alpha': 10}\n",
    "\n",
    "cv_results = xgb.cv(dtrain=data_matrix, params=params, nfold=3,\n",
    "                    num_boost_round=50,early_stopping_rounds=10,metrics=\"rmse\", as_pandas=True, seed=123)"
   ]
  },
  {
   "cell_type": "code",
   "execution_count": 28,
   "metadata": {},
   "outputs": [
    {
     "data": {
      "text/html": [
       "<div>\n",
       "<style scoped>\n",
       "    .dataframe tbody tr th:only-of-type {\n",
       "        vertical-align: middle;\n",
       "    }\n",
       "\n",
       "    .dataframe tbody tr th {\n",
       "        vertical-align: top;\n",
       "    }\n",
       "\n",
       "    .dataframe thead th {\n",
       "        text-align: right;\n",
       "    }\n",
       "</style>\n",
       "<table border=\"1\" class=\"dataframe\">\n",
       "  <thead>\n",
       "    <tr style=\"text-align: right;\">\n",
       "      <th></th>\n",
       "      <th>train-rmse-mean</th>\n",
       "      <th>train-rmse-std</th>\n",
       "      <th>test-rmse-mean</th>\n",
       "      <th>test-rmse-std</th>\n",
       "    </tr>\n",
       "  </thead>\n",
       "  <tbody>\n",
       "    <tr>\n",
       "      <td>0</td>\n",
       "      <td>0.628652</td>\n",
       "      <td>0.044566</td>\n",
       "      <td>0.629706</td>\n",
       "      <td>0.099936</td>\n",
       "    </tr>\n",
       "    <tr>\n",
       "      <td>1</td>\n",
       "      <td>0.602519</td>\n",
       "      <td>0.046593</td>\n",
       "      <td>0.602882</td>\n",
       "      <td>0.104697</td>\n",
       "    </tr>\n",
       "    <tr>\n",
       "      <td>2</td>\n",
       "      <td>0.577101</td>\n",
       "      <td>0.044114</td>\n",
       "      <td>0.580055</td>\n",
       "      <td>0.109262</td>\n",
       "    </tr>\n",
       "    <tr>\n",
       "      <td>3</td>\n",
       "      <td>0.554404</td>\n",
       "      <td>0.046397</td>\n",
       "      <td>0.560652</td>\n",
       "      <td>0.113456</td>\n",
       "    </tr>\n",
       "    <tr>\n",
       "      <td>4</td>\n",
       "      <td>0.538614</td>\n",
       "      <td>0.047732</td>\n",
       "      <td>0.544446</td>\n",
       "      <td>0.117174</td>\n",
       "    </tr>\n",
       "  </tbody>\n",
       "</table>\n",
       "</div>"
      ],
      "text/plain": [
       "   train-rmse-mean  train-rmse-std  test-rmse-mean  test-rmse-std\n",
       "0         0.628652        0.044566        0.629706       0.099936\n",
       "1         0.602519        0.046593        0.602882       0.104697\n",
       "2         0.577101        0.044114        0.580055       0.109262\n",
       "3         0.554404        0.046397        0.560652       0.113456\n",
       "4         0.538614        0.047732        0.544446       0.117174"
      ]
     },
     "execution_count": 28,
     "metadata": {},
     "output_type": "execute_result"
    }
   ],
   "source": [
    "cv_results.head()"
   ]
  },
  {
   "cell_type": "code",
   "execution_count": 29,
   "metadata": {},
   "outputs": [
    {
     "name": "stdout",
     "output_type": "stream",
     "text": [
      "49    0.461445\n",
      "Name: test-rmse-mean, dtype: float64\n"
     ]
    }
   ],
   "source": [
    "print((cv_results[\"test-rmse-mean\"]).tail(1))"
   ]
  },
  {
   "cell_type": "code",
   "execution_count": 34,
   "metadata": {},
   "outputs": [
    {
     "data": {
      "image/png": "[encoded data removed]",
      "text/plain": [
       "<Figure size 360x360 with 1 Axes>"
      ]
     },
     "metadata": {
      "needs_background": "light"
     },
     "output_type": "display_data"
    }
   ],
   "source": [
    "import matplotlib.pyplot as plt \n",
    "xgb.plot_importance(xg_reg)\n",
    "plt.rcParams['figure.figsize'] = [5, 5]\n",
    "plt.show()"
   ]
  }
 ],
 "metadata": {
  "kernelspec": {
   "display_name": "Python 3",
   "language": "python",
   "name": "python3"
  },
  "language_info": {
   "codemirror_mode": {
    "name": "ipython",
    "version": 3
   },
   "file_extension": ".py",
   "mimetype": "text/x-python",
   "name": "python",
   "nbconvert_exporter": "python",
   "pygments_lexer": "ipython3",
   "version": "3.7.3"
  }
 },
 "nbformat": 4,
 "nbformat_minor": 2
}
